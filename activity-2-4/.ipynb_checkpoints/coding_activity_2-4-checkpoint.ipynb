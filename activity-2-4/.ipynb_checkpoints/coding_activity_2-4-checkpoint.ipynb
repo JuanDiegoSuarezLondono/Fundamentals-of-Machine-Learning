{
 "cells": [
  {
   "cell_type": "markdown",
   "metadata": {
    "deletable": false,
    "editable": false,
    "nbgrader": {
     "checksum": "4a4541a86150819396d6fe00c4c186e6",
     "grade": false,
     "grade_id": "cell-1087582e116fd58d",
     "locked": true,
     "schema_version": 1,
     "solution": false
    }
   },
   "source": [
    "## Codio Activity 2.4: Measures of Center and Spread with `pandas`\n",
    "\n",
    "**Expected Time: 60 Minutes**\n",
    "\n",
    "**Total Points: 20**\n",
    "\n",
    "Measures of central tendency for datasets are typically mean, median, mode, variance, and standard deviation. We will explore mode in later modules. This assignment focuses on using pandas to compute numerical summaries of data. You will load in a dataset and compute the mean, median, variance, and standard deviation of numeric features in the data. You will also examine the spread of the data using quartiles and the interquartile range, also identifying outliers using the  1.5×𝐼𝑄𝑅  rule.\n",
    "\n",
    "\n",
    "## Index:\n",
    "\n",
    "- [Problem 1](#Problem-1:-Load-the-Data)\n",
    "- [Problem 2](#Problem-2:-Base-Salary-Distribution-Mean)\n",
    "- [Problem 3](#Problem-3:-Base-Salary-Distribution-Median)\n",
    "- [Problem 4](#Problem-4:-Determining-Quartiles)\n",
    "- [Problem 5](#Problem-5:-Interquartile-Range)\n",
    "- [Problem 6](#Problem-6:-Rule-for-Outliers)\n",
    "- [Problem 7](#Problem-7:-Dropping-Outliers)\n",
    "- [Problem 8](#Finding-the-Mean-with-no-Outliers)\n",
    "- [Problem 9]()\n",
    "- [Problem 10](#Standard-Deviation-with-`numpy`)\n",
    "- [Problem 11](#Standard-Deviation-with-`pandas`)\n",
    "- [Problem 12]()\n",
    "- [Problem 13](#Measure-of-Spread)"
   ]
  },
  {
   "cell_type": "code",
   "execution_count": 2,
   "metadata": {
    "deletable": false,
    "editable": false,
    "nbgrader": {
     "checksum": "b775827ae11f9d288abb7e66959ad57f",
     "grade": false,
     "grade_id": "cell-57a8bb6419472979",
     "locked": true,
     "schema_version": 1,
     "solution": false
    }
   },
   "outputs": [],
   "source": [
    "import pandas as pd\n",
    "import matplotlib.pyplot as plt\n",
    "import numpy as np"
   ]
  },
  {
   "cell_type": "markdown",
   "metadata": {
    "deletable": false,
    "editable": false,
    "nbgrader": {
     "checksum": "3ce6b10e2ea0e3281b36e462342d82e8",
     "grade": false,
     "grade_id": "cell-4f553efc8f6f1594",
     "locked": true,
     "schema_version": 1,
     "solution": false
    }
   },
   "source": [
    "### The Data\n",
    "\n",
    "\n",
    "![](images/payroll.png)\n",
    "The dataset for this assignment comes from New York City's Open Data, and contains information about the citywide payroll data.  Below, you are to load the data from a `.csv` file.  "
   ]
  },
  {
   "cell_type": "markdown",
   "metadata": {
    "deletable": false,
    "editable": false,
    "nbgrader": {
     "checksum": "9e93e9c3669801c0db677d8ded514d05",
     "grade": false,
     "grade_id": "cell-e3db3a4e7a649c16",
     "locked": true,
     "schema_version": 1,
     "solution": false
    }
   },
   "source": [
    "[Back to top](#Index:) \n",
    "\n",
    "### Problem 1:  Load the Data\n",
    "\n",
    "**1 Point**\n",
    "\n",
    "Below, load the data file located in the `data` folder named `nyc_salaries.csv`.  Assign your DataFrame to `nyc_salary_data`."
   ]
  },
  {
   "cell_type": "code",
   "execution_count": null,
   "metadata": {
    "deletable": false,
    "nbgrader": {
     "checksum": "2a468619f9c29efbbe56b2f2583b71cc",
     "grade": false,
     "grade_id": "cell-6291888fc0a2de17",
     "locked": false,
     "schema_version": 1,
     "solution": true
    }
   },
   "outputs": [],
   "source": [
    "###GRADED\n",
    "\n",
    "nyc_salary_data = ''\n",
    "\n",
    "# YOUR CODE HERE\n",
    "nyc_salary_data = "
   ]
  },
  {
   "cell_type": "code",
   "execution_count": null,
   "metadata": {
    "deletable": false,
    "editable": false,
    "nbgrader": {
     "checksum": "18b09c8c414541d5af2cefdce95ece2d",
     "grade": true,
     "grade_id": "cell-73d11f659ef346c5",
     "locked": true,
     "points": 1,
     "schema_version": 1,
     "solution": false
    }
   },
   "outputs": [],
   "source": []
  },
  {
   "cell_type": "markdown",
   "metadata": {
    "deletable": false,
    "editable": false,
    "nbgrader": {
     "checksum": "5e6e1a39a458d1a91fe297ada0cddb03",
     "grade": false,
     "grade_id": "cell-b4c16300003a1941",
     "locked": true,
     "schema_version": 1,
     "solution": false
    }
   },
   "source": [
    "### Examine the Data\n",
    "\n",
    "Now that the data is loaded, information about the datatypes and missing values as well as a quick look at the first five rows of the data can be had with the `.info()` and `.head()` methods."
   ]
  },
  {
   "cell_type": "code",
   "execution_count": null,
   "metadata": {
    "deletable": false,
    "editable": false,
    "nbgrader": {
     "checksum": "acdee37129065302049a6373221c1709",
     "grade": false,
     "grade_id": "cell-89375439b0f16365",
     "locked": true,
     "schema_version": 1,
     "solution": false
    }
   },
   "outputs": [],
   "source": [
    "nyc_salary_data.info()"
   ]
  },
  {
   "cell_type": "code",
   "execution_count": null,
   "metadata": {
    "deletable": false,
    "editable": false,
    "nbgrader": {
     "checksum": "76507c4345e573cb7ff92011c71e3e3e",
     "grade": false,
     "grade_id": "cell-307db90cf5d8795f",
     "locked": true,
     "schema_version": 1,
     "solution": false
    }
   },
   "outputs": [],
   "source": [
    "nyc_salary_data.head()"
   ]
  },
  {
   "cell_type": "markdown",
   "metadata": {
    "deletable": false,
    "editable": false,
    "nbgrader": {
     "checksum": "6d4cbbef85b12f28b9930e422e51d979",
     "grade": false,
     "grade_id": "cell-b2c3403bad0b7770",
     "locked": true,
     "schema_version": 1,
     "solution": false
    }
   },
   "source": [
    "[Back to top](#Index:) \n",
    "\n",
    "### Problem 2: Base Salary Distribution Mean\n",
    "\n",
    "**1 Point**\n",
    "\n",
    "Use pandas to determine the mean of the `base_salary` column.  Assign your answer to the variable `ans_2` below."
   ]
  },
  {
   "cell_type": "code",
   "execution_count": null,
   "metadata": {
    "deletable": false,
    "editable": false,
    "nbgrader": {
     "checksum": "e68222ae2d5420979fc46e7d2d4eb06f",
     "grade": false,
     "grade_id": "cell-da1352c3bec4bf1f",
     "locked": true,
     "schema_version": 1,
     "solution": false
    }
   },
   "outputs": [],
   "source": [
    "nyc_salary_data['base_salary'].hist()"
   ]
  },
  {
   "cell_type": "code",
   "execution_count": null,
   "metadata": {
    "deletable": false,
    "nbgrader": {
     "checksum": "3e1a243393f81d869d80bbc00b388c34",
     "grade": false,
     "grade_id": "cell-cd78182db2201756",
     "locked": false,
     "schema_version": 1,
     "solution": true
    }
   },
   "outputs": [],
   "source": [
    "###GRADED\n",
    "\n",
    "ans_2 = ''\n",
    "\n",
    "# YOUR CODE HERE\n",
    "raise NotImplementedError()"
   ]
  },
  {
   "cell_type": "code",
   "execution_count": null,
   "metadata": {
    "deletable": false,
    "editable": false,
    "nbgrader": {
     "checksum": "9a640b2be2cab8658078a56d55a30d27",
     "grade": true,
     "grade_id": "cell-021c7662ba093b0b",
     "locked": true,
     "points": 1,
     "schema_version": 1,
     "solution": false
    }
   },
   "outputs": [],
   "source": []
  },
  {
   "cell_type": "markdown",
   "metadata": {
    "deletable": false,
    "editable": false,
    "nbgrader": {
     "checksum": "f6f4f820244f678ff851e8dbaa73f02b",
     "grade": false,
     "grade_id": "cell-72a754ce83ee3b3b",
     "locked": true,
     "schema_version": 1,
     "solution": false
    }
   },
   "source": [
    "[Back to top](#Index:) \n",
    "\n",
    "### Problem 3: Base Salary Distribution Median\n",
    "\n",
    "\n",
    "**1 Point**\n",
    "\n",
    "\n",
    "Use the pandas `.median()` method to find the median of the `base_salary` column. Assign your answer to the variable `ans_3` below."
   ]
  },
  {
   "cell_type": "code",
   "execution_count": null,
   "metadata": {
    "deletable": false,
    "nbgrader": {
     "checksum": "7116ba86b3a29b69b0d0e74ebf76943b",
     "grade": false,
     "grade_id": "cell-0851cc6cc89a3fba",
     "locked": false,
     "schema_version": 1,
     "solution": true
    }
   },
   "outputs": [],
   "source": [
    "###GRADED\n",
    "\n",
    "ans_3 = ''\n",
    "\n",
    "# YOUR CODE HERE\n",
    "raise NotImplementedError()"
   ]
  },
  {
   "cell_type": "code",
   "execution_count": null,
   "metadata": {
    "deletable": false,
    "editable": false,
    "nbgrader": {
     "checksum": "7c40cd67efc1ffee60fb43b149244866",
     "grade": true,
     "grade_id": "cell-db0b2a794549b1cb",
     "locked": true,
     "points": 1,
     "schema_version": 1,
     "solution": false
    }
   },
   "outputs": [],
   "source": []
  },
  {
   "cell_type": "markdown",
   "metadata": {
    "deletable": false,
    "editable": false,
    "nbgrader": {
     "checksum": "c16c9f48ded4163d225f676b3b1e95bf",
     "grade": false,
     "grade_id": "cell-46bcd666fce27157",
     "locked": true,
     "schema_version": 1,
     "solution": false
    }
   },
   "source": [
    "[Back to top](#Index:) \n",
    "\n",
    "### Problem 4: Determining Quartiles\n",
    "\n",
    "**2 Points**\n",
    "\n",
    "The first quartile in our data is found by arranging the data from least to greatest and determining the median of the lower half of the data.  The third quartile is the median of the upper half of the data.  Pandas has a `.quantile()` method that accepts an argument as a single value or list of values of quantiles to compute.  Use the `.quantile()` method to determine the first and third quartile of the data.  Assign your answers to the variables `first_quartile` and `third_quartile` below."
   ]
  },
  {
   "cell_type": "code",
   "execution_count": null,
   "metadata": {
    "deletable": false,
    "nbgrader": {
     "checksum": "3fc911df1061d3fa19bfe2796ba49011",
     "grade": false,
     "grade_id": "cell-a5e27f0519a15a18",
     "locked": false,
     "schema_version": 1,
     "solution": true
    }
   },
   "outputs": [],
   "source": [
    "###GRADED\n",
    "\n",
    "first_quartile = ''\n",
    "third_quartile = ''\n",
    "\n",
    "# YOUR CODE HERE\n",
    "raise NotImplementedError()"
   ]
  },
  {
   "cell_type": "code",
   "execution_count": null,
   "metadata": {
    "deletable": false,
    "editable": false,
    "nbgrader": {
     "checksum": "2315d1245ed57847a59ecbded695b4fc",
     "grade": true,
     "grade_id": "cell-4545ee47429c4ac0",
     "locked": true,
     "points": 2,
     "schema_version": 1,
     "solution": false
    }
   },
   "outputs": [],
   "source": []
  },
  {
   "cell_type": "markdown",
   "metadata": {
    "deletable": false,
    "editable": false,
    "nbgrader": {
     "checksum": "5ce783ecddb0bdd783b5d2d12ded8dc3",
     "grade": false,
     "grade_id": "cell-00ad71de2eb65fbb",
     "locked": true,
     "schema_version": 1,
     "solution": false
    }
   },
   "source": [
    "[Back to top](#Index:) \n",
    "\n",
    "### Problem 5: Interquartile Range\n",
    "\n",
    "**1 Point**\n",
    "\n",
    "The Interquartile Range (IQR) is the distance between the third and first quartile.  \n",
    "\n",
    "$$\\text{IQR} = Q_3 - Q_1$$\n",
    "\n",
    "Use your work from problem 4 to determine the IQR for the `base_salary` column and assign it to the `iqr` variable below."
   ]
  },
  {
   "cell_type": "code",
   "execution_count": null,
   "metadata": {
    "deletable": false,
    "nbgrader": {
     "checksum": "e3e0e35c411e088babd5ba6c961308ed",
     "grade": false,
     "grade_id": "cell-f282ff23c443a932",
     "locked": false,
     "schema_version": 1,
     "solution": true
    }
   },
   "outputs": [],
   "source": [
    "###GRADED\n",
    "\n",
    "iqr = ''\n",
    "\n",
    "# YOUR CODE HERE\n",
    "raise NotImplementedError()"
   ]
  },
  {
   "cell_type": "code",
   "execution_count": null,
   "metadata": {
    "deletable": false,
    "editable": false,
    "nbgrader": {
     "checksum": "beac8210160abb5c7d4480f393f37a39",
     "grade": true,
     "grade_id": "cell-72b48ffc6a4d8b0f",
     "locked": true,
     "points": 1,
     "schema_version": 1,
     "solution": false
    }
   },
   "outputs": [],
   "source": []
  },
  {
   "cell_type": "markdown",
   "metadata": {
    "deletable": false,
    "editable": false,
    "nbgrader": {
     "checksum": "e6d9e8d1a6fd9c78d1c8f6859c8c0701",
     "grade": false,
     "grade_id": "cell-6595db2df62a8894",
     "locked": true,
     "schema_version": 1,
     "solution": false
    }
   },
   "source": [
    "[Back to top](#Index:) \n",
    "\n",
    "### Problem 6: Rule for Outliers\n",
    "\n",
    "**2 Points**\n",
    "\n",
    "\n",
    "We can use the IQR to determine boundaries for outliers.  One such rule of thumb is that any values $1.5 \\times IQR$ above the third quartile or below the first are considered outliers.  Below you are to determine the upper and lower boundaries for outliers using this rule, assign your solutions to the variables `lower` and `upper` below."
   ]
  },
  {
   "cell_type": "code",
   "execution_count": null,
   "metadata": {
    "deletable": false,
    "nbgrader": {
     "checksum": "0c6bf76298fd1f60dd86883a689aef45",
     "grade": false,
     "grade_id": "cell-d4483aa3bbe2f696",
     "locked": false,
     "schema_version": 1,
     "solution": true
    }
   },
   "outputs": [],
   "source": [
    "###GRADED\n",
    "\n",
    "lower = ''\n",
    "upper = ''\n",
    "\n",
    "# YOUR CODE HERE\n",
    "raise NotImplementedError()"
   ]
  },
  {
   "cell_type": "code",
   "execution_count": null,
   "metadata": {
    "deletable": false,
    "editable": false,
    "nbgrader": {
     "checksum": "cf090ff8aef183ef63e768e901091bbd",
     "grade": true,
     "grade_id": "cell-8d9d8d56d9e50b1c",
     "locked": true,
     "points": 2,
     "schema_version": 1,
     "solution": false
    }
   },
   "outputs": [],
   "source": []
  },
  {
   "cell_type": "markdown",
   "metadata": {
    "deletable": false,
    "editable": false,
    "nbgrader": {
     "checksum": "7fb0170416302783adb70ed059e7aeb8",
     "grade": false,
     "grade_id": "cell-1085da663296e047",
     "locked": true,
     "schema_version": 1,
     "solution": false
    }
   },
   "source": [
    "[Back to top](#Index:) \n",
    "\n",
    "### Problem 7: Dropping Outliers\n",
    "\n",
    "\n",
    "**1 Point**\n",
    "\n",
    "\n",
    "With the upper and lower boundaries in place, we want to drop outliers from the dataset.  Use pandas to limit the data based on outliers using the $1.5 \\times IQR$ rule on the `base_salary` column.  Assign the resulting DataFrame to `salaries_no_outlier` below."
   ]
  },
  {
   "cell_type": "code",
   "execution_count": null,
   "metadata": {
    "deletable": false,
    "nbgrader": {
     "checksum": "d8edc85a9070553e8e65bb96a429d430",
     "grade": false,
     "grade_id": "cell-04ad44c7e6a67427",
     "locked": false,
     "schema_version": 1,
     "solution": true
    }
   },
   "outputs": [],
   "source": [
    "###GRADED\n",
    "\n",
    "salaries_no_outlier = ''\n",
    "\n",
    "# YOUR CODE HERE\n",
    "raise NotImplementedError()"
   ]
  },
  {
   "cell_type": "code",
   "execution_count": null,
   "metadata": {
    "deletable": false,
    "editable": false,
    "nbgrader": {
     "checksum": "e7c7e350847cda8370d73f7276622d67",
     "grade": true,
     "grade_id": "cell-662b72b4625742d3",
     "locked": true,
     "points": 1,
     "schema_version": 1,
     "solution": false
    }
   },
   "outputs": [],
   "source": []
  },
  {
   "cell_type": "markdown",
   "metadata": {
    "deletable": false,
    "editable": false,
    "nbgrader": {
     "checksum": "bff77fffbc129d38acdf9d9b92681de7",
     "grade": false,
     "grade_id": "cell-90cc908f40a87441",
     "locked": true,
     "schema_version": 1,
     "solution": false
    }
   },
   "source": [
    "[Back to top](#Index:) \n",
    "\n",
    "### Problem 8: Finding the Mean with no Outliers\n",
    "\n",
    "**1 Point**\n",
    "\n",
    "Now that the outliers have been removed, we determine the mean of the `base_salary` column.  Assign your answer to `mean_no_outliers` below."
   ]
  },
  {
   "cell_type": "code",
   "execution_count": null,
   "metadata": {
    "deletable": false,
    "nbgrader": {
     "checksum": "5e55a1dec5a732ddd24a3ea9d7ad7193",
     "grade": false,
     "grade_id": "cell-3e40439d3f97b5e1",
     "locked": false,
     "schema_version": 1,
     "solution": true
    }
   },
   "outputs": [],
   "source": [
    "###GRADED\n",
    "\n",
    "mean_no_outliers = ''\n",
    "\n",
    "# YOUR CODE HERE\n",
    "raise NotImplementedError()"
   ]
  },
  {
   "cell_type": "code",
   "execution_count": null,
   "metadata": {
    "deletable": false,
    "editable": false,
    "nbgrader": {
     "checksum": "d80a6bc8792cc5917f69e5b5aab5d0ef",
     "grade": true,
     "grade_id": "cell-1ced8f8030307f68",
     "locked": true,
     "points": 1,
     "schema_version": 1,
     "solution": false
    }
   },
   "outputs": [],
   "source": []
  },
  {
   "cell_type": "markdown",
   "metadata": {
    "deletable": false,
    "editable": false,
    "nbgrader": {
     "checksum": "0d4a2a36654023bf08322229694b7138",
     "grade": false,
     "grade_id": "cell-0ea498148d875ba5",
     "locked": true,
     "schema_version": 1,
     "solution": false
    }
   },
   "source": [
    "[Back to top](#Index:) \n",
    "\n",
    "### Problem 9: Finding the Median with no Outliers\n",
    "\n",
    "**2 Points**\n",
    "\n",
    "\n",
    "Now, determine the median of the `base_salary` column with the outlier removed.  Assign your solution to the variable `median_no_outliers` below."
   ]
  },
  {
   "cell_type": "code",
   "execution_count": null,
   "metadata": {
    "deletable": false,
    "nbgrader": {
     "checksum": "57b1ea2cc8b30c3d5402857a8bbd0831",
     "grade": false,
     "grade_id": "cell-baac95078eee6981",
     "locked": false,
     "schema_version": 1,
     "solution": true
    }
   },
   "outputs": [],
   "source": [
    "###GRADED\n",
    "\n",
    "median_no_outliers = ''\n",
    "\n",
    "# YOUR CODE HERE\n",
    "raise NotImplementedError()"
   ]
  },
  {
   "cell_type": "code",
   "execution_count": null,
   "metadata": {
    "deletable": false,
    "editable": false,
    "nbgrader": {
     "checksum": "2b6cebc88c46c6ac33d42094d61e244b",
     "grade": true,
     "grade_id": "cell-44be113cb3469259",
     "locked": true,
     "points": 2,
     "schema_version": 1,
     "solution": false
    }
   },
   "outputs": [],
   "source": []
  },
  {
   "cell_type": "markdown",
   "metadata": {
    "deletable": false,
    "editable": false,
    "nbgrader": {
     "checksum": "c811f18f03ca44cb2dcd59fc4e525579",
     "grade": false,
     "grade_id": "cell-292754f7d6cf5c3b",
     "locked": true,
     "schema_version": 1,
     "solution": false
    }
   },
   "source": [
    "[Back to top](#Index:) \n",
    "\n",
    "### Problem 10: Standard Deviation with `numpy`\n",
    "\n",
    "**2 Points**\n",
    "\n",
    "\n",
    "An alternative measure for the spread of a dataset to the IQR is the **standard deviation**.  Both pandas and numpy have functions for computing the standard deviation, however they have different assumptions about the data.  To begin, we will use the `np.std()` method to determine the standard deviation of the `base_salary` column from both our datasets.  Assign your results to the variable `std_numpy_outliers` and `std_numpy_no_outliers` below."
   ]
  },
  {
   "cell_type": "code",
   "execution_count": null,
   "metadata": {
    "deletable": false,
    "nbgrader": {
     "checksum": "f0f601fb041556237b6c7c69e08235ee",
     "grade": false,
     "grade_id": "cell-0dc0a6af67b36a7e",
     "locked": false,
     "schema_version": 1,
     "solution": true
    }
   },
   "outputs": [],
   "source": [
    "###GRADED\n",
    "\n",
    "std_numpy_outliers = ''\n",
    "std_numpy_no_outliers = ''\n",
    "\n",
    "# YOUR CODE HERE\n",
    "raise NotImplementedError()"
   ]
  },
  {
   "cell_type": "code",
   "execution_count": null,
   "metadata": {
    "deletable": false,
    "editable": false,
    "nbgrader": {
     "checksum": "11cc144bc7cf4d0baed2445ec91897f3",
     "grade": true,
     "grade_id": "cell-1ee20e9b21ae7f57",
     "locked": true,
     "points": 2,
     "schema_version": 1,
     "solution": false
    }
   },
   "outputs": [],
   "source": []
  },
  {
   "cell_type": "markdown",
   "metadata": {
    "deletable": false,
    "editable": false,
    "nbgrader": {
     "checksum": "6030a306918f1f9e48b75107243e1583",
     "grade": false,
     "grade_id": "cell-12476fd3906786d0",
     "locked": true,
     "schema_version": 1,
     "solution": false
    }
   },
   "source": [
    "[Back to top](#Index:) \n",
    "\n",
    "### Problem 11: Standard Deviation with `pandas`\n",
    "\n",
    "**2 Points**\n",
    "\n",
    "\n",
    "\n",
    "Now, we will use pandas to determine the standard deviation of the `base_salary` column.  Assign the standard deviation from pandas to `std_pandas_no_outliers` and `std_pandas_outliers` respectively below."
   ]
  },
  {
   "cell_type": "code",
   "execution_count": null,
   "metadata": {
    "deletable": false,
    "nbgrader": {
     "checksum": "ab3fbc56165bd2b5e92feba68bd1c373",
     "grade": false,
     "grade_id": "cell-83987103bba54493",
     "locked": false,
     "schema_version": 1,
     "solution": true
    }
   },
   "outputs": [],
   "source": [
    "###GRADED\n",
    "\n",
    "std_pandas_outliers = ''\n",
    "std_pandas_no_outliers = ''\n",
    "\n",
    "# YOUR CODE HERE\n",
    "raise NotImplementedError()"
   ]
  },
  {
   "cell_type": "code",
   "execution_count": null,
   "metadata": {
    "deletable": false,
    "editable": false,
    "nbgrader": {
     "checksum": "93e396064d304e83aeba840da4b8dce4",
     "grade": true,
     "grade_id": "cell-4e5d959f773a99c6",
     "locked": true,
     "points": 2,
     "schema_version": 1,
     "solution": false
    }
   },
   "outputs": [],
   "source": []
  },
  {
   "cell_type": "markdown",
   "metadata": {
    "deletable": false,
    "editable": false,
    "nbgrader": {
     "checksum": "c23f838fa24ee901a3b327d4ab2cbccb",
     "grade": false,
     "grade_id": "cell-52d70c1c68b13d51",
     "locked": true,
     "schema_version": 1,
     "solution": false
    }
   },
   "source": [
    "### Why are these different?\n",
    "\n",
    "Pandas and NumPy make different assumptions about the data, which is why we receive slightly different results.  This involves the default degree of freedom argument in the functions.  From the numpy docs we have:\n",
    "\n",
    "```\n",
    "ddof: int, optional\n",
    "Means Delta Degrees of Freedom. The divisor used in calculations is N - ddof, where N represents the number of elements. By default ddof is zero.\n",
    "```\n",
    "\n",
    "and from pandas we find:\n",
    "\n",
    "```\n",
    "ddof: int, default 1\n",
    "Delta Degrees of Freedom. The divisor used in calculations is N - ddof, where N represents the number of elements.\n",
    "```\n",
    "\n",
    "The main reason for the different assumptions is motivated by the fact that all the deviations from the mean will add to zero.  This means we would always know the the last deviation if we know the previous $n-1$.  Only $n-1$ are able to vary freely so the average is determined by dividing the total by $n-1$.  In practice the values won't differ greatly, it is important to recognize that there are some different assumptions however.  "
   ]
  },
  {
   "cell_type": "markdown",
   "metadata": {
    "deletable": false,
    "editable": false,
    "nbgrader": {
     "checksum": "48e54f336344a5767914cb06bc9a5a10",
     "grade": false,
     "grade_id": "cell-5ed6a1941c009934",
     "locked": true,
     "schema_version": 1,
     "solution": false
    }
   },
   "source": [
    "### A Second Small Example\n",
    "\n",
    "The data below relates to salmon smolts (young salmon) and the reflectance of their skin as a measure for readiness for migration."
   ]
  },
  {
   "cell_type": "code",
   "execution_count": null,
   "metadata": {
    "deletable": false,
    "editable": false,
    "nbgrader": {
     "checksum": "3990de9393d28ef2e8c980bd99eddf5a",
     "grade": false,
     "grade_id": "cell-30a95ce8ab2f4916",
     "locked": true,
     "schema_version": 1,
     "solution": false
    }
   },
   "outputs": [],
   "source": [
    "smolt = pd.read_csv('data/smolts.csv', index_col=  0)"
   ]
  },
  {
   "cell_type": "code",
   "execution_count": null,
   "metadata": {
    "deletable": false,
    "editable": false,
    "nbgrader": {
     "checksum": "ce649cdd889a0ae92a8265ef76c554f9",
     "grade": false,
     "grade_id": "cell-816863c823592a27",
     "locked": true,
     "schema_version": 1,
     "solution": false
    }
   },
   "outputs": [],
   "source": [
    "smolt.head()"
   ]
  },
  {
   "cell_type": "markdown",
   "metadata": {
    "deletable": false,
    "editable": false,
    "nbgrader": {
     "checksum": "2dfa2e3429c28ea9ea11b1fa8c93d0b8",
     "grade": false,
     "grade_id": "cell-f54e6eff6b6f3732",
     "locked": true,
     "schema_version": 1,
     "solution": false
    }
   },
   "source": [
    "[Back to top](#Index:) \n",
    "\n",
    "### Problem 12: Measure of Center\n",
    "\n",
    "**2 Points**\n",
    "\n",
    "\n",
    "Determine the mean and median of the `Reflectance` column, save these to the variable `smolt_mean` and `smolt_median` below.  Which of the measures do you believe more appropriate?"
   ]
  },
  {
   "cell_type": "code",
   "execution_count": null,
   "metadata": {
    "deletable": false,
    "nbgrader": {
     "checksum": "e6992ae6b3484c35409b1f463e0b9294",
     "grade": false,
     "grade_id": "cell-85dd0d5626022c31",
     "locked": false,
     "schema_version": 1,
     "solution": true
    }
   },
   "outputs": [],
   "source": [
    "###GRADED\n",
    "\n",
    "smolt_mean = ''\n",
    "smolt_median = ''\n",
    "\n",
    "# YOUR CODE HERE\n",
    "raise NotImplementedError()"
   ]
  },
  {
   "cell_type": "code",
   "execution_count": null,
   "metadata": {
    "deletable": false,
    "editable": false,
    "nbgrader": {
     "checksum": "93c120f38d65c18f841e68097a251eb9",
     "grade": true,
     "grade_id": "cell-a1c3bc9c23f0fad5",
     "locked": true,
     "points": 2,
     "schema_version": 1,
     "solution": false
    }
   },
   "outputs": [],
   "source": []
  },
  {
   "cell_type": "markdown",
   "metadata": {
    "deletable": false,
    "editable": false,
    "nbgrader": {
     "checksum": "a715b851530d066ae19b7580ac10f501",
     "grade": false,
     "grade_id": "cell-5436ad9106dc3067",
     "locked": true,
     "schema_version": 1,
     "solution": false
    }
   },
   "source": [
    "[Back to top](#Index:) \n",
    "\n",
    "### Problem 13: Measure of Spread\n",
    "\n",
    "**2 Points**\n",
    "\n",
    "Compute the standard deviation and the quartiles of the `Reflectance` column using pandas. Save your results to `smolt_std`, `smolt_first_quartile` and `smolt_third_quartile` below.  Which of these do you prefer for describing the spread of the data?  "
   ]
  },
  {
   "cell_type": "code",
   "execution_count": null,
   "metadata": {
    "deletable": false,
    "nbgrader": {
     "checksum": "2328d2401d9fd1aa9186471ab627cfdd",
     "grade": false,
     "grade_id": "cell-75e152884ddedc1f",
     "locked": false,
     "schema_version": 1,
     "solution": true
    }
   },
   "outputs": [],
   "source": [
    "###GRADED\n",
    "\n",
    "smolt_std = ''\n",
    "smolt_first_quartile = ''\n",
    "smolt_third_quartile = ''\n",
    "\n",
    "# YOUR CODE HERE\n",
    "raise NotImplementedError()"
   ]
  },
  {
   "cell_type": "code",
   "execution_count": null,
   "metadata": {
    "deletable": false,
    "editable": false,
    "nbgrader": {
     "checksum": "2b6b41479dbbd117730edc4d827e5c90",
     "grade": true,
     "grade_id": "cell-1242564880582fda",
     "locked": true,
     "points": 2,
     "schema_version": 1,
     "solution": false
    }
   },
   "outputs": [],
   "source": []
  }
 ],
 "metadata": {
  "kernelspec": {
   "display_name": "Python 3",
   "language": "python",
   "name": "python3"
  },
  "language_info": {
   "codemirror_mode": {
    "name": "ipython",
    "version": 3
   },
   "file_extension": ".py",
   "mimetype": "text/x-python",
   "name": "python",
   "nbconvert_exporter": "python",
   "pygments_lexer": "ipython3",
   "version": "3.6.9"
  },
  "widgets": {
   "application/vnd.jupyter.widget-state+json": {
    "state": {},
    "version_major": 2,
    "version_minor": 0
   }
  }
 },
 "nbformat": 4,
 "nbformat_minor": 4
}
