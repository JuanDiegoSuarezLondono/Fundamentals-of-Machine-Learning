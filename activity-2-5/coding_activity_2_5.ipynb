{
 "cells": [
  {
   "cell_type": "markdown",
   "metadata": {
    "deletable": false,
    "editable": false,
    "id": "UKFFdWx8QSvi",
    "nbgrader": {
     "checksum": "6e0467ea47c8f8b41d12c31cb98d985e",
     "grade": false,
     "grade_id": "cell-df07fdb9d162d209",
     "locked": true,
     "schema_version": 1,
     "solution": false
    }
   },
   "source": [
    "## Codio Activity 2.5: Plotting Multivariate Datasets\n",
    "\n",
    "**Expected Time: 60 Minutes**\n",
    "\n",
    "**Total Points: 20**\n",
    "\n",
    "\n",
    "In this activity you will focus on creating histograms and scatterplots using `matplotlib`.  You are to generate these plots both using standard plotting commands and the utilities with pandas DataFrame's to plot as a DataFrame method.  Finally, you will customize elements of the plots using additional `matplotlib` functions.\n",
    "\n",
    "\n",
    "## Index:\n",
    "\n",
    "- [Problem 1](#Problem-1:-Load-the-Data)\n",
    "- [Problem 2](#Problem-2:-Features-for-Histograms)\n",
    "- [Problem 3](#Problem-3:-Histogram-of-Life-Expectancy)\n",
    "- [Problem 4](#Problem-4:-Adding-a-title-and-human-readable-label)\n",
    "- [Problem 5](#Problem-5:-Histogram-of-GDP)\n",
    "- [Problem 6](#Problem-6:-Customizing-the-Histogram)\n",
    "- [Problem 7](#Problem-7:-Scatterplot-of-GDP-vs.-Life-Expectancy)\n",
    "- [Problem 8](#Problem-8:-Logarithmic-Transformation)\n",
    "- [Problem 9](#Problem-9:-`pandas`-histogram)\n",
    "- [Problem 10](#Problem-10:-`pandas`-scatterplot)"
   ]
  },
  {
   "cell_type": "code",
   "execution_count": 3,
   "metadata": {
    "deletable": false,
    "editable": false,
    "id": "gzfxmKakQSvn",
    "nbgrader": {
     "checksum": "608367af44eabbf75f4bf3a3becbdfc6",
     "grade": false,
     "grade_id": "cell-28591bdc0123355b",
     "locked": true,
     "schema_version": 1,
     "solution": false
    }
   },
   "outputs": [],
   "source": [
    "import matplotlib.pyplot as plt\n",
    "import pandas as pd\n",
    "import numpy as np"
   ]
  },
  {
   "cell_type": "markdown",
   "metadata": {
    "deletable": false,
    "editable": false,
    "id": "Yn9abw6eQSvm",
    "nbgrader": {
     "checksum": "c15490a3c3cfeef1ad02a5e06a2a37fa",
     "grade": false,
     "grade_id": "cell-04ae2f5ead2c5136",
     "locked": true,
     "schema_version": 1,
     "solution": false
    }
   },
   "source": [
    "### Dataset: Gapminder\n",
    "\n",
    "![](images/gapminder-logo.svg)\n",
    "The data below has been extracted from the [*gapminder*](https://www.gapminder.org/) organization.  Documentation for the larger data sources can be found [here](https://www.gapminder.org/data/documentation/) and the implementation of the data as a python library [here](https://pypi.org/project/gapminder/).  The data contains information on the Gross Domestic Product, Life Expectancy, and Population in five year intervals for countries around the world."
   ]
  },
  {
   "cell_type": "markdown",
   "metadata": {
    "deletable": false,
    "editable": false,
    "id": "MT9xzSsDQSvo",
    "nbgrader": {
     "checksum": "eb4d7288376296fc951cff31bc5ab98c",
     "grade": false,
     "grade_id": "cell-cbb2eecd0a8ffc17",
     "locked": true,
     "schema_version": 1,
     "solution": false
    }
   },
   "source": [
    "[Back to top](#Index:) \n",
    "\n",
    "### Problem 1: Load the Data\n",
    "\n",
    "**2 Points**\n",
    "\n",
    "\n",
    "The dataset is available in the `data` folder and is named `gapminder.csv`. Load this in as `gap_df` below.  "
   ]
  },
  {
   "cell_type": "code",
   "execution_count": 4,
   "metadata": {
    "deletable": false,
    "id": "LS8P3VgmQSvo",
    "nbgrader": {
     "checksum": "bbef351898ebc0dbe4ed5c6f0905459c",
     "grade": false,
     "grade_id": "cell-0010e5bd020e9876",
     "locked": false,
     "schema_version": 1,
     "solution": true
    }
   },
   "outputs": [],
   "source": [
    "### GRADED\n",
    "\n",
    "gap_df = ''\n",
    "\n",
    "# YOUR CODE HERE\n",
    "gap_df = pd.read_csv(\"data/gapminder.csv\")\n"
   ]
  },
  {
   "cell_type": "code",
   "execution_count": null,
   "metadata": {
    "deletable": false,
    "editable": false,
    "id": "jonDK-5fQSvp",
    "nbgrader": {
     "checksum": "5f6ebec12aa4a0343f6639255386c91d",
     "grade": true,
     "grade_id": "cell-3779def4c55cadc6",
     "locked": true,
     "points": 2,
     "schema_version": 1,
     "solution": false
    }
   },
   "outputs": [],
   "source": []
  },
  {
   "cell_type": "markdown",
   "metadata": {
    "deletable": false,
    "editable": false,
    "id": "10_-bb88QSvp",
    "nbgrader": {
     "checksum": "5ae33ed02634b4d2fee0dd18c0b340ed",
     "grade": false,
     "grade_id": "cell-ca1228978d2c67a3",
     "locked": true,
     "schema_version": 1,
     "solution": false
    }
   },
   "source": [
    "[Back to top](#Index:) \n",
    "\n",
    "### Problem 2: Features for Histograms\n",
    "\n",
    "**2 Points**\n",
    "\n",
    "A histogram is a plot that is appropriate for continuous numeric features.  Examine the data and determine a list of columns that are eligible for drawing histograms.  Save your answer as a list of strings that match the column names exactly to `hist_columns` below.\n",
    "\n",
    "```python\n",
    "hist_columns = ['col_name_1', 'col_name_2', ...]\n",
    "```"
   ]
  },
  {
   "cell_type": "code",
   "execution_count": 5,
   "metadata": {
    "deletable": false,
    "id": "ih3E358VQSvq",
    "nbgrader": {
     "checksum": "13c25a2c10df2c0d201c52dde0acd3bc",
     "grade": false,
     "grade_id": "cell-e416070d10bd378e",
     "locked": false,
     "schema_version": 1,
     "solution": true
    },
    "outputId": "12e6edc1-9df0-47dd-b153-cc86c1098512"
   },
   "outputs": [
    {
     "name": "stdout",
     "output_type": "stream",
     "text": [
      "<class 'list'>\n"
     ]
    }
   ],
   "source": [
    "### GRADED\n",
    "\n",
    "hist_columns = ''\n",
    "\n",
    "# YOUR CODE HERE\n",
    "hist_columns = ['lifeExp', 'pop', 'gdpPercap']\n",
    "\n",
    "# Answer check\n",
    "print(type(hist_columns)) ##should be list"
   ]
  },
  {
   "cell_type": "code",
   "execution_count": null,
   "metadata": {
    "deletable": false,
    "editable": false,
    "id": "FZaUolvpQSvr",
    "nbgrader": {
     "checksum": "0e1cd9fc1d8fc841256e55393a56d2c0",
     "grade": true,
     "grade_id": "cell-8c0994184882e304",
     "locked": true,
     "points": 2,
     "schema_version": 1,
     "solution": false
    }
   },
   "outputs": [],
   "source": []
  },
  {
   "cell_type": "markdown",
   "metadata": {
    "deletable": false,
    "editable": false,
    "id": "LFzWPFUuQSvs",
    "nbgrader": {
     "checksum": "9375a5c1935214a8f1695bc947105f04",
     "grade": false,
     "grade_id": "cell-44c52fe09bced700",
     "locked": true,
     "schema_version": 1,
     "solution": false
    }
   },
   "source": [
    "[Back to top](#Index:) \n",
    "\n",
    "### Problem 3: Histogram of Life Expectancy\n",
    "\n",
    "**2 Points**\n",
    "\n",
    "Use the `matplotlib` histogram with `plt.hist()` to create a histogram of the Life Expectancy column.  Use the `plt.savefig()` method to save the image as `life_exp_hist.png` in the `images` folder.\n",
    "\n",
    "Please note that because Codio autograder is not able to grade visualizations meaningfully, this quesiton is designed to be graded complete/incomplete. To collect points for the completed assignment, you have to submit your assignment."
   ]
  },
  {
   "cell_type": "code",
   "execution_count": null,
   "metadata": {
    "deletable": false,
    "id": "MsB64Bx-QSvs",
    "nbgrader": {
     "checksum": "9536ba4d181848a83720aec093a6f56e",
     "grade": false,
     "grade_id": "cell-e7f239fd263be32b",
     "locked": false,
     "schema_version": 1,
     "solution": true
    }
   },
   "outputs": [
    {
     "data": {
      "image/png": "[encoded data removed]",
      "text/plain": [
       "<Figure size 432x288 with 1 Axes>"
      ]
     },
     "metadata": {
      "needs_background": "light"
     },
     "output_type": "display_data"
    }
   ],
   "source": [
    "### GRADED\n",
    "\n",
    "# YOUR CODE HERE\n",
    "life_exp_data = gap_df['lifeExp']\n",
    "plt.hist(life_exp_data)\n",
    "plt.savefig('images/life_exp_hist.png')\n"
   ]
  },
  {
   "cell_type": "code",
   "execution_count": null,
   "metadata": {
    "deletable": false,
    "editable": false,
    "nbgrader": {
     "checksum": "cd011e89582f306bdf75a688ddfacd74",
     "grade": true,
     "grade_id": "cell-0c5a7796c9fc1a1f",
     "locked": true,
     "points": 2,
     "schema_version": 1,
     "solution": false
    }
   },
   "outputs": [],
   "source": []
  },
  {
   "cell_type": "markdown",
   "metadata": {
    "deletable": false,
    "editable": false,
    "id": "1dYF6EQnQSvs",
    "nbgrader": {
     "checksum": "cc4f845b139d17df2293b59383b8d9fd",
     "grade": false,
     "grade_id": "cell-84ceb7a00f5d8caf",
     "locked": true,
     "schema_version": 1,
     "solution": false
    }
   },
   "source": [
    "[Back to top](#Index:) \n",
    "\n",
    "### Problem 4: Adding a title and human readable label\n",
    "\n",
    "**2 Points**\n",
    "\n",
    "Use the `plt.title()` method to add the title \"Histogram of Life Expectancy\".  Also, use the `plt.xlabel()` method to add a label to the x-axis \"Life Expectancy\".  Save your image as `hist2.png` to the `image` folder.\n",
    "\n",
    "Please note that because Codio autograder is not able to grade visualizations meaningfully, this quesiton is designed to be graded complete/incomplete. To collect points for the completed assignment, you have to submit your assignment."
   ]
  },
  {
   "cell_type": "code",
   "execution_count": null,
   "metadata": {
    "deletable": false,
    "id": "9klJdfi7QSvt",
    "nbgrader": {
     "checksum": "4c595f46627eec2a45ca69afd10093d9",
     "grade": false,
     "grade_id": "cell-9bb552338410dd34",
     "locked": false,
     "schema_version": 1,
     "solution": true
    }
   },
   "outputs": [
    {
     "data": {
      "image/png": "[encoded data removed]",
      "text/plain": [
       "<Figure size 432x288 with 1 Axes>"
      ]
     },
     "metadata": {
      "needs_background": "light"
     },
     "output_type": "display_data"
    }
   ],
   "source": [
    "### GRADED\n",
    "\n",
    "# YOUR CODE HERE\n",
    "plt.hist(life_exp_data)\n",
    "plt.xlabel('Life Expectancy')\n",
    "plt.title('Histogram of Life Expectancy')\n",
    "plt.savefig('images/hist2.png')"
   ]
  },
  {
   "cell_type": "code",
   "execution_count": null,
   "metadata": {
    "deletable": false,
    "editable": false,
    "nbgrader": {
     "checksum": "7f66bfc046b2809cc4498e2e6ccc919f",
     "grade": true,
     "grade_id": "cell-52944515702c763d",
     "locked": true,
     "points": 2,
     "schema_version": 1,
     "solution": false
    }
   },
   "outputs": [],
   "source": []
  },
  {
   "cell_type": "markdown",
   "metadata": {
    "deletable": false,
    "editable": false,
    "id": "ZIVUhAH4QSvt",
    "nbgrader": {
     "checksum": "b52d599a86300c3c72eb230f7c011730",
     "grade": false,
     "grade_id": "cell-166b53890d99e892",
     "locked": true,
     "schema_version": 1,
     "solution": false
    }
   },
   "source": [
    "[Back to top](#Index:) \n",
    "\n",
    "### Problem 5: Histogram of GDP\n",
    "\n",
    "**2 Points**\n",
    "\n",
    "Use matplotlib to create a histogram of the GDP data.  Add the title \"Histogram of GDP per capita\" and an x-label \"GDP Per Capita\".  Save your histogram as `gdp_hist.png` to the images folder.\n",
    "\n",
    "Please note that because Codio autograder is not able to grade visualizations meaningfully, this quesiton is designed to be graded complete/incomplete. To collect points for the completed assignment, you have to submit your assignment."
   ]
  },
  {
   "cell_type": "code",
   "execution_count": null,
   "metadata": {
    "deletable": false,
    "id": "oOPIA2PnQSvt",
    "nbgrader": {
     "checksum": "95cee748e3a8b8b57650168d1d34c07a",
     "grade": false,
     "grade_id": "cell-46cd90759f92036a",
     "locked": false,
     "schema_version": 1,
     "solution": true
    }
   },
   "outputs": [
    {
     "data": {
      "image/png": "[encoded data removed]",
      "text/plain": [
       "<Figure size 432x288 with 1 Axes>"
      ]
     },
     "metadata": {
      "needs_background": "light"
     },
     "output_type": "display_data"
    }
   ],
   "source": [
    "### GRADED\n",
    "\n",
    "# YOUR CODE HERE\n",
    "gdp = gap_df['gdpPercap']\n",
    "plt.hist(gdp)\n",
    "plt.xlabel('GDP Per Capita')\n",
    "plt.title('Histogram of GDP per capita')\n",
    "plt.savefig('images/gdp_hist.png')\n"
   ]
  },
  {
   "cell_type": "code",
   "execution_count": null,
   "metadata": {
    "deletable": false,
    "editable": false,
    "nbgrader": {
     "checksum": "bfebdc1d9bd35624273e9f645fb6b37f",
     "grade": true,
     "grade_id": "cell-a0528072f23dc7e4",
     "locked": true,
     "points": 2,
     "schema_version": 1,
     "solution": false
    }
   },
   "outputs": [],
   "source": []
  },
  {
   "cell_type": "markdown",
   "metadata": {
    "deletable": false,
    "editable": false,
    "id": "kld21GY8QSvu",
    "nbgrader": {
     "checksum": "0381b9b13da7f715e0d36c868388cf92",
     "grade": false,
     "grade_id": "cell-ae0e017007bf50f3",
     "locked": true,
     "schema_version": 1,
     "solution": false
    }
   },
   "source": [
    "[Back to top](#Index:) \n",
    "\n",
    "### Problem 6: Customizing the Histogram\n",
    "\n",
    "**6 Points**\n",
    "\n",
    "\n",
    "Set the `bins` argument to 50, the `edgecolor` to black, `alpha` to 0.5, `color` to lightblue, and follow your histogram function with the `plt.grid()` function to add a grid to the plot.  Add the same title and x-label as problem 5.\n",
    "\n",
    "Please note that because Codio autograder is not able to grade visualizations meaningfully, this quesiton is designed to be graded complete/incomplete. To collect points for the completed assignment, you have to submit your assignment."
   ]
  },
  {
   "cell_type": "code",
   "execution_count": null,
   "metadata": {
    "deletable": false,
    "id": "wmZrVyR3QSvu",
    "nbgrader": {
     "checksum": "978f45e05ec0315f271aa75c0e6f8c01",
     "grade": false,
     "grade_id": "cell-f26999f4029db46e",
     "locked": false,
     "schema_version": 1,
     "solution": true
    }
   },
   "outputs": [],
   "source": [
    "### GRADED\n",
    "\n",
    "# YOUR CODE HERE\n",
    "plt.hist(gdp,bins=50, edgecolor=\"black\",alpha=0.5,color=\"lightblue\")\n",
    "plt.xlabel('GDP Per Capita')\n",
    "plt.title('Histogram of GDP per capita')\n",
    "plt.grid()\n",
    "\n"
   ]
  },
  {
   "cell_type": "code",
   "execution_count": null,
   "metadata": {
    "deletable": false,
    "editable": false,
    "nbgrader": {
     "checksum": "4194c4d0fc28b512d3792384d71ca507",
     "grade": true,
     "grade_id": "cell-95c0d0bdf9295412",
     "locked": true,
     "points": 2,
     "schema_version": 1,
     "solution": false
    }
   },
   "outputs": [],
   "source": []
  },
  {
   "cell_type": "markdown",
   "metadata": {
    "deletable": false,
    "editable": false,
    "id": "W3XSEik1QSvu",
    "nbgrader": {
     "checksum": "9645e0ef3918b93e97237057c07e55b5",
     "grade": false,
     "grade_id": "cell-624d2eac37f8f761",
     "locked": true,
     "schema_version": 1,
     "solution": false
    }
   },
   "source": [
    "[Back to top](#Index:) \n",
    "\n",
    "### Problem 7: Scatterplot of GDP vs. Life Expectancy\n",
    "\n",
    "**2 Points**\n",
    "\n",
    "`matplotlib` also has a scatterplot method that you can use with `plt.scatter()`.  Use this to create a scatterplot with the GDP column on the x-axis and Life Expectancy on the y-axis.  Add human readable labels \"GDP Per Capita\" and \"Life Expectancy (years)\" respectively and a title \"GDP vs. Life Expectancy\".\n",
    "\n",
    "Please note that because Codio autograder is not able to grade visualizations meaningfully, this quesiton is designed to be graded complete/incomplete. To collect points for the completed assignment, you have to submit your assignment."
   ]
  },
  {
   "cell_type": "code",
   "execution_count": null,
   "metadata": {
    "deletable": false,
    "id": "CMNBYyzBQSvu",
    "nbgrader": {
     "checksum": "fe6a4a75a3db9a03567b5e01426742ff",
     "grade": false,
     "grade_id": "cell-c72fe8877caf7be8",
     "locked": false,
     "schema_version": 1,
     "solution": true
    }
   },
   "outputs": [],
   "source": [
    "### GRADED\n",
    "\n",
    "# YOUR CODE HERE\n",
    "plt.scatter(x=gdp, y=life_exp_data)\n",
    "plt.xlabel('GDP Per Capit')\n",
    "plt.ylabel('Life Expectancy (years)')\n",
    "plt.title('GDP vs. Life Expectancy')"
   ]
  },
  {
   "cell_type": "code",
   "execution_count": null,
   "metadata": {
    "deletable": false,
    "editable": false,
    "nbgrader": {
     "checksum": "c594651e060b88e22f6a66618a9a860a",
     "grade": true,
     "grade_id": "cell-ff3c1705f9f7ecba",
     "locked": true,
     "points": 2,
     "schema_version": 1,
     "solution": false
    }
   },
   "outputs": [],
   "source": []
  },
  {
   "cell_type": "markdown",
   "metadata": {
    "deletable": false,
    "editable": false,
    "id": "5OlGtZ9GQSvv",
    "nbgrader": {
     "checksum": "0889b9dae3bd618d6ecc9346b12aaa6a",
     "grade": false,
     "grade_id": "cell-5e8292b1eecf714f",
     "locked": true,
     "schema_version": 1,
     "solution": false
    }
   },
   "source": [
    "[Back to top](#Index:) \n",
    "\n",
    "### Problem 8: Logarithmic Transformation\n",
    "\n",
    "**2 Points**\n",
    "\n",
    "Notice the non-linear relationship between GDP and Life Expectancy.  One common transformation is to take something that looks exponential, and to take a logarithm in order to transform the relationship to a linear one.  Draw a scatterplot like above but use `np.log()` to plot the logarithm of GDP vs. Life Expectancy.  Add appropriate x and y labels, and the title \"Logarithm of GDP vs. Life Expectancy\". \n",
    "\n",
    "Please note that because Codio autograder is not able to grade visualizations meaningfully, this quesiton is designed to be graded complete/incomplete. To collect points for the completed assignment, you have to submit your assignment."
   ]
  },
  {
   "cell_type": "code",
   "execution_count": null,
   "metadata": {
    "deletable": false,
    "id": "nxrqUn0WQSvv",
    "nbgrader": {
     "checksum": "2a0986dd74a754490461fa35ae568b26",
     "grade": false,
     "grade_id": "cell-0ff0d895c6f3ae8d",
     "locked": false,
     "schema_version": 1,
     "solution": true
    }
   },
   "outputs": [],
   "source": [
    "### GRADED\n",
    "\n",
    "# YOUR CODE HERE\n",
    "np.log(gdp)\n",
    "plt.scatter(x=np.log(gdp), y=life_exp_data)\n",
    "plt.xlabel('Logarithm of GDP Per Capita')\n",
    "plt.ylabel('Life Expectancy (years)')\n",
    "plt.title('Logarithm of GDP vs. Life Expectancy')\n"
   ]
  },
  {
   "cell_type": "code",
   "execution_count": null,
   "metadata": {
    "deletable": false,
    "editable": false,
    "nbgrader": {
     "checksum": "1713aa779712daac925b9c77ad07bf9c",
     "grade": true,
     "grade_id": "cell-8dcf18ff982a3282",
     "locked": true,
     "points": 2,
     "schema_version": 1,
     "solution": false
    }
   },
   "outputs": [],
   "source": []
  },
  {
   "cell_type": "markdown",
   "metadata": {
    "deletable": false,
    "editable": false,
    "id": "PotEGh5HQSvv",
    "nbgrader": {
     "checksum": "6732a86806753fea8e6a12f47c5de6a3",
     "grade": false,
     "grade_id": "cell-e177b496fec2d839",
     "locked": true,
     "schema_version": 1,
     "solution": false
    }
   },
   "source": [
    "[Back to top](#Index:) \n",
    "\n",
    "### Problem 9: `pandas` histogram\n",
    "\n",
    "**2 Points**\n",
    "\n",
    "\n",
    "An alternative way to draw a histogram of a column in a DataFrame is to use the `.hist()` method.  This wraps the matplotlib histogram function and adds a few additional presets like a grid.  Below, select the GDP column and use the `.hist()` method to create a histogram using the built in pandas method. Save your image as `gdp_hist_pandas.png` to the `images` folder.\n",
    "\n",
    "Please note that because Codio autograder is not able to grade visualizations meaningfully, this quesiton is designed to be graded complete/incomplete. To collect points for the completed assignment, you have to submit your assignment."
   ]
  },
  {
   "cell_type": "code",
   "execution_count": null,
   "metadata": {
    "deletable": false,
    "id": "v3mB1950QSvw",
    "nbgrader": {
     "checksum": "dcb5dcf3a2c9e11b28cd34a822c8e1db",
     "grade": false,
     "grade_id": "cell-484c7754d76ffe77",
     "locked": false,
     "schema_version": 1,
     "solution": true
    }
   },
   "outputs": [],
   "source": [
    "### GRADED\n",
    "\n",
    "# YOUR CODE HERE\n",
    "gdp.hist()\n",
    "plt.savefig(\"images/gdp_hist_pandas.png\")\n"
   ]
  },
  {
   "cell_type": "code",
   "execution_count": null,
   "metadata": {
    "deletable": false,
    "editable": false,
    "nbgrader": {
     "checksum": "18bdfc9883554920998690c0c9fadd78",
     "grade": true,
     "grade_id": "cell-76b3fc01c77b57f0",
     "locked": true,
     "points": 2,
     "schema_version": 1,
     "solution": false
    }
   },
   "outputs": [],
   "source": []
  },
  {
   "cell_type": "markdown",
   "metadata": {
    "deletable": false,
    "editable": false,
    "id": "2Y5NxYLRQSvx",
    "nbgrader": {
     "checksum": "be8c04f8cfc16b7109ce8fd0411932b1",
     "grade": false,
     "grade_id": "cell-c619c63e62d33226",
     "locked": true,
     "schema_version": 1,
     "solution": false
    }
   },
   "source": [
    "[Back to top](#Index:) \n",
    "\n",
    "### Problem 10: `pandas` scatterplot\n",
    "\n",
    "**2 Points**\n",
    "\n",
    "Similar to the `.hist()` method, pandas has a general `.plot()` method where you can specify the kind of plot.  Use this to create a scatterplot of GDP on the x-axis and Life Expectancy on the y-axis.  You will have to call `.plot()` on the entire DataFrame and specify the `x` and `y` arguments to the `.plot()` function with the `kind = scatter` argument.  Save your plot as `gdp_lifexp_scatter_pandas.png` to the `images` folder.\n",
    "\n",
    "Please note that because Codio autograder is not able to grade visualizations meaningfully, this quesiton is designed to be graded complete/incomplete. To collect points for the completed assignment, you have to submit your assignment."
   ]
  },
  {
   "cell_type": "code",
   "execution_count": null,
   "metadata": {
    "deletable": false,
    "id": "Xbzx4uBRQSvx",
    "nbgrader": {
     "checksum": "3e17593657bcd47c89cf820e2c40a3a6",
     "grade": false,
     "grade_id": "cell-e4438802431bf0f9",
     "locked": false,
     "schema_version": 1,
     "solution": true
    }
   },
   "outputs": [],
   "source": [
    "### GRADED\n",
    "\n",
    "# YOUR CODE HERE\n",
    "gap_df.plot(kind=\"scatter\",x=\"gdpPercap\",y=\"lifeExp\")\n",
    "plt.savefig(\"images/gdp_lifexp_scatter_pandas.png\")\n",
    "\n"
   ]
  },
  {
   "cell_type": "code",
   "execution_count": null,
   "metadata": {
    "deletable": false,
    "editable": false,
    "nbgrader": {
     "checksum": "09c17b995e000ccb47371d4d4799c12e",
     "grade": true,
     "grade_id": "cell-f8ee3562d8943e6c",
     "locked": true,
     "points": 2,
     "schema_version": 1,
     "solution": false
    }
   },
   "outputs": [],
   "source": []
  }
 ],
 "metadata": {
  "colab": {
   "name": "coding_activity_2-5.ipynb",
   "provenance": []
  },
  "kernelspec": {
   "display_name": "Python 3",
   "language": "python",
   "name": "python3"
  },
  "language_info": {
   "codemirror_mode": {
    "name": "ipython",
    "version": 3
   },
   "file_extension": ".py",
   "mimetype": "text/x-python",
   "name": "python",
   "nbconvert_exporter": "python",
   "pygments_lexer": "ipython3",
   "version": "3.6.9"
  }
 },
 "nbformat": 4,
 "nbformat_minor": 1
}
