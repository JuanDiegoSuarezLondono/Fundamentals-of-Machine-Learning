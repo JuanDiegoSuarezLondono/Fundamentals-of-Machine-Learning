{
 "cells": [
  {
   "cell_type": "markdown",
   "id": "af41807b",
   "metadata": {},
   "source": [
    "# Index:\n",
    "\n",
    "- [Overview: Univariate Distributions](#Overview:-Univariate-Distributions)\n",
    "    - [Scipy stats](#Scipy-stats)\n",
    "    - [Continuous uniform distribution](#Continuous-uniform-distribution)\n",
    "    - [Code numpy continous uniform distribution](#Code-numpy-continous-uniform-distribution)\n",
    "    - [Codio Activity 2.1: Continuous Uniform Distributions](#Codio-Activity-2.1:-Continuous-Uniform-Distributions)\n",
    "        - [Problem 1: Creating a Distribution Object](#Problem-1:-Creating-a-Distribution-Object)\n",
    "        - [Problem 2: Descriptive Statistics of Distribution](#Problem-2:-Descriptive-Statistics-of-Distribution)\n",
    "        - [Problem 3: Plotting the Distribution](#Problem-3:-Plotting-the-Distribution)\n",
    "        - [Problem 4: Evaluating Probabilities](#Problem-4:-Evaluating-Probabilities)\n",
    "        - [Problem 5: Cumulative Probabilities](#Problem-5:-Cumulative-Probabilities)\n",
    "- [Codio Activity 2.2: Gaussian Distributions](#Codio-Activity-2.2:-Gaussian-Distributions)\n",
    "    - [Problem 1: Creating a Gaussian Distribution Object](#Problem-1:-Creating-a-Gaussian-Distribution-Object)\n",
    "    - [Problem 2: Random Samples from Distribution](#Problem-2:-Random-Samples-from-Distribution)\n",
    "    - [Problem 3: Statistics of Sample](#Problem-3:-Statistics-of-Sample)\n",
    "    - [Problem 4: Plotting the Distribution and Sample](#Problem-4:-Plotting-the-Distribution-and-Sample)\n",
    "- [Codio Activity 2.3: The Law of Large Numbers](#Codio-Activity-2.3:-The-Law-of-Large-Numbers)\n",
    "    - [Problem 1: A Uniform Distribution](#Problem-1:-A-Uniform-Distribution)\n",
    "    - [Problem 2: Loop of Samples](#Problem-2:-Loop-of-Samples)\n",
    "    - [Problem 3: Comparing the sample means to actual](#Problem-3:-Comparing-the-sample-means-to-actual)\n",
    "    - [Problem 4: Distribution of Sample Means](#Problem-4:-Distribution-of-Sample-Means)\n",
    "    - [Problem 5: Repeat with Gaussian Distribution](#Problem-5:-Repeat-with-Gaussian-Distribution)\n",
    "- [Overview: Multivariate Distributions](#Overview:-Multivariate-Distributions)\n",
    "    - [Codio Activity 2.4: Measures of Center and Spread](#Codio-Activity-2.4:-Measures-of-Center-and-Spread)\n",
    "        - [Problem 1: Load the Data](#Problem-1:-Load-the-Data)\n",
    "        - [Problem 2: Base Salary Distribution Mean](#Problem-2:-Base-Salary-Distribution-Mean)\n",
    "        - [Problem 3: Base Salary Distribution Median](#Problem-3:-Base-Salary-Distribution-Median)\n",
    "        - [Problem 4: Determining Quartiles](#Problem-4:-Determining-Quartiles)\n",
    "        - [Problem 5: Interquartile Range](#Problem-5:-Interquartile-Range)\n",
    "        - [Problem 6: Rule for Outliers](#Problem-6:-Rule-for-Outliers)\n",
    "        - [Problem 7: Dropping Outliers](#Problem-7:-Dropping-Outliers)\n",
    "        - [Problem 8: Finding the Mean with no Outliers](#Problem-8:-Finding-the-Mean-with-no-Outliers)\n",
    "        - [Problem 9: Finding the Median with no Outliers](#Problem-9:-Finding-the-Median-with-no-Outliers)\n",
    "        - [Problem 10: Standard Deviation with numpy](#Problem-10:-Standard-Deviation-with-numpy)\n",
    "        - [Problem 11: Standard Deviation with pandas](#Problem-11:-Standard-Deviation-with-pandas)\n",
    "        - [Problem 12: Measure of Center](#Problem-12:-Measure-of-Center)\n",
    "        - [Problem 13: Measure of Spread](#Problem-13:-Measure-of-Spread)\n",
    "    - [Codio Activity 2.5: Plotting Multivariate Datasets](#Codio-Activity-2.5:-Plotting-Multivariate-Datasets)\n",
    "        - [Problem 1: Load the Data](#Problem-1:-Load-the-Data)\n",
    "        - [Problem 2: Features for Histogram](#Problem-2:-Features-for-Histogram)\n",
    "        - [Problem 3: Histogram of Life Expectancy](#Problem-3:-Histogram-of-Life-Expectancy)\n",
    "        - [Problem 4: Adding a title and human readable label](#Problem-4:-Adding-a-title-and-human-readable-label)\n",
    "        - [Problem 5: Histogram of GDP](#Problem-5:-Histogram-of-GDP)\n",
    "        - [Problem 6: Customizing the Histogram](#Problem-6:-Customizing-the-Histogram)\n",
    "        - [Problem 7: Scatterplot of GDP vs. Life Expectancy](#Problem-7:-Scatterplot-of-GDP-vs.-Life-Expectancy)\n",
    "        - [Problem 8: Logarithmic Transformation](#Problem-8:-Logarithmic-Transformation)\n",
    "        - [Problem 9: pandas histogram](#Problem-9:-pandas-histogram)\n",
    "        - [Problem 10: pandas scatterplot](#Problem-10:-pandas-scatterplot)\n",
    "- [Pandas covariance correlations and introduction to Seaborn](#Pandas-covariance-correlations-and-introduction-to-Seaborn)\n",
    "    - [Codio Activity 2.6: Computing the Sample Covariance Matrix](#Codio-Activity-2.6:-Computing-the-Sample-Covariance-Matrix)\n",
    "        - [Problem 1: Calculating Covariance](#Problem-1:-Calculating-Covariance)\n",
    "        - [Problem 2: Calculating Correlation](#Problem-2:-Calculating-Correlation)\n",
    "        - [Problem 3: Heatmap of Covariance](#Problem-3:-Heatmap-of-Covariance)\n",
    "        - [Problem 4: Heatmap of Correlation](#Problem-4:-Heatmap-of-Correlation)\n",
    "        - [Problem 5: Strongest Positive Correlation](#Problem-5:-Strongest-Positive-Correlation)\n",
    "        - [Problem 6: Interpreting negative correlation](#Problem-6:-Interpreting-negative-correlation)\n",
    "    - [Codio Activity 2.7: Approximating Correlation from scatterplots](#Codio-Activity-2.7:-Approximating-Correlation-from-scatterplots)\n",
    "        - [Approximating Correlation from scatterplots Problem 1](#Approximating-Correlation-from-scatterplots-Problem-1)\n",
    "        - [Approximating Correlation from scatterplots Problem 2](#Approximating-Correlation-from-scatterplots-Problem-2)\n",
    "        - [Approximating Correlation from scatterplots Problem 3](#Approximating-Correlation-from-scatterplots-Problem-3)\n",
    "        - [Approximating Correlation from scatterplots Problem 4](#Approximating-Correlation-from-scatterplots-Problem-4)\n",
    "        - [Approximating Correlation from scatterplots Problem 5](#Approximating-Correlation-from-scatterplots-Problem-5)\n",
    "- [Glossary](#Glossary)"
   ]
  },
  {
   "cell_type": "markdown",
   "id": "dc3a4add",
   "metadata": {},
   "source": [
    "# Overview: Univariate Distributions\n",
    "Now that you have had the opportunity to test your existing knowledge, let's dig into the first type of distribution covered in this module: univariate distributions. Univariate distributions are the probability distribution of just one random variable. They can take the form of a discrete uniform distribution, a continuous uniform distribution, or a Gaussian (otherwise known as normal) distribution. Some examples of univariate probability models include coin flips and dice rolls, but they can also be found among many other real-world phenomena."
   ]
  },
  {
   "cell_type": "markdown",
   "id": "6098ff29",
   "metadata": {},
   "source": [
    "## <a href=\"https://docs.scipy.org/doc/scipy/reference/stats.html\">Scipy stats</a> "
   ]
  },
  {
   "cell_type": "markdown",
   "id": "557ac30a",
   "metadata": {},
   "source": [
    "## <a href=\"https://docs.scipy.org/doc/scipy/reference/generated/scipy.stats.uniform.html#scipy.stats.uniform\">Continuous uniform distribution</a>"
   ]
  },
  {
   "cell_type": "markdown",
   "id": "72eaad1f",
   "metadata": {},
   "source": [
    "## Code numpy continous uniform distribution"
   ]
  },
  {
   "cell_type": "markdown",
   "id": "14a3f276",
   "metadata": {},
   "source": [
    "**Importstatement**"
   ]
  },
  {
   "cell_type": "code",
   "execution_count": 26,
   "id": "6867fb84",
   "metadata": {},
   "outputs": [],
   "source": [
    "from scipy.stats import uniform\n",
    "import numpy as np\n",
    "import matplotlib.pyplot as plt"
   ]
  },
  {
   "cell_type": "markdown",
   "id": "531f3cf8",
   "metadata": {},
   "source": [
    "**Create a distribution objet**"
   ]
  },
  {
   "cell_type": "code",
   "execution_count": 27,
   "id": "ed90600c",
   "metadata": {},
   "outputs": [],
   "source": [
    "\"\"\"\"\n",
    "First we have to create a distribution object. The parameters for the function \"uniform()\" are \"loc\" and \"scale\", these are\n",
    "common for all of the distributions in SciPy stats\n",
    "\"\"\"\n",
    "U = uniform(loc=10,scale=5)"
   ]
  },
  {
   "cell_type": "markdown",
   "id": "f1c5d172",
   "metadata": {},
   "source": [
    "<img src=\"Images/1.png\"> \n",
    "Interpretations of loc and scale for the uniform distribution:\n",
    "<img src=\"Images/2.png\">\n",
    "\n"
   ]
  },
  {
   "cell_type": "markdown",
   "id": "fb264900",
   "metadata": {},
   "source": [
    "**Methods**"
   ]
  },
  {
   "cell_type": "code",
   "execution_count": 28,
   "id": "ec1312a6",
   "metadata": {
    "scrolled": true
   },
   "outputs": [
    {
     "data": {
      "text/plain": [
       "<scipy.stats._distn_infrastructure.rv_continuous_frozen at 0x21a2c4e26e0>"
      ]
     },
     "execution_count": 28,
     "metadata": {},
     "output_type": "execute_result"
    }
   ],
   "source": [
    "#The autocomplete list all the methods available in this object: pdf, rvs, std, var\n",
    "U"
   ]
  },
  {
   "cell_type": "markdown",
   "id": "5d59b56d",
   "metadata": {},
   "source": [
    "**Probability density function (pdf)**"
   ]
  },
  {
   "cell_type": "code",
   "execution_count": 29,
   "id": "9c7d1837",
   "metadata": {},
   "outputs": [
    {
     "data": {
      "text/plain": [
       "0.0"
      ]
     },
     "execution_count": 29,
     "metadata": {},
     "output_type": "execute_result"
    }
   ],
   "source": [
    "#It's 0 because 8 is in to the left of  10.\n",
    "U.pdf(8)"
   ]
  },
  {
   "cell_type": "code",
   "execution_count": 30,
   "id": "b4fd898e",
   "metadata": {},
   "outputs": [
    {
     "data": {
      "text/plain": [
       "0.2"
      ]
     },
     "execution_count": 30,
     "metadata": {},
     "output_type": "execute_result"
    }
   ],
   "source": [
    "U.pdf(12)"
   ]
  },
  {
   "cell_type": "code",
   "execution_count": 31,
   "id": "3d69a7c6",
   "metadata": {},
   "outputs": [
    {
     "data": {
      "text/plain": [
       "array([0. , 0.2, 0. ])"
      ]
     },
     "execution_count": 31,
     "metadata": {},
     "output_type": "execute_result"
    }
   ],
   "source": [
    "#We can call pdf on a array\n",
    "U.pdf([8,12,20])"
   ]
  },
  {
   "cell_type": "code",
   "execution_count": 32,
   "id": "9b8c3c61",
   "metadata": {},
   "outputs": [
    {
     "data": {
      "text/plain": [
       "[<matplotlib.lines.Line2D at 0x21a2ca1a860>]"
      ]
     },
     "execution_count": 32,
     "metadata": {},
     "output_type": "execute_result"
    },
    {
     "data": {
      "image/png": "[encoded data removed]",
      "text/plain": [
       "<Figure size 640x480 with 1 Axes>"
      ]
     },
     "metadata": {},
     "output_type": "display_data"
    }
   ],
   "source": [
    "\"\"\"\n",
    "Let's create a arge array of evenly-spaced values between 7 and 18 and we're going to use NumPy's linspace function\n",
    "for doing this.\n",
    "\"\"\"\n",
    "upoints = np.linspace(7,18,200) #Linspace creates values whose differences of any consecutive pair are equal\n",
    "ppoints = U.pdf(upoints)\n",
    "plt.plot(upoints,ppoints)"
   ]
  },
  {
   "cell_type": "markdown",
   "id": "42a46aca",
   "metadata": {},
   "source": [
    "**Mean, variance and standar deviation**\n",
    "<img src=\"Images/3.png\">"
   ]
  },
  {
   "cell_type": "code",
   "execution_count": 33,
   "id": "c5fbdf4b",
   "metadata": {},
   "outputs": [
    {
     "data": {
      "text/plain": [
       "12.5"
      ]
     },
     "execution_count": 33,
     "metadata": {},
     "output_type": "execute_result"
    }
   ],
   "source": [
    "U.mean()"
   ]
  },
  {
   "cell_type": "code",
   "execution_count": 34,
   "id": "d471b178",
   "metadata": {},
   "outputs": [
    {
     "data": {
      "text/plain": [
       "2.083333333333333"
      ]
     },
     "execution_count": 34,
     "metadata": {},
     "output_type": "execute_result"
    }
   ],
   "source": [
    "U.var()"
   ]
  },
  {
   "cell_type": "code",
   "execution_count": 35,
   "id": "2713e2a1",
   "metadata": {
    "scrolled": true
   },
   "outputs": [
    {
     "data": {
      "text/plain": [
       "1.4433756729740643"
      ]
     },
     "execution_count": 35,
     "metadata": {},
     "output_type": "execute_result"
    }
   ],
   "source": [
    "U.std()"
   ]
  },
  {
   "cell_type": "markdown",
   "id": "63ebe0f2",
   "metadata": {},
   "source": [
    "**Sampling (rvs)**"
   ]
  },
  {
   "cell_type": "code",
   "execution_count": 36,
   "id": "3937e88a",
   "metadata": {},
   "outputs": [
    {
     "data": {
      "text/plain": [
       "12.085013758636286"
      ]
     },
     "execution_count": 36,
     "metadata": {},
     "output_type": "execute_result"
    }
   ],
   "source": [
    "#I get a single sample of this uniform distribution\n",
    "U.rvs()"
   ]
  },
  {
   "cell_type": "code",
   "execution_count": 37,
   "id": "d16e5e52",
   "metadata": {},
   "outputs": [
    {
     "data": {
      "text/plain": [
       "array([10.78876935, 11.12860163, 13.37654061])"
      ]
     },
     "execution_count": 37,
     "metadata": {},
     "output_type": "execute_result"
    }
   ],
   "source": [
    "U.rvs(3)"
   ]
  },
  {
   "cell_type": "code",
   "execution_count": 38,
   "id": "d8bdf0b5",
   "metadata": {},
   "outputs": [
    {
     "data": {
      "text/plain": [
       "array([10.116673  , 14.8676415 , 14.58162889])"
      ]
     },
     "execution_count": 38,
     "metadata": {},
     "output_type": "execute_result"
    }
   ],
   "source": [
    "U.rvs(size=3)"
   ]
  },
  {
   "cell_type": "code",
   "execution_count": 39,
   "id": "a2b4fa47",
   "metadata": {},
   "outputs": [
    {
     "data": {
      "text/plain": [
       "(array([11.,  9.,  9., 11., 10.,  9., 12., 13.,  8.,  8.]),\n",
       " array([10.04044604, 10.53341494, 11.02638383, 11.51935272, 12.01232161,\n",
       "        12.5052905 , 12.9982594 , 13.49122829, 13.98419718, 14.47716607,\n",
       "        14.97013496]),\n",
       " <BarContainer object of 10 artists>)"
      ]
     },
     "execution_count": 39,
     "metadata": {},
     "output_type": "execute_result"
    },
    {
     "data": {
      "image/png": "[encoded data removed]",
      "text/plain": [
       "<Figure size 640x480 with 1 Axes>"
      ]
     },
     "metadata": {},
     "output_type": "display_data"
    }
   ],
   "source": [
    "plt.hist(U.rvs(100))"
   ]
  },
  {
   "cell_type": "code",
   "execution_count": 40,
   "id": "26f1afc3",
   "metadata": {},
   "outputs": [
    {
     "data": {
      "text/plain": [
       "[<matplotlib.lines.Line2D at 0x21a2c82c130>]"
      ]
     },
     "execution_count": 40,
     "metadata": {},
     "output_type": "execute_result"
    },
    {
     "data": {
      "image/png": "[encoded data removed]",
      "text/plain": [
       "<Figure size 640x480 with 1 Axes>"
      ]
     },
     "metadata": {},
     "output_type": "display_data"
    }
   ],
   "source": [
    "plt.hist(U.rvs(100))\n",
    "plt.plot(upoints,ppoints)"
   ]
  },
  {
   "cell_type": "code",
   "execution_count": 41,
   "id": "58bc2fdb",
   "metadata": {},
   "outputs": [
    {
     "data": {
      "text/plain": [
       "[<matplotlib.lines.Line2D at 0x21a2c892f20>]"
      ]
     },
     "execution_count": 41,
     "metadata": {},
     "output_type": "execute_result"
    },
    {
     "data": {
      "image/png": "[encoded data removed]",
      "text/plain": [
       "<Figure size 640x480 with 1 Axes>"
      ]
     },
     "metadata": {},
     "output_type": "display_data"
    }
   ],
   "source": [
    "#To scale the histogram to the size of the distribution, we have to say in the histogram, density=True\n",
    "plt.hist(U.rvs(1000), density=True)\n",
    "plt.plot(upoints,ppoints)"
   ]
  },
  {
   "cell_type": "code",
   "execution_count": 42,
   "id": "5b2925ba",
   "metadata": {
    "scrolled": false
   },
   "outputs": [
    {
     "data": {
      "text/plain": [
       "[<matplotlib.lines.Line2D at 0x21a2cb68070>]"
      ]
     },
     "execution_count": 42,
     "metadata": {},
     "output_type": "execute_result"
    },
    {
     "data": {
      "image/png": "[encoded data removed]",
      "text/plain": [
       "<Figure size 640x480 with 1 Axes>"
      ]
     },
     "metadata": {},
     "output_type": "display_data"
    }
   ],
   "source": [
    "#To scale the histogram to the size of the distribution, we have to say in the histogram, density=True\n",
    "plt.hist(U.rvs(10000000), density=True)\n",
    "plt.plot(upoints,ppoints)"
   ]
  },
  {
   "cell_type": "markdown",
   "id": "301c6625",
   "metadata": {},
   "source": [
    "## Codio Activity 2.1: Continuous Uniform Distributions\n",
    "\n",
    "This activity focuses on creating and visualizing continuous probability distributions using scipy.stats. You will get practice creating uniform distribution objects, examining their summary statistics (mean, variance, standard deviation), and visualizing the distribution using matplotlib.\n",
    "\n",
    "### Index:\n",
    "\n",
    "- [Problem 1: Creating a Distribution Object](#Problem-1:-Creating-a-Distribution-Object)\n",
    "- [Problem 2: Descriptive Statistics of Distribution](#Problem-2:-Descriptive-Statistics-of-Distribution)\n",
    "- [Problem 3: Plotting the Distribution](#Problem-3:-Plotting-the-Distribution)\n",
    "- [Problem 4: Evaluating Probabilities](#Problem-4:-Evaluating-Probabilities)\n",
    "- [Problem 5: Cumulative Probabilities](#Problem-5:-Cumulative-Probabilities)"
   ]
  },
  {
   "cell_type": "code",
   "execution_count": 44,
   "id": "a1ef698d",
   "metadata": {},
   "outputs": [],
   "source": [
    "from scipy.stats import uniform\n",
    "from scipy.stats import norm\n",
    "import matplotlib.pyplot as plt\n",
    "import numpy as np"
   ]
  },
  {
   "cell_type": "markdown",
   "id": "bc319758",
   "metadata": {},
   "source": [
    "### Problem 1: Creating a Distribution Object\n",
    "\n",
    "To begin, use the above imported `uniform` function to create a uniform distribution object with `loc = 10` and `scale = 3`.  Assign your solution as a distribution object to `dist1` below."
   ]
  },
  {
   "cell_type": "code",
   "execution_count": 45,
   "id": "dbb73c0d",
   "metadata": {},
   "outputs": [
    {
     "name": "stdout",
     "output_type": "stream",
     "text": [
      "<class 'scipy.stats._distn_infrastructure.rv_continuous_frozen'>\n"
     ]
    }
   ],
   "source": [
    "### GRADED\n",
    "\n",
    "dist1 = ''\n",
    "\n",
    "# YOUR CODE HERE\n",
    "dist1 = uniform(loc=10,scale=3)\n",
    "\n",
    "# Answer check\n",
    "print(type(dist1))"
   ]
  },
  {
   "cell_type": "markdown",
   "id": "5dcb3f43",
   "metadata": {},
   "source": [
    "### Problem 2: Descriptive Statistics of Distribution\n",
    "\n",
    "Using your distribution object from problem 1, determine the mean, variance, and standard deviation of the distribution using its own built in methods.  Assign these as floats to the variables, `dist1_mean`, `dist1_var`, and `dist1_std` below."
   ]
  },
  {
   "cell_type": "code",
   "execution_count": 46,
   "id": "d29f565d",
   "metadata": {
    "scrolled": false
   },
   "outputs": [
    {
     "name": "stdout",
     "output_type": "stream",
     "text": [
      "[11.5, 0.75, 0.8660254037844386]\n"
     ]
    }
   ],
   "source": [
    "### GRADED\n",
    "\n",
    "dist1_mean = ''\n",
    "dist1_var = ''\n",
    "dist1_std = ''\n",
    "\n",
    "# YOUR CODE HERE\n",
    "dist1_mean = dist1.mean()\n",
    "dist1_var = dist1.var()\n",
    "dist1_std = dist1.std()\n",
    "\n",
    "# Answer check\n",
    "print([dist1_mean, dist1_var, dist1_std])"
   ]
  },
  {
   "cell_type": "markdown",
   "id": "9ab7ec3c",
   "metadata": {},
   "source": [
    "### Problem 3: Plotting the Distribution\n",
    "\n",
    "Note that the distribution is bound by `loc` and `loc + scale` on the left and right sides respectively.  To build a plot, we will give one unit extra on each so we see the entire distribution.  To do so, define `x` using `np.linspace` and create an array of 100 evenly spaced values starting at 9 and ending at 14.  Then, use these `x` values with `dist1`'s `.pdf` method to produce a plot of the distribution using `plt.plot`.  You should have a plot similar to that shown below.\n",
    "<img src=\"Images/4.png\">"
   ]
  },
  {
   "cell_type": "code",
   "execution_count": 48,
   "id": "992692fd",
   "metadata": {},
   "outputs": [
    {
     "name": "stdout",
     "output_type": "stream",
     "text": [
      "9.0 14.0\n"
     ]
    },
    {
     "data": {
      "image/png": "[encoded data removed]",
      "text/plain": [
       "<Figure size 640x480 with 1 Axes>"
      ]
     },
     "metadata": {},
     "output_type": "display_data"
    }
   ],
   "source": [
    "### GRADED\n",
    "\n",
    "x = ''\n",
    "\n",
    "# YOUR CODE HERE\n",
    "x = np.linspace(9,14,100)\n",
    "plt.plot(x,dist1.pdf(x))\n",
    "\n",
    "# Answer check\n",
    "print(min(x), max(x))"
   ]
  },
  {
   "cell_type": "markdown",
   "id": "5dc60164",
   "metadata": {},
   "source": [
    "### Problem 4: Evaluating Probabilities\n",
    "\n",
    "Finally, you want to use the `.pdf` method to evaluate the probability of a specific outcome.  Determine the following probabilities using `dist1` and assign to the respective variables as floats below.\n",
    "\n",
    "- $P(9)$\n",
    "- $P(11)$\n",
    "- $P(11~ \\text{or} ~12)$"
   ]
  },
  {
   "cell_type": "code",
   "execution_count": 49,
   "id": "ce04d7f4",
   "metadata": {},
   "outputs": [
    {
     "name": "stdout",
     "output_type": "stream",
     "text": [
      "0.0 0.3333333333333333 0.6666666666666666\n"
     ]
    }
   ],
   "source": [
    "### GRADED\n",
    "\n",
    "p_9 = ''\n",
    "p_11 = ''\n",
    "p_11_or_12 = ''\n",
    "\n",
    "# YOUR CODE HERE\n",
    "p_9 = dist1.pdf(9)\n",
    "p_11 = dist1.pdf(11)\n",
    "p_11_or_12 = dist1.pdf(11) + dist1.pdf(13)\n",
    "\n",
    "# Answer check\n",
    "print(p_9, p_11, p_11_or_12)"
   ]
  },
  {
   "cell_type": "markdown",
   "id": "4b721e91",
   "metadata": {},
   "source": [
    "### Problem 5: Cumulative Probabilities\n",
    "The `.cdf` method can be used to determine cumulative probabilities.  Use the `.cdf` method of `dist1` to determine the following probabilities and assign them as a float to the relevant variable below. \n",
    "\n",
    "- $P(x < 12)$\n",
    "- $P(11 < x < 13)$\n",
    "- $P(x > 12)$"
   ]
  },
  {
   "cell_type": "code",
   "execution_count": 50,
   "id": "76b4379f",
   "metadata": {},
   "outputs": [
    {
     "name": "stdout",
     "output_type": "stream",
     "text": [
      "0.6666666666666666 0.6666666666666667 0.33333333333333337\n"
     ]
    }
   ],
   "source": [
    "### GRADED\n",
    "\n",
    "p_less_than_12 = ''\n",
    "p_between_11_and_13 = ''\n",
    "p_greater_than_12 = ''\n",
    "\n",
    "# YOUR CODE HERE\n",
    "p_less_than_12 = dist1.cdf(12)\n",
    "p_between_11_and_13 = dist1.cdf(13) - dist1.cdf(11)\n",
    "p_greater_than_12 = 1 - dist1.cdf(12)\n",
    "\n",
    "# Answer check\n",
    "print(p_less_than_12, p_between_11_and_13, p_greater_than_12)"
   ]
  },
  {
   "cell_type": "markdown",
   "id": "20dc16e0",
   "metadata": {},
   "source": [
    "# Codio Activity 2.2: Gaussian Distributions\n",
    "\n",
    "This activity focuses on generating and examining gaussian distributions using `scipy.stats`.  The main idea is to use the distribution to generate a sample and compare the sample statistics to those known in your distribution.   Note that you are to use the `.rvs` method of the distribution object rather than any numpy methods directly for generating samples.  \n",
    "\n",
    "## Index:\n",
    "\n",
    "- [Problem 1: Creating a Gaussian Distribution Object](#Problem-1:-Creating-a-Gaussian-Distribution-Object)\n",
    "- [Problem 2: Random Samples from Distribution](#Problem-2:-Random-Samples-from-Distribution)\n",
    "- [Problem 3: Statistics of Sample](#Problem-3:-Statistics-of-Sample)\n",
    "- [Problem 4: Plotting the Distribution and Sample](#Problem-4:-Plotting-the-Distribution-and-Sample)"
   ]
  },
  {
   "cell_type": "code",
   "execution_count": 92,
   "id": "9d63204b",
   "metadata": {},
   "outputs": [],
   "source": [
    "from scipy.stats import uniform\n",
    "from scipy.stats import norm\n",
    "import matplotlib.pyplot as plt\n",
    "import numpy as np"
   ]
  },
  {
   "cell_type": "markdown",
   "id": "05b957a2",
   "metadata": {},
   "source": [
    "## Problem 1: Creating a Gaussian Distribution Object\n",
    "\n",
    "Note that the normal distribution function has been imported as `norm` from the `scipy.stats` library above.  Use this distribution to create a normal distribution centered at 5 with standard deviation 2.  Assign your solution as a distribution object to `gauss1` below."
   ]
  },
  {
   "cell_type": "code",
   "execution_count": 93,
   "id": "a48240b7",
   "metadata": {},
   "outputs": [
    {
     "name": "stdout",
     "output_type": "stream",
     "text": [
      "<class 'scipy.stats._distn_infrastructure.rv_continuous_frozen'>\n"
     ]
    }
   ],
   "source": [
    "### GRADED\n",
    "# Create a gausssian distribution from sample set\n",
    "\n",
    "gauss1 = None\n",
    "\n",
    "# YOUR CODE HERE\n",
    "gauss1 = norm(loc=5,scale=2)\n",
    "\n",
    "# ANSWER CHECK\n",
    "print(type(gauss1))"
   ]
  },
  {
   "cell_type": "markdown",
   "id": "89b366b7",
   "metadata": {},
   "source": [
    "## Problem 2: Random Samples from Distribution\n",
    "\n",
    "Use the `.rvs` method of `gauss1` to generate 100 random samples from the distribution.  Be sure to set the `random_state = 12` in the `.rvs` method.  Assign your response as an array to `samples` below."
   ]
  },
  {
   "cell_type": "code",
   "execution_count": 54,
   "id": "c3f091bb",
   "metadata": {},
   "outputs": [
    {
     "name": "stdout",
     "output_type": "stream",
     "text": [
      "<class 'numpy.ndarray'>\n",
      "100\n"
     ]
    }
   ],
   "source": [
    "### GRADED\n",
    "\n",
    "samples = ''\n",
    "\n",
    "# YOUR CODE HERE\n",
    "samples = gauss1.rvs(size=100,random_state=12)\n",
    "\n",
    "# ANSWER CHECK\n",
    "print(type(samples))\n",
    "print(len(samples))"
   ]
  },
  {
   "cell_type": "markdown",
   "id": "7105e543",
   "metadata": {},
   "source": [
    "## Problem 3: Statistics of Sample\n",
    "\n",
    "Using your `samples` array from above, determine the mean and standard deviation of the sample values.  Use `np.mean` and `np.std` to determine these and assign your solutions as type `numpy.float64` to `sample_mean` and `sample_std` below.  Compare these to the actual mean and standard deviation.  Are they close?"
   ]
  },
  {
   "cell_type": "code",
   "execution_count": 55,
   "id": "2d834be5",
   "metadata": {},
   "outputs": [
    {
     "name": "stdout",
     "output_type": "stream",
     "text": [
      "4.711385004722623\n",
      "<class 'numpy.float64'>\n",
      "2.0919009807115736\n",
      "<class 'numpy.float64'>\n"
     ]
    }
   ],
   "source": [
    "### GRADED\n",
    "\n",
    "sample_mean = ''\n",
    "sample_std = ''\n",
    "\n",
    "# YOUR CODE HERE\n",
    "sample_mean = samples.mean()\n",
    "sample_std = samples.std()\n",
    "\n",
    "# ANSWER CHECK\n",
    "print(sample_mean)\n",
    "print(type(sample_mean))\n",
    "print(sample_std)\n",
    "print(type(sample_std))"
   ]
  },
  {
   "cell_type": "markdown",
   "id": "18946579",
   "metadata": {},
   "source": [
    "## Problem 4: Plotting the Distribution and Sample\n",
    "\n",
    "The distribution created is centered at 5 with a standard deviation of 2.  By properties of the normal distribution, 99% of the data will be with $\\pm ~ 3\\sigma$.  Accordingly, create an array `x` using `np.linspace` with 1000 evenly spaced values $\\mu \\pm 3\\sigma$ (plus and minus three standard deviations from the mean).  Use this distribution to plot the `.pdf` of the `gauss1` distribution.  On the same plot, add a histogram of the sample data. \n",
    "\n",
    "Once `x` has been defined, the code below will produce the accompanying plot.\n",
    "\n",
    "```python\n",
    "plt.plot(x, gauss1.pdf(x), color = 'black', linewidth = 4, label = 'distribution')\n",
    "plt.hist(samples, density=True, alpha = 0.2, bins = 10, edgecolor = 'black', label = 'sample')\n",
    "plt.legend();\n",
    "```\n",
    "<img src=\"Images/5.png\">"
   ]
  },
  {
   "cell_type": "code",
   "execution_count": 56,
   "id": "8b1b9b92",
   "metadata": {},
   "outputs": [
    {
     "name": "stdout",
     "output_type": "stream",
     "text": [
      "<class 'numpy.ndarray'>\n",
      "1000\n"
     ]
    },
    {
     "data": {
      "image/png": "[encoded data removed]",
      "text/plain": [
       "<Figure size 640x480 with 1 Axes>"
      ]
     },
     "metadata": {},
     "output_type": "display_data"
    }
   ],
   "source": [
    "### GRADED\n",
    "\n",
    "x = ''\n",
    "\n",
    "# YOUR CODE HERE\n",
    "x = np.linspace(-1,11,1000) \n",
    "\n",
    "###uncomment the code below to make the plot\n",
    "plt.plot(x, gauss1.pdf(x), color = 'black', linewidth = 4, label = 'distribution')\n",
    "plt.hist(samples, density=True, alpha = 0.2, bins = 10, edgecolor = 'black', label = 'sample')\n",
    "plt.legend();\n",
    "\n",
    "# ANSWER CHECK\n",
    "print(type(x))\n",
    "print(len(x))"
   ]
  },
  {
   "cell_type": "markdown",
   "id": "1486601b",
   "metadata": {},
   "source": [
    "# Codio Activity 2.3: The Law of Large Numbers\n",
    "\n",
    "In this activity, you will draw increasingly sized samples from a given distribution.  These samples means will be tracked, and compared to that which is known from the larger distribution.  You are to use the `scipy.stats` module and its distribution objects to produce these distributions and their samples.\n",
    "\n",
    "## Index:\n",
    "\n",
    "- [Problem 1: A Uniform Distribution](#Problem-1:-A-Uniform-Distribution)\n",
    "- [Problem 2: Loop of Samples](#Problem-2:-Loop-of-Samples)\n",
    "- [Problem 3: Comparing the sample means to actual](#Problem-3:-Comparing-the-sample-means-to-actual)\n",
    "- [Problem 4: Distribution of Sample Means](#Problem-4:-Distribution-of-Sample-Means)\n",
    "- [Problem 5: Repeat with Gaussian Distribution](#Problem-5:-Repeat-with-Gaussian-Distribution)"
   ]
  },
  {
   "cell_type": "code",
   "execution_count": 60,
   "id": "ac2b151b",
   "metadata": {},
   "outputs": [],
   "source": [
    "import numpy as np\n",
    "import pandas as pd\n",
    "import matplotlib.pyplot as plt\n",
    "from scipy.stats import uniform, norm"
   ]
  },
  {
   "cell_type": "markdown",
   "id": "25659b5d",
   "metadata": {},
   "source": [
    "## Problem 1: A Uniform Distribution\n",
    "\n",
    "Create a uniform distribution with `loc = 5` and `scale = 10`.  Assign your results as a distribution object to `dist1` below. Done correctly, this code will produce uniformly distributed points between 5 and 15 with mean at 10."
   ]
  },
  {
   "cell_type": "code",
   "execution_count": 61,
   "id": "f1cd801f",
   "metadata": {},
   "outputs": [
    {
     "name": "stdout",
     "output_type": "stream",
     "text": [
      "<class 'scipy.stats._distn_infrastructure.rv_continuous_frozen'>\n"
     ]
    }
   ],
   "source": [
    "### GRADED\n",
    "\n",
    "dist1 = ''\n",
    "\n",
    "# YOUR CODE HERE\n",
    "dist1 = uniform(loc = 5, scale =10)\n",
    "\n",
    "# Answer check\n",
    "print(type(dist1))"
   ]
  },
  {
   "cell_type": "markdown",
   "id": "a9396ff6",
   "metadata": {},
   "source": [
    "## Problem 2: Loop of Samples\n",
    "\n",
    "Now, you are to generate samples of size 1 - 500 using `dist1`'s `.rvs` method including the `random_state = 22`.  For each sample, append the sample mean to the list `sample_means`.  "
   ]
  },
  {
   "cell_type": "code",
   "execution_count": 62,
   "id": "9f67d0b7",
   "metadata": {},
   "outputs": [
    {
     "name": "stdout",
     "output_type": "stream",
     "text": [
      "<class 'list'>\n",
      "[7.084605373588426, 8.450707995611044, 8.702265448121944, 9.924654082394818, 9.2820463731392] \n",
      " [9.917152492762177, 9.92702320427582, 9.923037839990696, 9.921343577252099, 9.926403777871194]\n"
     ]
    }
   ],
   "source": [
    "### GRADED\n",
    "\n",
    "sample_means = []\n",
    "\n",
    "#loop over values 1 - 500\n",
    "\n",
    "    #generate samples \n",
    "    #remember the random_state\n",
    "    \n",
    "    #find sample mean\n",
    "    \n",
    "    #append mean to sample_means\n",
    "\n",
    "# YOUR CODE HERE\n",
    "for sample_size in range(1, 501):\n",
    "    samples = dist1.rvs(size=sample_size, random_state = 22)\n",
    "    sample_mean = np.mean(samples)\n",
    "    sample_means.append(sample_mean)\n",
    "\n",
    "# Answer check\n",
    "print(type(sample_means))\n",
    "print(sample_means[:5], '\\n', sample_means[-5:])"
   ]
  },
  {
   "cell_type": "markdown",
   "id": "70343df2",
   "metadata": {},
   "source": [
    "## Problem 3: Comparing the sample means to actual\n",
    "\n",
    "Note that the actual mean of our data is 10.  The code below will generate a plot that compares the actual mean to the sampled means.  Do the sample means approximate the true mean with error less than .1 if the sample size is 400?  Assign your answer as a boolean value to `ans3` below -- True for yes, False for no.  Plot the results using the code below.\n",
    "\n",
    "```python\n",
    "plt.plot(range(1, 501), sample_means, label = 'sample mean', color = 'purple')\n",
    "plt.axhline(10, label = 'true mean', color = 'green')\n",
    "plt.xlabel('Sample Size')\n",
    "plt.legend();\n",
    "```"
   ]
  },
  {
   "cell_type": "code",
   "execution_count": 63,
   "id": "cf33a4d8",
   "metadata": {},
   "outputs": [
    {
     "name": "stdout",
     "output_type": "stream",
     "text": [
      "<class 'bool'>\n"
     ]
    },
    {
     "data": {
      "image/png": "[encoded data removed]",
      "text/plain": [
       "<Figure size 640x480 with 1 Axes>"
      ]
     },
     "metadata": {},
     "output_type": "display_data"
    }
   ],
   "source": [
    "### GRADED\n",
    "\n",
    "ans3 = ''\n",
    "\n",
    "# YOUR CODE HERE\n",
    "ans3= True\n",
    "\n",
    "plt.plot(range(1, 501), sample_means, label = 'sample mean', color = 'purple')\n",
    "plt.axhline(10, label = 'true mean', color = 'green')\n",
    "plt.xlabel('Sample Size')\n",
    "plt.legend();\n",
    "\n",
    "# Answer check\n",
    "print(type(ans3))"
   ]
  },
  {
   "cell_type": "markdown",
   "id": "407bd885",
   "metadata": {},
   "source": [
    "## Problem 4: Distribution of Sample Means\n",
    "\n",
    "As you notice in the plot above, there is larger variation in the small sample sizes.  As the lectures suggest, consider only those samples of size 30 or more and compute their mean and standard deviation.  Assign the samples as a list to `samples_30_or_more` below and compute the mean of these samples and thier standard deviation.  Assign the mean and deviation to `samples_mean` and `samples_std` below.  Uncomment the code to see a histogram of these sample means.  \n",
    "\n",
    "HINT: remember that Python starts counting at 0, so using 'sample_means[30:]' is actually incorrect."
   ]
  },
  {
   "cell_type": "code",
   "execution_count": 64,
   "id": "ac13c405",
   "metadata": {},
   "outputs": [
    {
     "name": "stdout",
     "output_type": "stream",
     "text": [
      "<class 'list'>\n",
      "9.955489061213552\n",
      "0.07692775219192274\n"
     ]
    },
    {
     "data": {
      "image/png": "[encoded data removed]",
      "text/plain": [
       "<Figure size 640x480 with 1 Axes>"
      ]
     },
     "metadata": {},
     "output_type": "display_data"
    }
   ],
   "source": [
    "### GRADED\n",
    "\n",
    "samples_30_or_more = ''\n",
    "samples_mean = ''\n",
    "samples_std = ''\n",
    "\n",
    "\n",
    "# YOUR CODE HERE\n",
    "samples_30_or_more = sample_means[29:]\n",
    "samples_mean = np.mean(samples_30_or_more)\n",
    "samples_std = np.std(samples_30_or_more)\n",
    "plt.hist(samples_30_or_more, edgecolor = 'black', alpha = 0.3)\n",
    "plt.title('Distribution of Sample Means');\n",
    "\n",
    "# Answer check\n",
    "print(type(samples_30_or_more))\n",
    "print(samples_mean)\n",
    "print(samples_std)"
   ]
  },
  {
   "cell_type": "markdown",
   "id": "07a2ddb1",
   "metadata": {},
   "source": [
    "## Problem 5: Repeat with Gaussian Distribution\n",
    "\n",
    "Now, you are to repeat the above exercise using samples from a Normal distribution centered at 5 with standard deviation 10.  Draw samples size 30 - 500 and examine their mean and deviation.  Assign the ditribution object to `gauss_dist`, the sample to the list `sample_means_gauss`, the sample mean to `gauss_mean` and standard deviation to `gauss_standard_deviation` below. Use `random_state = 22`. "
   ]
  },
  {
   "cell_type": "code",
   "execution_count": 65,
   "id": "df476d15",
   "metadata": {},
   "outputs": [
    {
     "name": "stdout",
     "output_type": "stream",
     "text": [
      "<class 'list'>\n",
      "[5.711989769815023, 6.495208371007466, 5.670348611610735, 5.578864596890512, 5.5331440323908465] \n",
      " [5.85212242634483, 5.842782955969858, 5.840843359217326, 5.834153785572032, 5.841178380882507]\n",
      "5.568508473194311\n",
      "0.5371819419572758\n"
     ]
    }
   ],
   "source": [
    "### GRADED\n",
    "\n",
    "gauss_dist = ''\n",
    "sample_means_gauss = []\n",
    "\n",
    "#create the distribution object\n",
    "\n",
    "#loop over values 30 - 500\n",
    "\n",
    "    #generate samples \n",
    "    #remember the random_state\n",
    "    \n",
    "    #find sample mean\n",
    "    \n",
    "    #append mean to sample_means\n",
    "\n",
    "gauss_mean = ''\n",
    "gauss_standard_deviation = ''\n",
    "\n",
    "\n",
    "# YOUR CODE HERE\n",
    "gauss_dist = norm(loc = 5, scale = 10)\n",
    "for sample_size_gauss in range (30,501):\n",
    "    sample_gauss = gauss_dist.rvs(size=sample_size_gauss, random_state = 22)\n",
    "    sample_mean_gauss = np.mean(sample_gauss)\n",
    "    sample_means_gauss.append(sample_mean_gauss)\n",
    "    \n",
    "gauss_mean = np.mean(sample_means_gauss)\n",
    "gauss_standard_deviation = np.std(sample_means_gauss)\n",
    "\n",
    "# Answer check\n",
    "print(type(sample_means_gauss))\n",
    "print(sample_means_gauss[:5], '\\n', sample_means_gauss[-5:])\n",
    "print(gauss_mean)\n",
    "print(gauss_standard_deviation)"
   ]
  },
  {
   "cell_type": "markdown",
   "id": "d5cb36ae",
   "metadata": {},
   "source": [
    "# Overview: Multivariate Distributions\n",
    "\n",
    "Now that you understand univariate distributions, it's time to move on to multivariate distributions. Multivariate distributions are probability distributions containing more than one random variable. This type of distribution helps determine the probability of a combination of events occurring together. For example, a multivariate distribution might tell you the likelihood of obtaining a specific sample mean and sample variance based upon a random sampling of a population. Throughout this section of Module 2, Dr. Gomes will use a dataset based on some physical characteristics of Gentoo penguins to develop your understanding of multivariate distributions."
   ]
  },
  {
   "cell_type": "markdown",
   "id": "5333e887",
   "metadata": {},
   "source": [
    "## Codio Activity 2.4: Measures of Center and Spread\n",
    "\n",
    "Measures of central tendency for datasets are typically mean, median, mode, variance, and standard deviation. We will explore mode in later modules. This assignment focuses on using pandas to compute numerical summaries of data. You will load in a dataset and compute the mean, median, variance, and standard deviation of numeric features in the data. You will also examine the spread of the data using quartiles and the interquartile range, also identifying outliers using the  1.5×𝐼𝑄𝑅  rule.\n",
    "\n",
    "### Index:\n",
    "\n",
    "- [Problem 1: Load the Data](#Problem-1:-Load-the-Data)\n",
    "- [Problem 2: Base Salary Distribution Mean](#Problem-2:-Base-Salary-Distribution-Mean)\n",
    "- [Problem 3: Base Salary Distribution Median](#Problem-3:-Base-Salary-Distribution-Median)\n",
    "- [Problem 4: Determining Quartiles](#Problem-4:-Determining-Quartiles)\n",
    "- [Problem 5: Interquartile Range](#Problem-5:-Interquartile-Range)\n",
    "- [Problem 6: Rule for Outliers](#Problem-6:-Rule-for-Outliers)\n",
    "- [Problem 7: Dropping Outliers](#Problem-7:-Dropping-Outliers)\n",
    "- [Problem 8: Finding the Mean with no Outliers](#Problem-8:-Finding-the-Mean-with-no-Outliers)\n",
    "- [Problem 9: Finding the Median with no Outliers](#Problem-9:-Finding-the-Median-with-no-Outliers)\n",
    "- [Problem 10: Standard Deviation with numpy](#Problem-10:-Standard-Deviation-with-numpy)\n",
    "- [Problem 11: Standard Deviation with pandas](#Problem-11:-Standard-Deviation-with-pandas)\n",
    "- [Problem 12: Measure of Center](#Problem-12:-Measure-of-Center)\n",
    "- [Problem 13: Measure of Spread](#Problem-13:-Measure-of-Spread)"
   ]
  },
  {
   "cell_type": "code",
   "execution_count": 67,
   "id": "9c1ac695",
   "metadata": {},
   "outputs": [],
   "source": [
    "import pandas as pd\n",
    "import matplotlib.pyplot as plt\n",
    "import numpy as np"
   ]
  },
  {
   "cell_type": "markdown",
   "id": "55e50afc",
   "metadata": {},
   "source": [
    "### The Data\n",
    "\n",
    "The dataset for this assignment comes from New York City's Open Data, and contains information about the citywide payroll data.  Below, you are to load the data from a `.csv` file.  "
   ]
  },
  {
   "cell_type": "markdown",
   "id": "af184923",
   "metadata": {},
   "source": [
    "### Problem 1: Load the Data\n",
    "\n",
    "Below, load the data file located in the `data` folder named `nyc_salaries.csv`.  Assign your DataFrame to `nyc_salary_data`."
   ]
  },
  {
   "cell_type": "code",
   "execution_count": 69,
   "id": "6581bb00",
   "metadata": {},
   "outputs": [],
   "source": [
    "###GRADED\n",
    "\n",
    "nyc_salary_data = ''\n",
    "\n",
    "# YOUR CODE HERE\n",
    "nyc_salary_data = pd.read_csv(\"DataSets/nyc_salaries.csv\")"
   ]
  },
  {
   "cell_type": "code",
   "execution_count": 70,
   "id": "842c605f",
   "metadata": {},
   "outputs": [
    {
     "name": "stdout",
     "output_type": "stream",
     "text": [
      "<class 'pandas.core.frame.DataFrame'>\n",
      "RangeIndex: 590210 entries, 0 to 590209\n",
      "Data columns (total 17 columns):\n",
      " #   Column                      Non-Null Count   Dtype  \n",
      "---  ------                      --------------   -----  \n",
      " 0   fiscal_year                 590210 non-null  int64  \n",
      " 1   payroll_number              590210 non-null  int64  \n",
      " 2   agency_name                 590210 non-null  object \n",
      " 3   last_name                   589838 non-null  object \n",
      " 4   first_name                  589835 non-null  object \n",
      " 5   agency_start_date           590147 non-null  object \n",
      " 6   work_location_borough       590207 non-null  object \n",
      " 7   title_description           590204 non-null  object \n",
      " 8   leave_status_as_of_july_31  590210 non-null  object \n",
      " 9   base_salary                 590210 non-null  float64\n",
      " 10  pay_basis                   590210 non-null  object \n",
      " 11  regular_hours               590210 non-null  float64\n",
      " 12  regular_gross_paid          590210 non-null  float64\n",
      " 13  ot_hours                    590210 non-null  float64\n",
      " 14  total_ot_paid               590210 non-null  float64\n",
      " 15  total_other_pay             590210 non-null  float64\n",
      " 16  mid_init                    349608 non-null  object \n",
      "dtypes: float64(6), int64(2), object(9)\n",
      "memory usage: 76.6+ MB\n"
     ]
    }
   ],
   "source": [
    "nyc_salary_data.info()"
   ]
  },
  {
   "cell_type": "code",
   "execution_count": 71,
   "id": "88b02af6",
   "metadata": {},
   "outputs": [
    {
     "data": {
      "text/html": [
       "<div>\n",
       "<style scoped>\n",
       "    .dataframe tbody tr th:only-of-type {\n",
       "        vertical-align: middle;\n",
       "    }\n",
       "\n",
       "    .dataframe tbody tr th {\n",
       "        vertical-align: top;\n",
       "    }\n",
       "\n",
       "    .dataframe thead th {\n",
       "        text-align: right;\n",
       "    }\n",
       "</style>\n",
       "<table border=\"1\" class=\"dataframe\">\n",
       "  <thead>\n",
       "    <tr style=\"text-align: right;\">\n",
       "      <th></th>\n",
       "      <th>fiscal_year</th>\n",
       "      <th>payroll_number</th>\n",
       "      <th>agency_name</th>\n",
       "      <th>last_name</th>\n",
       "      <th>first_name</th>\n",
       "      <th>agency_start_date</th>\n",
       "      <th>work_location_borough</th>\n",
       "      <th>title_description</th>\n",
       "      <th>leave_status_as_of_july_31</th>\n",
       "      <th>base_salary</th>\n",
       "      <th>pay_basis</th>\n",
       "      <th>regular_hours</th>\n",
       "      <th>regular_gross_paid</th>\n",
       "      <th>ot_hours</th>\n",
       "      <th>total_ot_paid</th>\n",
       "      <th>total_other_pay</th>\n",
       "      <th>mid_init</th>\n",
       "    </tr>\n",
       "  </thead>\n",
       "  <tbody>\n",
       "    <tr>\n",
       "      <th>0</th>\n",
       "      <td>2020</td>\n",
       "      <td>17</td>\n",
       "      <td>OFFICE OF EMERGENCY MANAGEMENT</td>\n",
       "      <td>BEREZIN</td>\n",
       "      <td>MIKHAIL</td>\n",
       "      <td>2015-08-10T00:00:00.000</td>\n",
       "      <td>BROOKLYN</td>\n",
       "      <td>EMERGENCY PREPAREDNESS MANAGER</td>\n",
       "      <td>ACTIVE</td>\n",
       "      <td>86005.0</td>\n",
       "      <td>per Annum</td>\n",
       "      <td>1820.0</td>\n",
       "      <td>84698.21</td>\n",
       "      <td>0.0</td>\n",
       "      <td>0.0</td>\n",
       "      <td>0.0</td>\n",
       "      <td>NaN</td>\n",
       "    </tr>\n",
       "    <tr>\n",
       "      <th>1</th>\n",
       "      <td>2020</td>\n",
       "      <td>17</td>\n",
       "      <td>OFFICE OF EMERGENCY MANAGEMENT</td>\n",
       "      <td>GEAGER</td>\n",
       "      <td>VERONICA</td>\n",
       "      <td>2016-09-12T00:00:00.000</td>\n",
       "      <td>BROOKLYN</td>\n",
       "      <td>EMERGENCY PREPAREDNESS MANAGER</td>\n",
       "      <td>ACTIVE</td>\n",
       "      <td>86005.0</td>\n",
       "      <td>per Annum</td>\n",
       "      <td>1820.0</td>\n",
       "      <td>84698.21</td>\n",
       "      <td>0.0</td>\n",
       "      <td>0.0</td>\n",
       "      <td>0.0</td>\n",
       "      <td>M</td>\n",
       "    </tr>\n",
       "    <tr>\n",
       "      <th>2</th>\n",
       "      <td>2020</td>\n",
       "      <td>17</td>\n",
       "      <td>OFFICE OF EMERGENCY MANAGEMENT</td>\n",
       "      <td>RAMANI</td>\n",
       "      <td>SHRADDHA</td>\n",
       "      <td>2016-02-22T00:00:00.000</td>\n",
       "      <td>BROOKLYN</td>\n",
       "      <td>EMERGENCY PREPAREDNESS MANAGER</td>\n",
       "      <td>ACTIVE</td>\n",
       "      <td>86005.0</td>\n",
       "      <td>per Annum</td>\n",
       "      <td>1820.0</td>\n",
       "      <td>84698.21</td>\n",
       "      <td>0.0</td>\n",
       "      <td>0.0</td>\n",
       "      <td>0.0</td>\n",
       "      <td>NaN</td>\n",
       "    </tr>\n",
       "    <tr>\n",
       "      <th>3</th>\n",
       "      <td>2020</td>\n",
       "      <td>17</td>\n",
       "      <td>OFFICE OF EMERGENCY MANAGEMENT</td>\n",
       "      <td>ROTTA</td>\n",
       "      <td>JONATHAN</td>\n",
       "      <td>2013-09-16T00:00:00.000</td>\n",
       "      <td>BROOKLYN</td>\n",
       "      <td>EMERGENCY PREPAREDNESS MANAGER</td>\n",
       "      <td>ACTIVE</td>\n",
       "      <td>86005.0</td>\n",
       "      <td>per Annum</td>\n",
       "      <td>1820.0</td>\n",
       "      <td>84698.21</td>\n",
       "      <td>0.0</td>\n",
       "      <td>0.0</td>\n",
       "      <td>0.0</td>\n",
       "      <td>D</td>\n",
       "    </tr>\n",
       "    <tr>\n",
       "      <th>4</th>\n",
       "      <td>2020</td>\n",
       "      <td>17</td>\n",
       "      <td>OFFICE OF EMERGENCY MANAGEMENT</td>\n",
       "      <td>WILSON II</td>\n",
       "      <td>ROBERT</td>\n",
       "      <td>2018-04-30T00:00:00.000</td>\n",
       "      <td>BROOKLYN</td>\n",
       "      <td>EMERGENCY PREPAREDNESS MANAGER</td>\n",
       "      <td>ACTIVE</td>\n",
       "      <td>86005.0</td>\n",
       "      <td>per Annum</td>\n",
       "      <td>1820.0</td>\n",
       "      <td>84698.21</td>\n",
       "      <td>0.0</td>\n",
       "      <td>0.0</td>\n",
       "      <td>0.0</td>\n",
       "      <td>P</td>\n",
       "    </tr>\n",
       "  </tbody>\n",
       "</table>\n",
       "</div>"
      ],
      "text/plain": [
       "   fiscal_year  payroll_number                     agency_name  last_name  \\\n",
       "0         2020              17  OFFICE OF EMERGENCY MANAGEMENT    BEREZIN   \n",
       "1         2020              17  OFFICE OF EMERGENCY MANAGEMENT     GEAGER   \n",
       "2         2020              17  OFFICE OF EMERGENCY MANAGEMENT     RAMANI   \n",
       "3         2020              17  OFFICE OF EMERGENCY MANAGEMENT      ROTTA   \n",
       "4         2020              17  OFFICE OF EMERGENCY MANAGEMENT  WILSON II   \n",
       "\n",
       "  first_name        agency_start_date work_location_borough  \\\n",
       "0    MIKHAIL  2015-08-10T00:00:00.000              BROOKLYN   \n",
       "1   VERONICA  2016-09-12T00:00:00.000              BROOKLYN   \n",
       "2   SHRADDHA  2016-02-22T00:00:00.000              BROOKLYN   \n",
       "3   JONATHAN  2013-09-16T00:00:00.000              BROOKLYN   \n",
       "4     ROBERT  2018-04-30T00:00:00.000              BROOKLYN   \n",
       "\n",
       "                title_description leave_status_as_of_july_31  base_salary  \\\n",
       "0  EMERGENCY PREPAREDNESS MANAGER                     ACTIVE      86005.0   \n",
       "1  EMERGENCY PREPAREDNESS MANAGER                     ACTIVE      86005.0   \n",
       "2  EMERGENCY PREPAREDNESS MANAGER                     ACTIVE      86005.0   \n",
       "3  EMERGENCY PREPAREDNESS MANAGER                     ACTIVE      86005.0   \n",
       "4  EMERGENCY PREPAREDNESS MANAGER                     ACTIVE      86005.0   \n",
       "\n",
       "   pay_basis  regular_hours  regular_gross_paid  ot_hours  total_ot_paid  \\\n",
       "0  per Annum         1820.0            84698.21       0.0            0.0   \n",
       "1  per Annum         1820.0            84698.21       0.0            0.0   \n",
       "2  per Annum         1820.0            84698.21       0.0            0.0   \n",
       "3  per Annum         1820.0            84698.21       0.0            0.0   \n",
       "4  per Annum         1820.0            84698.21       0.0            0.0   \n",
       "\n",
       "   total_other_pay mid_init  \n",
       "0              0.0      NaN  \n",
       "1              0.0        M  \n",
       "2              0.0      NaN  \n",
       "3              0.0        D  \n",
       "4              0.0        P  "
      ]
     },
     "execution_count": 71,
     "metadata": {},
     "output_type": "execute_result"
    }
   ],
   "source": [
    "nyc_salary_data.head()"
   ]
  },
  {
   "cell_type": "markdown",
   "id": "6f2184a8",
   "metadata": {},
   "source": [
    "#### Examine the Data\n",
    "\n",
    "Now that the data is loaded, information about the datatypes and missing values as well as a quick look at the first five rows of the data can be had with the `.info()` and `.head()` methods."
   ]
  },
  {
   "cell_type": "markdown",
   "id": "cc52ca38",
   "metadata": {},
   "source": [
    "### Problem 2: Base Salary Distribution Mean\n",
    "\n",
    "Use pandas to determine the mean of the `base_salary` column.  Assign your answer to the variable `ans_2` below."
   ]
  },
  {
   "cell_type": "code",
   "execution_count": 72,
   "id": "ad93c26d",
   "metadata": {
    "scrolled": false
   },
   "outputs": [
    {
     "data": {
      "text/plain": [
       "<Axes: >"
      ]
     },
     "execution_count": 72,
     "metadata": {},
     "output_type": "execute_result"
    },
    {
     "data": {
      "image/png": "[encoded data removed]",
      "text/plain": [
       "<Figure size 640x480 with 1 Axes>"
      ]
     },
     "metadata": {},
     "output_type": "display_data"
    }
   ],
   "source": [
    "nyc_salary_data['base_salary'].hist()"
   ]
  },
  {
   "cell_type": "code",
   "execution_count": 73,
   "id": "7c2fa5fe",
   "metadata": {},
   "outputs": [],
   "source": [
    "###GRADED\n",
    "\n",
    "ans_2 = ''\n",
    "\n",
    "# YOUR CODE HERE\n",
    "ans_2 = nyc_salary_data['base_salary'].mean()"
   ]
  },
  {
   "cell_type": "markdown",
   "id": "ba1e8a07",
   "metadata": {},
   "source": [
    "### Problem 3: Base Salary Distribution Median\n",
    "\n",
    "Use the pandas `.median()` method to find the median of the `base_salary` column. Assign your answer to the variable `ans_3` below."
   ]
  },
  {
   "cell_type": "code",
   "execution_count": 74,
   "id": "638ab601",
   "metadata": {},
   "outputs": [],
   "source": [
    "###GRADED\n",
    "\n",
    "ans_3 = ''\n",
    "\n",
    "# YOUR CODE HERE\n",
    "ans_3 = nyc_salary_data['base_salary'].median()"
   ]
  },
  {
   "cell_type": "markdown",
   "id": "e7e470bb",
   "metadata": {},
   "source": [
    "### Problem 4: Determining Quartiles\n",
    "\n",
    "The first quartile in our data is found by arranging the data from least to greatest and determining the median of the lower half of the data.  The third quartile is the median of the upper half of the data.  Pandas has a `.quantile()` method that accepts an argument as a single value or list of values of quantiles to compute.  Use the `.quantile()` method to determine the first and third quartile of the data.  Assign your answers to the variables `first_quartile` and `third_quartile` below."
   ]
  },
  {
   "cell_type": "code",
   "execution_count": 75,
   "id": "1e735c88",
   "metadata": {},
   "outputs": [],
   "source": [
    "###GRADED\n",
    "\n",
    "first_quartile = ''\n",
    "third_quartile = ''\n",
    "\n",
    "# YOUR CODE HERE\n",
    "first_quartile = nyc_salary_data['base_salary'].quantile(.25)\n",
    "third_quartile = nyc_salary_data['base_salary'].quantile(.75)"
   ]
  },
  {
   "cell_type": "markdown",
   "id": "4a537292",
   "metadata": {},
   "source": [
    "### Problem 5: Interquartile Range\n",
    "\n",
    "The Interquartile Range (IQR) is the distance between the third and first quartile.  \n",
    "\n",
    "$$\\text{IQR} = Q_3 - Q_1$$\n",
    "\n",
    "Use your work from problem 4 to determine the IQR for the `base_salary` column and assign it to the `iqr` variable below."
   ]
  },
  {
   "cell_type": "code",
   "execution_count": 76,
   "id": "63db8354",
   "metadata": {},
   "outputs": [],
   "source": [
    "###GRADED\n",
    "\n",
    "iqr = ''\n",
    "\n",
    "# YOUR CODE HERE\n",
    "iqr = third_quartile - first_quartile"
   ]
  },
  {
   "cell_type": "markdown",
   "id": "41332549",
   "metadata": {},
   "source": [
    "### Problem 6: Rule for Outliers\n",
    "\n",
    "We can use the IQR to determine boundaries for outliers.  One such rule of thumb is that any values $1.5 \\times IQR$ above the third quartile or below the first are considered outliers.  Below you are to determine the upper and lower boundaries for outliers using this rule, assign your solutions to the variables `lower` and `upper` below."
   ]
  },
  {
   "cell_type": "code",
   "execution_count": 77,
   "id": "b01b952e",
   "metadata": {},
   "outputs": [],
   "source": [
    "###GRADED\n",
    "\n",
    "lower = ''\n",
    "upper = ''\n",
    "\n",
    "# YOUR CODE HERE\n",
    "rule = 1.5*iqr\n",
    "lower = first_quartile - rule\n",
    "upper = third_quartile + rule"
   ]
  },
  {
   "cell_type": "markdown",
   "id": "1797ad62",
   "metadata": {},
   "source": [
    "### Problem 7: Dropping Outliers\n",
    "\n",
    "With the upper and lower boundaries in place, we want to drop outliers from the dataset.  Use pandas to limit the data based on outliers using the $1.5 \\times IQR$ rule on the `base_salary` column.  Assign the resulting DataFrame to `salaries_no_outlier` below."
   ]
  },
  {
   "cell_type": "code",
   "execution_count": 81,
   "id": "c86838b0",
   "metadata": {},
   "outputs": [
    {
     "data": {
      "text/html": [
       "<div>\n",
       "<style scoped>\n",
       "    .dataframe tbody tr th:only-of-type {\n",
       "        vertical-align: middle;\n",
       "    }\n",
       "\n",
       "    .dataframe tbody tr th {\n",
       "        vertical-align: top;\n",
       "    }\n",
       "\n",
       "    .dataframe thead th {\n",
       "        text-align: right;\n",
       "    }\n",
       "</style>\n",
       "<table border=\"1\" class=\"dataframe\">\n",
       "  <thead>\n",
       "    <tr style=\"text-align: right;\">\n",
       "      <th></th>\n",
       "      <th>fiscal_year</th>\n",
       "      <th>payroll_number</th>\n",
       "      <th>agency_name</th>\n",
       "      <th>last_name</th>\n",
       "      <th>first_name</th>\n",
       "      <th>agency_start_date</th>\n",
       "      <th>work_location_borough</th>\n",
       "      <th>title_description</th>\n",
       "      <th>leave_status_as_of_july_31</th>\n",
       "      <th>base_salary</th>\n",
       "      <th>pay_basis</th>\n",
       "      <th>regular_hours</th>\n",
       "      <th>regular_gross_paid</th>\n",
       "      <th>ot_hours</th>\n",
       "      <th>total_ot_paid</th>\n",
       "      <th>total_other_pay</th>\n",
       "      <th>mid_init</th>\n",
       "    </tr>\n",
       "  </thead>\n",
       "  <tbody>\n",
       "    <tr>\n",
       "      <th>0</th>\n",
       "      <td>2020</td>\n",
       "      <td>17</td>\n",
       "      <td>OFFICE OF EMERGENCY MANAGEMENT</td>\n",
       "      <td>BEREZIN</td>\n",
       "      <td>MIKHAIL</td>\n",
       "      <td>2015-08-10T00:00:00.000</td>\n",
       "      <td>BROOKLYN</td>\n",
       "      <td>EMERGENCY PREPAREDNESS MANAGER</td>\n",
       "      <td>ACTIVE</td>\n",
       "      <td>86005.00</td>\n",
       "      <td>per Annum</td>\n",
       "      <td>1820.0</td>\n",
       "      <td>84698.21</td>\n",
       "      <td>0.0</td>\n",
       "      <td>0.0</td>\n",
       "      <td>0.00</td>\n",
       "      <td>NaN</td>\n",
       "    </tr>\n",
       "    <tr>\n",
       "      <th>1</th>\n",
       "      <td>2020</td>\n",
       "      <td>17</td>\n",
       "      <td>OFFICE OF EMERGENCY MANAGEMENT</td>\n",
       "      <td>GEAGER</td>\n",
       "      <td>VERONICA</td>\n",
       "      <td>2016-09-12T00:00:00.000</td>\n",
       "      <td>BROOKLYN</td>\n",
       "      <td>EMERGENCY PREPAREDNESS MANAGER</td>\n",
       "      <td>ACTIVE</td>\n",
       "      <td>86005.00</td>\n",
       "      <td>per Annum</td>\n",
       "      <td>1820.0</td>\n",
       "      <td>84698.21</td>\n",
       "      <td>0.0</td>\n",
       "      <td>0.0</td>\n",
       "      <td>0.00</td>\n",
       "      <td>M</td>\n",
       "    </tr>\n",
       "    <tr>\n",
       "      <th>2</th>\n",
       "      <td>2020</td>\n",
       "      <td>17</td>\n",
       "      <td>OFFICE OF EMERGENCY MANAGEMENT</td>\n",
       "      <td>RAMANI</td>\n",
       "      <td>SHRADDHA</td>\n",
       "      <td>2016-02-22T00:00:00.000</td>\n",
       "      <td>BROOKLYN</td>\n",
       "      <td>EMERGENCY PREPAREDNESS MANAGER</td>\n",
       "      <td>ACTIVE</td>\n",
       "      <td>86005.00</td>\n",
       "      <td>per Annum</td>\n",
       "      <td>1820.0</td>\n",
       "      <td>84698.21</td>\n",
       "      <td>0.0</td>\n",
       "      <td>0.0</td>\n",
       "      <td>0.00</td>\n",
       "      <td>NaN</td>\n",
       "    </tr>\n",
       "    <tr>\n",
       "      <th>3</th>\n",
       "      <td>2020</td>\n",
       "      <td>17</td>\n",
       "      <td>OFFICE OF EMERGENCY MANAGEMENT</td>\n",
       "      <td>ROTTA</td>\n",
       "      <td>JONATHAN</td>\n",
       "      <td>2013-09-16T00:00:00.000</td>\n",
       "      <td>BROOKLYN</td>\n",
       "      <td>EMERGENCY PREPAREDNESS MANAGER</td>\n",
       "      <td>ACTIVE</td>\n",
       "      <td>86005.00</td>\n",
       "      <td>per Annum</td>\n",
       "      <td>1820.0</td>\n",
       "      <td>84698.21</td>\n",
       "      <td>0.0</td>\n",
       "      <td>0.0</td>\n",
       "      <td>0.00</td>\n",
       "      <td>D</td>\n",
       "    </tr>\n",
       "    <tr>\n",
       "      <th>4</th>\n",
       "      <td>2020</td>\n",
       "      <td>17</td>\n",
       "      <td>OFFICE OF EMERGENCY MANAGEMENT</td>\n",
       "      <td>WILSON II</td>\n",
       "      <td>ROBERT</td>\n",
       "      <td>2018-04-30T00:00:00.000</td>\n",
       "      <td>BROOKLYN</td>\n",
       "      <td>EMERGENCY PREPAREDNESS MANAGER</td>\n",
       "      <td>ACTIVE</td>\n",
       "      <td>86005.00</td>\n",
       "      <td>per Annum</td>\n",
       "      <td>1820.0</td>\n",
       "      <td>84698.21</td>\n",
       "      <td>0.0</td>\n",
       "      <td>0.0</td>\n",
       "      <td>0.00</td>\n",
       "      <td>P</td>\n",
       "    </tr>\n",
       "    <tr>\n",
       "      <th>...</th>\n",
       "      <td>...</td>\n",
       "      <td>...</td>\n",
       "      <td>...</td>\n",
       "      <td>...</td>\n",
       "      <td>...</td>\n",
       "      <td>...</td>\n",
       "      <td>...</td>\n",
       "      <td>...</td>\n",
       "      <td>...</td>\n",
       "      <td>...</td>\n",
       "      <td>...</td>\n",
       "      <td>...</td>\n",
       "      <td>...</td>\n",
       "      <td>...</td>\n",
       "      <td>...</td>\n",
       "      <td>...</td>\n",
       "      <td>...</td>\n",
       "    </tr>\n",
       "    <tr>\n",
       "      <th>590205</th>\n",
       "      <td>2020</td>\n",
       "      <td>747</td>\n",
       "      <td>DEPT OF ED PER SESSION TEACHER</td>\n",
       "      <td>RUGG</td>\n",
       "      <td>ISAAC</td>\n",
       "      <td>2016-11-21T00:00:00.000</td>\n",
       "      <td>MANHATTAN</td>\n",
       "      <td>TEACHER- PER SESSION</td>\n",
       "      <td>CEASED</td>\n",
       "      <td>33.18</td>\n",
       "      <td>per Day</td>\n",
       "      <td>0.0</td>\n",
       "      <td>0.00</td>\n",
       "      <td>0.0</td>\n",
       "      <td>0.0</td>\n",
       "      <td>0.62</td>\n",
       "      <td>NaN</td>\n",
       "    </tr>\n",
       "    <tr>\n",
       "      <th>590206</th>\n",
       "      <td>2020</td>\n",
       "      <td>747</td>\n",
       "      <td>DEPT OF ED PER SESSION TEACHER</td>\n",
       "      <td>SMITH</td>\n",
       "      <td>MICHAEL</td>\n",
       "      <td>1993-03-04T00:00:00.000</td>\n",
       "      <td>MANHATTAN</td>\n",
       "      <td>TEACHER- PER SESSION</td>\n",
       "      <td>CEASED</td>\n",
       "      <td>33.18</td>\n",
       "      <td>per Day</td>\n",
       "      <td>0.0</td>\n",
       "      <td>0.00</td>\n",
       "      <td>0.0</td>\n",
       "      <td>0.0</td>\n",
       "      <td>0.62</td>\n",
       "      <td>A</td>\n",
       "    </tr>\n",
       "    <tr>\n",
       "      <th>590207</th>\n",
       "      <td>2020</td>\n",
       "      <td>747</td>\n",
       "      <td>DEPT OF ED PER SESSION TEACHER</td>\n",
       "      <td>KOWALCZYK</td>\n",
       "      <td>MEGAN</td>\n",
       "      <td>2014-12-05T00:00:00.000</td>\n",
       "      <td>MANHATTAN</td>\n",
       "      <td>TEACHER- PER SESSION</td>\n",
       "      <td>CEASED</td>\n",
       "      <td>33.18</td>\n",
       "      <td>per Day</td>\n",
       "      <td>0.0</td>\n",
       "      <td>0.00</td>\n",
       "      <td>0.0</td>\n",
       "      <td>0.0</td>\n",
       "      <td>0.61</td>\n",
       "      <td>NaN</td>\n",
       "    </tr>\n",
       "    <tr>\n",
       "      <th>590208</th>\n",
       "      <td>2020</td>\n",
       "      <td>747</td>\n",
       "      <td>DEPT OF ED PER SESSION TEACHER</td>\n",
       "      <td>MUGGEO</td>\n",
       "      <td>DAWN</td>\n",
       "      <td>1997-09-02T00:00:00.000</td>\n",
       "      <td>MANHATTAN</td>\n",
       "      <td>TEACHER- PER SESSION</td>\n",
       "      <td>CEASED</td>\n",
       "      <td>33.18</td>\n",
       "      <td>per Day</td>\n",
       "      <td>0.0</td>\n",
       "      <td>0.00</td>\n",
       "      <td>0.0</td>\n",
       "      <td>0.0</td>\n",
       "      <td>0.61</td>\n",
       "      <td>M</td>\n",
       "    </tr>\n",
       "    <tr>\n",
       "      <th>590209</th>\n",
       "      <td>2020</td>\n",
       "      <td>747</td>\n",
       "      <td>DEPT OF ED PER SESSION TEACHER</td>\n",
       "      <td>CABAN</td>\n",
       "      <td>CHERYL</td>\n",
       "      <td>2006-08-31T00:00:00.000</td>\n",
       "      <td>MANHATTAN</td>\n",
       "      <td>TEACHER- PER SESSION</td>\n",
       "      <td>CEASED</td>\n",
       "      <td>33.18</td>\n",
       "      <td>per Day</td>\n",
       "      <td>0.0</td>\n",
       "      <td>0.00</td>\n",
       "      <td>0.0</td>\n",
       "      <td>0.0</td>\n",
       "      <td>0.60</td>\n",
       "      <td>M</td>\n",
       "    </tr>\n",
       "  </tbody>\n",
       "</table>\n",
       "<p>589728 rows × 17 columns</p>\n",
       "</div>"
      ],
      "text/plain": [
       "        fiscal_year  payroll_number                     agency_name  \\\n",
       "0              2020              17  OFFICE OF EMERGENCY MANAGEMENT   \n",
       "1              2020              17  OFFICE OF EMERGENCY MANAGEMENT   \n",
       "2              2020              17  OFFICE OF EMERGENCY MANAGEMENT   \n",
       "3              2020              17  OFFICE OF EMERGENCY MANAGEMENT   \n",
       "4              2020              17  OFFICE OF EMERGENCY MANAGEMENT   \n",
       "...             ...             ...                             ...   \n",
       "590205         2020             747  DEPT OF ED PER SESSION TEACHER   \n",
       "590206         2020             747  DEPT OF ED PER SESSION TEACHER   \n",
       "590207         2020             747  DEPT OF ED PER SESSION TEACHER   \n",
       "590208         2020             747  DEPT OF ED PER SESSION TEACHER   \n",
       "590209         2020             747  DEPT OF ED PER SESSION TEACHER   \n",
       "\n",
       "        last_name first_name        agency_start_date work_location_borough  \\\n",
       "0         BEREZIN    MIKHAIL  2015-08-10T00:00:00.000              BROOKLYN   \n",
       "1          GEAGER   VERONICA  2016-09-12T00:00:00.000              BROOKLYN   \n",
       "2          RAMANI   SHRADDHA  2016-02-22T00:00:00.000              BROOKLYN   \n",
       "3           ROTTA   JONATHAN  2013-09-16T00:00:00.000              BROOKLYN   \n",
       "4       WILSON II     ROBERT  2018-04-30T00:00:00.000              BROOKLYN   \n",
       "...           ...        ...                      ...                   ...   \n",
       "590205       RUGG      ISAAC  2016-11-21T00:00:00.000             MANHATTAN   \n",
       "590206      SMITH    MICHAEL  1993-03-04T00:00:00.000             MANHATTAN   \n",
       "590207  KOWALCZYK      MEGAN  2014-12-05T00:00:00.000             MANHATTAN   \n",
       "590208     MUGGEO       DAWN  1997-09-02T00:00:00.000             MANHATTAN   \n",
       "590209      CABAN     CHERYL  2006-08-31T00:00:00.000             MANHATTAN   \n",
       "\n",
       "                     title_description leave_status_as_of_july_31  \\\n",
       "0       EMERGENCY PREPAREDNESS MANAGER                     ACTIVE   \n",
       "1       EMERGENCY PREPAREDNESS MANAGER                     ACTIVE   \n",
       "2       EMERGENCY PREPAREDNESS MANAGER                     ACTIVE   \n",
       "3       EMERGENCY PREPAREDNESS MANAGER                     ACTIVE   \n",
       "4       EMERGENCY PREPAREDNESS MANAGER                     ACTIVE   \n",
       "...                                ...                        ...   \n",
       "590205            TEACHER- PER SESSION                     CEASED   \n",
       "590206            TEACHER- PER SESSION                     CEASED   \n",
       "590207            TEACHER- PER SESSION                     CEASED   \n",
       "590208            TEACHER- PER SESSION                     CEASED   \n",
       "590209            TEACHER- PER SESSION                     CEASED   \n",
       "\n",
       "        base_salary  pay_basis  regular_hours  regular_gross_paid  ot_hours  \\\n",
       "0          86005.00  per Annum         1820.0            84698.21       0.0   \n",
       "1          86005.00  per Annum         1820.0            84698.21       0.0   \n",
       "2          86005.00  per Annum         1820.0            84698.21       0.0   \n",
       "3          86005.00  per Annum         1820.0            84698.21       0.0   \n",
       "4          86005.00  per Annum         1820.0            84698.21       0.0   \n",
       "...             ...        ...            ...                 ...       ...   \n",
       "590205        33.18    per Day            0.0                0.00       0.0   \n",
       "590206        33.18    per Day            0.0                0.00       0.0   \n",
       "590207        33.18    per Day            0.0                0.00       0.0   \n",
       "590208        33.18    per Day            0.0                0.00       0.0   \n",
       "590209        33.18    per Day            0.0                0.00       0.0   \n",
       "\n",
       "        total_ot_paid  total_other_pay mid_init  \n",
       "0                 0.0             0.00      NaN  \n",
       "1                 0.0             0.00        M  \n",
       "2                 0.0             0.00      NaN  \n",
       "3                 0.0             0.00        D  \n",
       "4                 0.0             0.00        P  \n",
       "...               ...              ...      ...  \n",
       "590205            0.0             0.62      NaN  \n",
       "590206            0.0             0.62        A  \n",
       "590207            0.0             0.61      NaN  \n",
       "590208            0.0             0.61        M  \n",
       "590209            0.0             0.60        M  \n",
       "\n",
       "[589728 rows x 17 columns]"
      ]
     },
     "execution_count": 81,
     "metadata": {},
     "output_type": "execute_result"
    }
   ],
   "source": [
    "###GRADED\n",
    "\n",
    "salaries_no_outlier = ''\n",
    "\n",
    "# YOUR CODE HERE\n",
    "salaries_no_outlier = nyc_salary_data.loc[(nyc_salary_data['base_salary'] > lower) & ( nyc_salary_data['base_salary'] < upper )]\n",
    "salaries_no_outlier"
   ]
  },
  {
   "cell_type": "markdown",
   "id": "4ef54ef4",
   "metadata": {},
   "source": [
    "### Problem 8: Finding the Mean with no Outliers\n",
    "\n",
    "Now that the outliers have been removed, we determine the mean of the `base_salary` column.  Assign your answer to `mean_no_outliers` below."
   ]
  },
  {
   "cell_type": "code",
   "execution_count": 82,
   "id": "44504715",
   "metadata": {},
   "outputs": [],
   "source": [
    "###GRADED\n",
    "\n",
    "mean_no_outliers = ''\n",
    "\n",
    "# YOUR CODE HERE\n",
    "salaries_no_outlier = nyc_salary_data['base_salary'].loc[(nyc_salary_data['base_salary'] > lower) & ( nyc_salary_data['base_salary'] < upper )]\n",
    "mean_no_outliers = salaries_no_outlier.mean()"
   ]
  },
  {
   "cell_type": "markdown",
   "id": "07aa0e66",
   "metadata": {},
   "source": [
    "### Problem 9: Finding the Median with no Outliers\n",
    "\n",
    "Now, determine the median of the `base_salary` column with the outlier removed.  Assign your solution to the variable `median_no_outliers` below."
   ]
  },
  {
   "cell_type": "code",
   "execution_count": 83,
   "id": "c9f1953c",
   "metadata": {},
   "outputs": [],
   "source": [
    "###GRADED\n",
    "\n",
    "median_no_outliers = ''\n",
    "\n",
    "# YOUR CODE HERE\n",
    "median_no_outliers = salaries_no_outlier.median()"
   ]
  },
  {
   "cell_type": "markdown",
   "id": "d4742468",
   "metadata": {},
   "source": [
    "### Problem 10: Standard Deviation with `numpy`\n",
    "\n",
    "An alternative measure for the spread of a dataset to the IQR is the **standard deviation**.  Both pandas and numpy have functions for computing the standard deviation, however they have different assumptions about the data.  To begin, we will use the `np.std()` method to determine the standard deviation of the `base_salary` column from both our datasets.  Assign your results to the variable `std_numpy_outliers` and `std_numpy_no_outliers` below."
   ]
  },
  {
   "cell_type": "code",
   "execution_count": 84,
   "id": "96482e6e",
   "metadata": {},
   "outputs": [],
   "source": [
    "###GRADED\n",
    "\n",
    "std_numpy_outliers = ''\n",
    "std_numpy_no_outliers = ''\n",
    "\n",
    "# YOUR CODE HERE\n",
    "std_numpy_outliers = np.std(nyc_salary_data['base_salary'])\n",
    "std_numpy_no_outliers = np.std(salaries_no_outlier)"
   ]
  },
  {
   "cell_type": "markdown",
   "id": "1e4c5687",
   "metadata": {},
   "source": [
    "### Problem 11: Standard Deviation with `pandas`\n",
    "\n",
    "Now, we will use pandas to determine the standard deviation of the `base_salary` column.  Assign the standard deviation from pandas to `std_pandas_no_outliers` and `std_pandas_outliers` respectively below."
   ]
  },
  {
   "cell_type": "code",
   "execution_count": 85,
   "id": "c7ea873e",
   "metadata": {},
   "outputs": [],
   "source": [
    "###GRADED\n",
    "\n",
    "std_pandas_outliers = ''\n",
    "std_pandas_no_outliers = ''\n",
    "\n",
    "# YOUR CODE HERE\n",
    "std_pandas_outliers = nyc_salary_data['base_salary'].std()\n",
    "std_pandas_no_outliers = salaries_no_outlier.std()"
   ]
  },
  {
   "cell_type": "markdown",
   "id": "f7ea8907",
   "metadata": {},
   "source": [
    "#### Why are these different?\n",
    "\n",
    "Pandas and NumPy make different assumptions about the data, which is why we receive slightly different results.  This involves the default degree of freedom argument in the functions.  From the numpy docs we have:\n",
    "\n",
    "```\n",
    "ddof: int, optional\n",
    "Means Delta Degrees of Freedom. The divisor used in calculations is N - ddof, where N represents the number of elements. By default ddof is zero.\n",
    "```\n",
    "\n",
    "and from pandas we find:\n",
    "\n",
    "```\n",
    "ddof: int, default 1\n",
    "Delta Degrees of Freedom. The divisor used in calculations is N - ddof, where N represents the number of elements.\n",
    "```\n",
    "\n",
    "The main reason for the different assumptions is motivated by the fact that all the deviations from the mean will add to zero.  This means we would always know the the last deviation if we know the previous $n-1$.  Only $n-1$ are able to vary freely so the average is determined by dividing the total by $n-1$.  In practice the values won't differ greatly, it is important to recognize that there are some different assumptions however."
   ]
  },
  {
   "cell_type": "markdown",
   "id": "cb704b6e",
   "metadata": {},
   "source": [
    "#### A Second Small Example\n",
    "\n",
    "The data below relates to salmon smolts (young salmon) and the reflectance of their skin as a measure for readiness for migration."
   ]
  },
  {
   "cell_type": "code",
   "execution_count": 88,
   "id": "7ed384ba",
   "metadata": {},
   "outputs": [],
   "source": [
    "smolt = pd.read_csv('DataSets/smolts.csv', index_col=  0)"
   ]
  },
  {
   "cell_type": "code",
   "execution_count": 89,
   "id": "20c26b00",
   "metadata": {},
   "outputs": [
    {
     "data": {
      "text/html": [
       "<div>\n",
       "<style scoped>\n",
       "    .dataframe tbody tr th:only-of-type {\n",
       "        vertical-align: middle;\n",
       "    }\n",
       "\n",
       "    .dataframe tbody tr th {\n",
       "        vertical-align: top;\n",
       "    }\n",
       "\n",
       "    .dataframe thead th {\n",
       "        text-align: right;\n",
       "    }\n",
       "</style>\n",
       "<table border=\"1\" class=\"dataframe\">\n",
       "  <thead>\n",
       "    <tr style=\"text-align: right;\">\n",
       "      <th></th>\n",
       "      <th>Reflectance</th>\n",
       "    </tr>\n",
       "    <tr>\n",
       "      <th>ID</th>\n",
       "      <th></th>\n",
       "    </tr>\n",
       "  </thead>\n",
       "  <tbody>\n",
       "    <tr>\n",
       "      <th>1</th>\n",
       "      <td>57.62747</td>\n",
       "    </tr>\n",
       "    <tr>\n",
       "      <th>2</th>\n",
       "      <td>54.83248</td>\n",
       "    </tr>\n",
       "    <tr>\n",
       "      <th>3</th>\n",
       "      <td>63.44216</td>\n",
       "    </tr>\n",
       "    <tr>\n",
       "      <th>4</th>\n",
       "      <td>57.01707</td>\n",
       "    </tr>\n",
       "    <tr>\n",
       "      <th>5</th>\n",
       "      <td>54.71893</td>\n",
       "    </tr>\n",
       "  </tbody>\n",
       "</table>\n",
       "</div>"
      ],
      "text/plain": [
       "    Reflectance\n",
       "ID             \n",
       "1      57.62747\n",
       "2      54.83248\n",
       "3      63.44216\n",
       "4      57.01707\n",
       "5      54.71893"
      ]
     },
     "execution_count": 89,
     "metadata": {},
     "output_type": "execute_result"
    }
   ],
   "source": [
    "smolt.head()"
   ]
  },
  {
   "cell_type": "markdown",
   "id": "41d1ad7f",
   "metadata": {},
   "source": [
    "### Problem 12: Measure of Center\n",
    "\n",
    "Determine the mean and median of the `Reflectance` column, save these to the variable `smolt_mean` and `smolt_median` below.  Which of the measures do you believe more appropriate?"
   ]
  },
  {
   "cell_type": "code",
   "execution_count": 90,
   "id": "e858ac48",
   "metadata": {},
   "outputs": [],
   "source": [
    "###GRADED\n",
    "\n",
    "smolt_mean = ''\n",
    "smolt_median = ''\n",
    "\n",
    "# YOUR CODE HERE\n",
    "smolt_mean = smolt['Reflectance'].mean()\n",
    "smolt_median = smolt['Reflectance'].median()"
   ]
  },
  {
   "cell_type": "markdown",
   "id": "4e2b40f5",
   "metadata": {},
   "source": [
    "### Problem 13: Measure of Spread\n",
    "\n",
    "Compute the standard deviation and the quartiles of the `Reflectance` column using pandas. Save your results to `smolt_std`, `smolt_first_quartile` and `smolt_third_quartile` below.  Which of these do you prefer for describing the spread of the data?  "
   ]
  },
  {
   "cell_type": "code",
   "execution_count": 91,
   "id": "1f53d9de",
   "metadata": {},
   "outputs": [],
   "source": [
    "###GRADED\n",
    "\n",
    "smolt_std = ''\n",
    "smolt_first_quartile = ''\n",
    "smolt_third_quartile = ''\n",
    "\n",
    "# YOUR CODE HERE\n",
    "smolt_std = smolt['Reflectance'].std()\n",
    "smolt_first_quartile = smolt['Reflectance'].quantile(.25)\n",
    "smolt_third_quartile = smolt['Reflectance'].quantile(.75)"
   ]
  },
  {
   "cell_type": "markdown",
   "id": "a5fc05e2",
   "metadata": {},
   "source": [
    "## Codio Activity 2.5: Plotting Multivariate Datasets\n",
    "\n",
    "In this activity you will focus on creating histograms and scatterplots using `matplotlib`.  You are to generate these plots both using standard plotting commands and the utilities with pandas DataFrame's to plot as a DataFrame method.  Finally, you will customize elements of the plots using additional `matplotlib` functions.\n",
    "\n",
    "\n",
    "### Index:\n",
    "\n",
    "- [Problem 1: Load the Data](#Problem-1:-Load-the-Data)\n",
    "- [Problem 2: Features for Histogram](#Problem-2:-Features-for-Histogram)\n",
    "- [Problem 3: Histogram of Life Expectancy](#Problem-3:-Histogram-of-Life-Expectancy)\n",
    "- [Problem 4: Adding a title and human readable label](#Problem-4:-Adding-a-title-and-human-readable-label)\n",
    "- [Problem 5: Histogram of GDP](#Problem-5:-Histogram-of-GDP)\n",
    "- [Problem 6: Customizing the Histogram](#Problem-6:-Customizing-the-Histogram)\n",
    "- [Problem 7: Scatterplot of GDP vs. Life Expectancy](#Problem-7:-Scatterplot-of-GDP-vs.-Life-Expectancy)\n",
    "- [Problem 8: Logarithmic Transformation](#Problem-8:-Logarithmic-Transformation)\n",
    "- [Problem 9: pandas histogram](#Problem-9:-pandas-histogram)\n",
    "- [Problem 10: pandas scatterplot](#Problem-10:-pandas-scatterplot)"
   ]
  },
  {
   "cell_type": "code",
   "execution_count": 97,
   "id": "d564d4e5",
   "metadata": {},
   "outputs": [],
   "source": [
    "import matplotlib.pyplot as plt\n",
    "import pandas as pd\n",
    "import numpy as np"
   ]
  },
  {
   "cell_type": "markdown",
   "id": "8d33e828",
   "metadata": {},
   "source": [
    "### Dataset: Gapminder\n",
    "\n",
    "The data below has been extracted from the [*gapminder*](https://www.gapminder.org/) organization.  Documentation for the larger data sources can be found [here](https://www.gapminder.org/data/documentation/) and the implementation of the data as a python library [here](https://pypi.org/project/gapminder/).  The data contains information on the Gross Domestic Product, Life Expectancy, and Population in five year intervals for countries around the world."
   ]
  },
  {
   "cell_type": "markdown",
   "id": "24de9c92",
   "metadata": {},
   "source": [
    "### Problem 1: Load the Data\n",
    "\n",
    "The dataset is available in the `data` folder and is named `gapminder.csv`. Load this in as `gap_df` below.  "
   ]
  },
  {
   "cell_type": "code",
   "execution_count": 98,
   "id": "0e5e944a",
   "metadata": {},
   "outputs": [],
   "source": [
    "### GRADED\n",
    "\n",
    "gap_df = ''\n",
    "\n",
    "# YOUR CODE HERE\n",
    "gap_df = pd.read_csv(\"DataSets/gapminder.csv\")"
   ]
  },
  {
   "cell_type": "markdown",
   "id": "f528c94f",
   "metadata": {},
   "source": [
    "### Problem 2: Features for Histograms\n",
    "\n",
    "A histogram is a plot that is appropriate for continuous numeric features.  Examine the data and determine a list of columns that are eligible for drawing histograms.  Save your answer as a list of strings that match the column names exactly to `hist_columns` below.\n",
    "\n",
    "```python\n",
    "hist_columns = ['col_name_1', 'col_name_2', ...]"
   ]
  },
  {
   "cell_type": "code",
   "execution_count": 99,
   "id": "ac4deabe",
   "metadata": {},
   "outputs": [
    {
     "name": "stdout",
     "output_type": "stream",
     "text": [
      "<class 'list'>\n"
     ]
    }
   ],
   "source": [
    "### GRADED\n",
    "\n",
    "hist_columns = ''\n",
    "\n",
    "# YOUR CODE HERE\n",
    "hist_columns = ['lifeExp', 'pop', 'gdpPercap']\n",
    "\n",
    "# Answer check\n",
    "print(type(hist_columns)) ##should be list"
   ]
  },
  {
   "cell_type": "markdown",
   "id": "8fac4909",
   "metadata": {},
   "source": [
    "### Problem 3: Histogram of Life Expectancy\n",
    "\n",
    "Use the `matplotlib` histogram with `plt.hist()` to create a histogram of the Life Expectancy column.  Use the `plt.savefig()` method to save the image as `life_exp_hist.png` in the `images` folder.\n",
    "\n",
    "Please note that because Codio autograder is not able to grade visualizations meaningfully, this quesiton is designed to be graded complete/incomplete. To collect points for the completed assignment, you have to submit your assignment."
   ]
  },
  {
   "cell_type": "code",
   "execution_count": 100,
   "id": "12e52b68",
   "metadata": {},
   "outputs": [
    {
     "data": {
      "image/png": "[encoded data removed]",
      "text/plain": [
       "<Figure size 640x480 with 1 Axes>"
      ]
     },
     "metadata": {},
     "output_type": "display_data"
    }
   ],
   "source": [
    "### GRADED\n",
    "\n",
    "# YOUR CODE HERE\n",
    "life_exp_data = gap_df['lifeExp']\n",
    "plt.hist(life_exp_data)\n",
    "plt.savefig('images/life_exp_hist.png')"
   ]
  },
  {
   "cell_type": "markdown",
   "id": "b0eb34df",
   "metadata": {},
   "source": [
    "### Problem 4: Adding a title and human readable label\n",
    "\n",
    "Use the `plt.title()` method to add the title \"Histogram of Life Expectancy\".  Also, use the `plt.xlabel()` method to add a label to the x-axis \"Life Expectancy\".  Save your image as `hist2.png` to the `image` folder.\n",
    "\n",
    "Please note that because Codio autograder is not able to grade visualizations meaningfully, this quesiton is designed to be graded complete/incomplete. To collect points for the completed assignment, you have to submit your assignment."
   ]
  },
  {
   "cell_type": "code",
   "execution_count": 101,
   "id": "4cc36a53",
   "metadata": {},
   "outputs": [
    {
     "data": {
      "image/png": "[encoded data removed]",
      "text/plain": [
       "<Figure size 640x480 with 1 Axes>"
      ]
     },
     "metadata": {},
     "output_type": "display_data"
    }
   ],
   "source": [
    "### GRADED\n",
    "\n",
    "# YOUR CODE HERE\n",
    "plt.hist(life_exp_data)\n",
    "plt.xlabel('Life Expectancy')\n",
    "plt.title('Histogram of Life Expectancy')\n",
    "plt.savefig('images/hist2.png')"
   ]
  },
  {
   "cell_type": "markdown",
   "id": "1097670d",
   "metadata": {},
   "source": [
    "### Problem 5: Histogram of GDP\n",
    "\n",
    "Use matplotlib to create a histogram of the GDP data.  Add the title \"Histogram of GDP per capita\" and an x-label \"GDP Per Capita\".  Save your histogram as `gdp_hist.png` to the images folder.\n",
    "\n",
    "Please note that because Codio autograder is not able to grade visualizations meaningfully, this quesiton is designed to be graded complete/incomplete. To collect points for the completed assignment, you have to submit your assignment."
   ]
  },
  {
   "cell_type": "code",
   "execution_count": 102,
   "id": "a9e932b4",
   "metadata": {},
   "outputs": [
    {
     "data": {
      "image/png": "[encoded data removed]",
      "text/plain": [
       "<Figure size 640x480 with 1 Axes>"
      ]
     },
     "metadata": {},
     "output_type": "display_data"
    }
   ],
   "source": [
    "### GRADED\n",
    "\n",
    "# YOUR CODE HERE\n",
    "gdp = gap_df['gdpPercap']\n",
    "plt.hist(gdp)\n",
    "plt.xlabel('GDP Per Capita')\n",
    "plt.title('Histogram of GDP per capita')\n",
    "plt.savefig('images/gdp_hist.png')"
   ]
  },
  {
   "cell_type": "markdown",
   "id": "0e0749fc",
   "metadata": {},
   "source": [
    "### Problem 6: Customizing the Histogram\n",
    "\n",
    "Set the `bins` argument to 50, the `edgecolor` to black, `alpha` to 0.5, `color` to lightblue, and follow your histogram function with the `plt.grid()` function to add a grid to the plot.  Add the same title and x-label as problem 5.\n",
    "\n",
    "Please note that because Codio autograder is not able to grade visualizations meaningfully, this quesiton is designed to be graded complete/incomplete. To collect points for the completed assignment, you have to submit your assignment."
   ]
  },
  {
   "cell_type": "code",
   "execution_count": 103,
   "id": "67e6a5c7",
   "metadata": {},
   "outputs": [
    {
     "data": {
      "image/png": "[encoded data removed]",
      "text/plain": [
       "<Figure size 640x480 with 1 Axes>"
      ]
     },
     "metadata": {},
     "output_type": "display_data"
    }
   ],
   "source": [
    "### GRADED\n",
    "\n",
    "# YOUR CODE HERE\n",
    "plt.hist(gdp,bins=50, edgecolor=\"black\",alpha=0.5,color=\"lightblue\")\n",
    "plt.xlabel('GDP Per Capita')\n",
    "plt.title('Histogram of GDP per capita')\n",
    "plt.grid()"
   ]
  },
  {
   "cell_type": "markdown",
   "id": "2a066c4f",
   "metadata": {},
   "source": [
    "### Problem 7: Scatterplot of GDP vs. Life Expectancy\n",
    "\n",
    "`matplotlib` also has a scatterplot method that you can use with `plt.scatter()`.  Use this to create a scatterplot with the GDP column on the x-axis and Life Expectancy on the y-axis.  Add human readable labels \"GDP Per Capita\" and \"Life Expectancy (years)\" respectively and a title \"GDP vs. Life Expectancy\".\n",
    "\n",
    "Please note that because Codio autograder is not able to grade visualizations meaningfully, this quesiton is designed to be graded complete/incomplete. To collect points for the completed assignment, you have to submit your assignment."
   ]
  },
  {
   "cell_type": "code",
   "execution_count": 104,
   "id": "1dd09b56",
   "metadata": {},
   "outputs": [
    {
     "data": {
      "text/plain": [
       "Text(0.5, 1.0, 'GDP vs. Life Expectancy')"
      ]
     },
     "execution_count": 104,
     "metadata": {},
     "output_type": "execute_result"
    },
    {
     "data": {
      "image/png": "[encoded data removed]",
      "text/plain": [
       "<Figure size 640x480 with 1 Axes>"
      ]
     },
     "metadata": {},
     "output_type": "display_data"
    }
   ],
   "source": [
    "### GRADED\n",
    "\n",
    "# YOUR CODE HERE\n",
    "plt.scatter(x=gdp, y=life_exp_data)\n",
    "plt.xlabel('GDP Per Capit')\n",
    "plt.ylabel('Life Expectancy (years)')\n",
    "plt.title('GDP vs. Life Expectancy')"
   ]
  },
  {
   "cell_type": "markdown",
   "id": "7fafc660",
   "metadata": {},
   "source": [
    "### Problem 8: Logarithmic Transformation\n",
    "\n",
    "Notice the non-linear relationship between GDP and Life Expectancy.  One common transformation is to take something that looks exponential, and to take a logarithm in order to transform the relationship to a linear one.  Draw a scatterplot like above but use `np.log()` to plot the logarithm of GDP vs. Life Expectancy.  Add appropriate x and y labels, and the title \"Logarithm of GDP vs. Life Expectancy\". \n",
    "\n",
    "Please note that because Codio autograder is not able to grade visualizations meaningfully, this quesiton is designed to be graded complete/incomplete. To collect points for the completed assignment, you have to submit your assignment."
   ]
  },
  {
   "cell_type": "code",
   "execution_count": 105,
   "id": "9ed79de3",
   "metadata": {},
   "outputs": [
    {
     "data": {
      "text/plain": [
       "Text(0.5, 1.0, 'Logarithm of GDP vs. Life Expectancy')"
      ]
     },
     "execution_count": 105,
     "metadata": {},
     "output_type": "execute_result"
    },
    {
     "data": {
      "image/png": "[encoded data removed]",
      "text/plain": [
       "<Figure size 640x480 with 1 Axes>"
      ]
     },
     "metadata": {},
     "output_type": "display_data"
    }
   ],
   "source": [
    "### GRADED\n",
    "\n",
    "# YOUR CODE HERE\n",
    "np.log(gdp)\n",
    "plt.scatter(x=np.log(gdp), y=life_exp_data)\n",
    "plt.xlabel('Logarithm of GDP Per Capita')\n",
    "plt.ylabel('Life Expectancy (years)')\n",
    "plt.title('Logarithm of GDP vs. Life Expectancy')"
   ]
  },
  {
   "cell_type": "markdown",
   "id": "3a269e7a",
   "metadata": {},
   "source": [
    "### Problem 9: `pandas` histogram\n",
    "\n",
    "An alternative way to draw a histogram of a column in a DataFrame is to use the `.hist()` method.  This wraps the matplotlib histogram function and adds a few additional presets like a grid.  Below, select the GDP column and use the `.hist()` method to create a histogram using the built in pandas method. Save your image as `gdp_hist_pandas.png` to the `images` folder.\n",
    "\n",
    "Please note that because Codio autograder is not able to grade visualizations meaningfully, this quesiton is designed to be graded complete/incomplete. To collect points for the completed assignment, you have to submit your assignment."
   ]
  },
  {
   "cell_type": "code",
   "execution_count": 106,
   "id": "be9d72db",
   "metadata": {},
   "outputs": [
    {
     "data": {
      "image/png": "[encoded data removed]",
      "text/plain": [
       "<Figure size 640x480 with 1 Axes>"
      ]
     },
     "metadata": {},
     "output_type": "display_data"
    }
   ],
   "source": [
    "### GRADED\n",
    "\n",
    "# YOUR CODE HERE\n",
    "gdp.hist()\n",
    "plt.savefig(\"images/gdp_hist_pandas.png\")"
   ]
  },
  {
   "cell_type": "markdown",
   "id": "efe74cfe",
   "metadata": {},
   "source": [
    "### Problem 10: `pandas` scatterplot\n",
    "\n",
    "Similar to the `.hist()` method, pandas has a general `.plot()` method where you can specify the kind of plot.  Use this to create a scatterplot of GDP on the x-axis and Life Expectancy on the y-axis.  You will have to call `.plot()` on the entire DataFrame and specify the `x` and `y` arguments to the `.plot()` function with the `kind = scatter` argument.  Save your plot as `gdp_lifexp_scatter_pandas.png` to the `images` folder.\n",
    "\n",
    "Please note that because Codio autograder is not able to grade visualizations meaningfully, this quesiton is designed to be graded complete/incomplete. To collect points for the completed assignment, you have to submit your assignment."
   ]
  },
  {
   "cell_type": "code",
   "execution_count": 107,
   "id": "1c2bc0b5",
   "metadata": {
    "scrolled": false
   },
   "outputs": [
    {
     "data": {
      "image/png": "[encoded data removed]",
      "text/plain": [
       "<Figure size 640x480 with 1 Axes>"
      ]
     },
     "metadata": {},
     "output_type": "display_data"
    }
   ],
   "source": [
    "### GRADED\n",
    "\n",
    "# YOUR CODE HERE\n",
    "gap_df.plot(kind=\"scatter\",x=\"gdpPercap\",y=\"lifeExp\")\n",
    "plt.savefig(\"images/gdp_lifexp_scatter_pandas.png\")"
   ]
  },
  {
   "cell_type": "markdown",
   "id": "1e131d90",
   "metadata": {},
   "source": [
    "## Pandas covariance correlations and introduction to <a href=\"https://seaborn.pydata.org/\">Seaborn</a>"
   ]
  },
  {
   "cell_type": "markdown",
   "id": "65946035",
   "metadata": {},
   "source": [
    "### Import statement "
   ]
  },
  {
   "cell_type": "code",
   "execution_count": 115,
   "id": "14ddb799",
   "metadata": {},
   "outputs": [],
   "source": [
    "import pandas as pd\n",
    "import seaborn as sns"
   ]
  },
  {
   "cell_type": "code",
   "execution_count": 116,
   "id": "de5fdbc8",
   "metadata": {},
   "outputs": [],
   "source": [
    "gentoo = pd.read_csv(\"DataSets/Gentoo.csv\")\n",
    "gentoo = gentoo[['Culmen Length (mm)','Culmen Depth (mm)', 'Flipper Length (mm)', 'Body Mass (g)']]"
   ]
  },
  {
   "cell_type": "markdown",
   "id": "7083e898",
   "metadata": {},
   "source": [
    "### Covariance matrix\n",
    "<img src=\"Images/6.png\">"
   ]
  },
  {
   "cell_type": "code",
   "execution_count": 117,
   "id": "480f2e58",
   "metadata": {
    "scrolled": true
   },
   "outputs": [
    {
     "data": {
      "text/html": [
       "<div>\n",
       "<style scoped>\n",
       "    .dataframe tbody tr th:only-of-type {\n",
       "        vertical-align: middle;\n",
       "    }\n",
       "\n",
       "    .dataframe tbody tr th {\n",
       "        vertical-align: top;\n",
       "    }\n",
       "\n",
       "    .dataframe thead th {\n",
       "        text-align: right;\n",
       "    }\n",
       "</style>\n",
       "<table border=\"1\" class=\"dataframe\">\n",
       "  <thead>\n",
       "    <tr style=\"text-align: right;\">\n",
       "      <th></th>\n",
       "      <th>Culmen Length (mm)</th>\n",
       "      <th>Culmen Depth (mm)</th>\n",
       "      <th>Flipper Length (mm)</th>\n",
       "      <th>Body Mass (g)</th>\n",
       "    </tr>\n",
       "  </thead>\n",
       "  <tbody>\n",
       "    <tr>\n",
       "      <th>Culmen Length (mm)</th>\n",
       "      <td>9.497845</td>\n",
       "      <td>1.945580</td>\n",
       "      <td>13.213834</td>\n",
       "      <td>1039.626150</td>\n",
       "    </tr>\n",
       "    <tr>\n",
       "      <th>Culmen Depth (mm)</th>\n",
       "      <td>1.945580</td>\n",
       "      <td>0.962792</td>\n",
       "      <td>4.495995</td>\n",
       "      <td>355.694556</td>\n",
       "    </tr>\n",
       "    <tr>\n",
       "      <th>Flipper Length (mm)</th>\n",
       "      <td>13.213834</td>\n",
       "      <td>4.495995</td>\n",
       "      <td>42.054911</td>\n",
       "      <td>2297.144476</td>\n",
       "    </tr>\n",
       "    <tr>\n",
       "      <th>Body Mass (g)</th>\n",
       "      <td>1039.626150</td>\n",
       "      <td>355.694556</td>\n",
       "      <td>2297.144476</td>\n",
       "      <td>254133.180061</td>\n",
       "    </tr>\n",
       "  </tbody>\n",
       "</table>\n",
       "</div>"
      ],
      "text/plain": [
       "                     Culmen Length (mm)  Culmen Depth (mm)  \\\n",
       "Culmen Length (mm)             9.497845           1.945580   \n",
       "Culmen Depth (mm)              1.945580           0.962792   \n",
       "Flipper Length (mm)           13.213834           4.495995   \n",
       "Body Mass (g)               1039.626150         355.694556   \n",
       "\n",
       "                     Flipper Length (mm)  Body Mass (g)  \n",
       "Culmen Length (mm)             13.213834    1039.626150  \n",
       "Culmen Depth (mm)               4.495995     355.694556  \n",
       "Flipper Length (mm)            42.054911    2297.144476  \n",
       "Body Mass (g)                2297.144476  254133.180061  "
      ]
     },
     "execution_count": 117,
     "metadata": {},
     "output_type": "execute_result"
    }
   ],
   "source": [
    "gentoo.cov()  "
   ]
  },
  {
   "cell_type": "markdown",
   "id": "1f13dd66",
   "metadata": {},
   "source": [
    "### Correlation matrix "
   ]
  },
  {
   "cell_type": "code",
   "execution_count": 118,
   "id": "1d40becf",
   "metadata": {},
   "outputs": [
    {
     "data": {
      "text/html": [
       "<div>\n",
       "<style scoped>\n",
       "    .dataframe tbody tr th:only-of-type {\n",
       "        vertical-align: middle;\n",
       "    }\n",
       "\n",
       "    .dataframe tbody tr th {\n",
       "        vertical-align: top;\n",
       "    }\n",
       "\n",
       "    .dataframe thead th {\n",
       "        text-align: right;\n",
       "    }\n",
       "</style>\n",
       "<table border=\"1\" class=\"dataframe\">\n",
       "  <thead>\n",
       "    <tr style=\"text-align: right;\">\n",
       "      <th></th>\n",
       "      <th>Culmen Length (mm)</th>\n",
       "      <th>Culmen Depth (mm)</th>\n",
       "      <th>Flipper Length (mm)</th>\n",
       "      <th>Body Mass (g)</th>\n",
       "    </tr>\n",
       "  </thead>\n",
       "  <tbody>\n",
       "    <tr>\n",
       "      <th>Culmen Length (mm)</th>\n",
       "      <td>1.000000</td>\n",
       "      <td>0.643384</td>\n",
       "      <td>0.661162</td>\n",
       "      <td>0.669166</td>\n",
       "    </tr>\n",
       "    <tr>\n",
       "      <th>Culmen Depth (mm)</th>\n",
       "      <td>0.643384</td>\n",
       "      <td>1.000000</td>\n",
       "      <td>0.706563</td>\n",
       "      <td>0.719085</td>\n",
       "    </tr>\n",
       "    <tr>\n",
       "      <th>Flipper Length (mm)</th>\n",
       "      <td>0.661162</td>\n",
       "      <td>0.706563</td>\n",
       "      <td>1.000000</td>\n",
       "      <td>0.702667</td>\n",
       "    </tr>\n",
       "    <tr>\n",
       "      <th>Body Mass (g)</th>\n",
       "      <td>0.669166</td>\n",
       "      <td>0.719085</td>\n",
       "      <td>0.702667</td>\n",
       "      <td>1.000000</td>\n",
       "    </tr>\n",
       "  </tbody>\n",
       "</table>\n",
       "</div>"
      ],
      "text/plain": [
       "                     Culmen Length (mm)  Culmen Depth (mm)  \\\n",
       "Culmen Length (mm)             1.000000           0.643384   \n",
       "Culmen Depth (mm)              0.643384           1.000000   \n",
       "Flipper Length (mm)            0.661162           0.706563   \n",
       "Body Mass (g)                  0.669166           0.719085   \n",
       "\n",
       "                     Flipper Length (mm)  Body Mass (g)  \n",
       "Culmen Length (mm)              0.661162       0.669166  \n",
       "Culmen Depth (mm)               0.706563       0.719085  \n",
       "Flipper Length (mm)             1.000000       0.702667  \n",
       "Body Mass (g)                   0.702667       1.000000  "
      ]
     },
     "execution_count": 118,
     "metadata": {},
     "output_type": "execute_result"
    }
   ],
   "source": [
    "gentoo.corr() "
   ]
  },
  {
   "cell_type": "markdown",
   "id": "a84769b4",
   "metadata": {},
   "source": [
    "### Correlation matrix plot "
   ]
  },
  {
   "cell_type": "code",
   "execution_count": 119,
   "id": "4a86f7c1",
   "metadata": {},
   "outputs": [
    {
     "data": {
      "text/plain": [
       "<seaborn.axisgrid.PairGrid at 0x21a43500070>"
      ]
     },
     "execution_count": 119,
     "metadata": {},
     "output_type": "execute_result"
    },
    {
     "data": {
      "image/png": "[encoded data removed]",
      "text/plain": [
       "<Figure size 1000x1000 with 20 Axes>"
      ]
     },
     "metadata": {},
     "output_type": "display_data"
    }
   ],
   "source": [
    "sns.pairplot(gentoo)"
   ]
  },
  {
   "cell_type": "markdown",
   "id": "4ba5133e",
   "metadata": {},
   "source": [
    "### Codio Activity 2.6: Computing the Sample Covariance Matrix\n",
    "\n",
    "This activity focuses on using covariance and correlation to understand the strength of relationships between two quantitative variables.  Also, you will use a heatmap to visualize these relationships.  Finally, you identify situations where correlation is not an appropriate measure based on the assumption of a linear variable.\n",
    "\n",
    "#### Index:\n",
    "\n",
    "- [Problem 1: Calculating Covariance](#Problem-1:-Calculating-Covariance)\n",
    "- [Problem 2: Calculating Correlation](#Problem-2:-Calculating-Correlation)\n",
    "- [Problem 3: Heatmap of Covariance](#Problem-3:-Heatmap-of-Covariance)\n",
    "- [Problem 4: Heatmap of Correlation](#Problem-4:-Heatmap-of-Correlation)\n",
    "- [Problem 5: Strongest Positive Correlation](#Problem-5:-Strongest-Positive-Correlation)\n",
    "- [Problem 6: Interpreting negative correlation](#Problem-6:-Interpreting-negative-correlation)"
   ]
  },
  {
   "cell_type": "markdown",
   "id": "3596d5a1",
   "metadata": {},
   "source": [
    "#### Covariance and Correlation\n",
    "\n",
    "In probability theory and statistics, the mathematical concepts of covariance and correlation are very similar. Both describe the degree to which two random variables or sets of random variables tend to deviate from their expected values in similar ways.\n",
    "\n",
    "If X and Y are two random variables, with means (expected values)  $\\mu_X$ and  $\\mu_Y$ and standard deviations  $σ_X$ and  $σ_Y$, respectively, then their covariance and correlation are as follows:\n",
    "\n",
    "covariance $$\\text{cov}_{XY}=\\sigma_{XY}=E[(X-\\mu_{X})\\,(Y-\\mu_{Y})]$$\n",
    "\n",
    "correlation $$\\text{corr}_{XY} = \\rho_{XY} = E[(X - \\mu_X)(Y - \\mu_Y)]/(\\sigma_X \\sigma_Y)$$\n",
    "\n",
    "so that\n",
    "\n",
    "$$\\rho_{XY}=\\sigma_{XY}/(\\sigma_{X} \\sigma_{Y})$$\n",
    "\n",
    "\n",
    "where E is the expected value operator. Notably, correlation is dimensionless while covariance is in units obtained by multiplying the units of the two variables. --[source](https://en.wikipedia.org/wiki/Covariance_and_correlation)"
   ]
  },
  {
   "cell_type": "markdown",
   "id": "c4e2bd53",
   "metadata": {},
   "source": [
    "#### Dataset: Penguins\n",
    "\n",
    "Our sample dataset comes from the `seaborn` visualization library and contains measurements of penguins of different species located on different islands.  Below, we load the data and display the first few rows and datatype information."
   ]
  },
  {
   "cell_type": "code",
   "execution_count": 120,
   "id": "5d6cb2df",
   "metadata": {},
   "outputs": [],
   "source": [
    "import matplotlib.pyplot as plt\n",
    "import numpy as np\n",
    "import pandas as pd\n",
    "import seaborn as sns"
   ]
  },
  {
   "cell_type": "code",
   "execution_count": 121,
   "id": "17d6a25f",
   "metadata": {},
   "outputs": [],
   "source": [
    "penguin_df = pd.read_csv('DataSets/penguins.csv')"
   ]
  },
  {
   "cell_type": "code",
   "execution_count": 122,
   "id": "a8152e16",
   "metadata": {},
   "outputs": [
    {
     "name": "stdout",
     "output_type": "stream",
     "text": [
      "<class 'pandas.core.frame.DataFrame'>\n",
      "RangeIndex: 333 entries, 0 to 332\n",
      "Data columns (total 7 columns):\n",
      " #   Column             Non-Null Count  Dtype  \n",
      "---  ------             --------------  -----  \n",
      " 0   species            333 non-null    object \n",
      " 1   island             333 non-null    object \n",
      " 2   bill_length_mm     333 non-null    float64\n",
      " 3   bill_depth_mm      333 non-null    float64\n",
      " 4   flipper_length_mm  333 non-null    float64\n",
      " 5   body_mass_g        333 non-null    float64\n",
      " 6   sex                333 non-null    object \n",
      "dtypes: float64(4), object(3)\n",
      "memory usage: 18.3+ KB\n"
     ]
    }
   ],
   "source": [
    "penguin_df.info()"
   ]
  },
  {
   "cell_type": "code",
   "execution_count": 123,
   "id": "c781b399",
   "metadata": {},
   "outputs": [
    {
     "data": {
      "text/html": [
       "<div>\n",
       "<style scoped>\n",
       "    .dataframe tbody tr th:only-of-type {\n",
       "        vertical-align: middle;\n",
       "    }\n",
       "\n",
       "    .dataframe tbody tr th {\n",
       "        vertical-align: top;\n",
       "    }\n",
       "\n",
       "    .dataframe thead th {\n",
       "        text-align: right;\n",
       "    }\n",
       "</style>\n",
       "<table border=\"1\" class=\"dataframe\">\n",
       "  <thead>\n",
       "    <tr style=\"text-align: right;\">\n",
       "      <th></th>\n",
       "      <th>species</th>\n",
       "      <th>island</th>\n",
       "      <th>bill_length_mm</th>\n",
       "      <th>bill_depth_mm</th>\n",
       "      <th>flipper_length_mm</th>\n",
       "      <th>body_mass_g</th>\n",
       "      <th>sex</th>\n",
       "    </tr>\n",
       "  </thead>\n",
       "  <tbody>\n",
       "    <tr>\n",
       "      <th>0</th>\n",
       "      <td>Adelie</td>\n",
       "      <td>Torgersen</td>\n",
       "      <td>39.1</td>\n",
       "      <td>18.7</td>\n",
       "      <td>181.0</td>\n",
       "      <td>3750.0</td>\n",
       "      <td>Male</td>\n",
       "    </tr>\n",
       "    <tr>\n",
       "      <th>1</th>\n",
       "      <td>Adelie</td>\n",
       "      <td>Torgersen</td>\n",
       "      <td>39.5</td>\n",
       "      <td>17.4</td>\n",
       "      <td>186.0</td>\n",
       "      <td>3800.0</td>\n",
       "      <td>Female</td>\n",
       "    </tr>\n",
       "    <tr>\n",
       "      <th>2</th>\n",
       "      <td>Adelie</td>\n",
       "      <td>Torgersen</td>\n",
       "      <td>40.3</td>\n",
       "      <td>18.0</td>\n",
       "      <td>195.0</td>\n",
       "      <td>3250.0</td>\n",
       "      <td>Female</td>\n",
       "    </tr>\n",
       "    <tr>\n",
       "      <th>3</th>\n",
       "      <td>Adelie</td>\n",
       "      <td>Torgersen</td>\n",
       "      <td>36.7</td>\n",
       "      <td>19.3</td>\n",
       "      <td>193.0</td>\n",
       "      <td>3450.0</td>\n",
       "      <td>Female</td>\n",
       "    </tr>\n",
       "    <tr>\n",
       "      <th>4</th>\n",
       "      <td>Adelie</td>\n",
       "      <td>Torgersen</td>\n",
       "      <td>39.3</td>\n",
       "      <td>20.6</td>\n",
       "      <td>190.0</td>\n",
       "      <td>3650.0</td>\n",
       "      <td>Male</td>\n",
       "    </tr>\n",
       "  </tbody>\n",
       "</table>\n",
       "</div>"
      ],
      "text/plain": [
       "  species     island  bill_length_mm  bill_depth_mm  flipper_length_mm  \\\n",
       "0  Adelie  Torgersen            39.1           18.7              181.0   \n",
       "1  Adelie  Torgersen            39.5           17.4              186.0   \n",
       "2  Adelie  Torgersen            40.3           18.0              195.0   \n",
       "3  Adelie  Torgersen            36.7           19.3              193.0   \n",
       "4  Adelie  Torgersen            39.3           20.6              190.0   \n",
       "\n",
       "   body_mass_g     sex  \n",
       "0       3750.0    Male  \n",
       "1       3800.0  Female  \n",
       "2       3250.0  Female  \n",
       "3       3450.0  Female  \n",
       "4       3650.0    Male  "
      ]
     },
     "execution_count": 123,
     "metadata": {},
     "output_type": "execute_result"
    }
   ],
   "source": [
    "penguin_df.head()"
   ]
  },
  {
   "cell_type": "markdown",
   "id": "bcf7c1ae",
   "metadata": {},
   "source": [
    "#### Problem 1: Calculating Covariance\n",
    "\n",
    "Pandas DataFrame's have a built in `.cov()` method that will return the covariation between each of the numeric features.  Use the `.cov()` method below to create the covariance matrix.  Assign your solution to the variable `penguins_cov` below."
   ]
  },
  {
   "cell_type": "code",
   "execution_count": 124,
   "id": "a4ae6cfd",
   "metadata": {},
   "outputs": [
    {
     "name": "stderr",
     "output_type": "stream",
     "text": [
      "C:\\Users\\JDLondon\\AppData\\Local\\Temp\\ipykernel_22188\\1368122324.py:6: FutureWarning: The default value of numeric_only in DataFrame.cov is deprecated. In a future version, it will default to False. Select only valid columns or specify the value of numeric_only to silence this warning.\n",
      "  penguins_cov = penguin_df.cov()\n"
     ]
    }
   ],
   "source": [
    "### GRADED\n",
    "\n",
    "penguins_cov = ''\n",
    "\n",
    "# YOUR CODE HERE\n",
    "penguins_cov = penguin_df.cov()"
   ]
  },
  {
   "cell_type": "markdown",
   "id": "2df50cd1",
   "metadata": {},
   "source": [
    "#### Problem 2: Calculating Correlation\n",
    "\n",
    "Similarly, pandas DataFrames have a built in `.corr()` method that computes the correlation matrix of the numeric columns.  Below, use the `.corr()` method on the `penguins_df` and assign your results to the variable `penguin_corr` below."
   ]
  },
  {
   "cell_type": "code",
   "execution_count": 125,
   "id": "cef0e839",
   "metadata": {},
   "outputs": [
    {
     "name": "stderr",
     "output_type": "stream",
     "text": [
      "C:\\Users\\JDLondon\\AppData\\Local\\Temp\\ipykernel_22188\\1204835843.py:6: FutureWarning: The default value of numeric_only in DataFrame.corr is deprecated. In a future version, it will default to False. Select only valid columns or specify the value of numeric_only to silence this warning.\n",
      "  penguins_corr = penguin_df.corr()\n"
     ]
    }
   ],
   "source": [
    "### GRADED\n",
    "\n",
    "penguins_corr = ''\n",
    "\n",
    "# YOUR CODE HERE\n",
    "penguins_corr = penguin_df.corr()"
   ]
  },
  {
   "cell_type": "markdown",
   "id": "5b44049a",
   "metadata": {},
   "source": [
    "#### Problem 3: Heatmap of Covariance\n",
    "\n",
    "The covariance matrix can be visualized to color according to the strength of associations.  While `matplotlib` has a `.pcolor()` function that can do this, the `seaborn` heatmap is better suited for this visualization.  Use the `sns.heatmap()` function to visualize the covariance matrix.  Set the `annot` keyword argument to `True` so that the covariance values are displayed in the heatmap."
   ]
  },
  {
   "cell_type": "code",
   "execution_count": 126,
   "id": "f990d0af",
   "metadata": {},
   "outputs": [
    {
     "data": {
      "text/plain": [
       "<Axes: >"
      ]
     },
     "execution_count": 126,
     "metadata": {},
     "output_type": "execute_result"
    },
    {
     "data": {
      "image/png": "[encoded data removed]",
      "text/plain": [
       "<Figure size 640x480 with 2 Axes>"
      ]
     },
     "metadata": {},
     "output_type": "display_data"
    }
   ],
   "source": [
    "### GRADED\n",
    "\n",
    "# YOUR CODE HERE\n",
    "sns.heatmap(penguins_cov,annot=True)"
   ]
  },
  {
   "cell_type": "markdown",
   "id": "3b557367",
   "metadata": {},
   "source": [
    "#### Problem 4: Heatmap of Correlation\n",
    "\n",
    "Again using `sns.heatmap()`, visualize the correlation matrix for the penguins data.  Set the `annot` argument to `True` again."
   ]
  },
  {
   "cell_type": "code",
   "execution_count": 127,
   "id": "1d1e8635",
   "metadata": {},
   "outputs": [
    {
     "data": {
      "text/plain": [
       "<Axes: >"
      ]
     },
     "execution_count": 127,
     "metadata": {},
     "output_type": "execute_result"
    },
    {
     "data": {
      "image/png": "[encoded data removed]",
      "text/plain": [
       "<Figure size 640x480 with 2 Axes>"
      ]
     },
     "metadata": {},
     "output_type": "display_data"
    }
   ],
   "source": [
    "### GRADED\n",
    "\n",
    "# YOUR CODE HERE\n",
    "sns.heatmap(penguins_corr,annot=True)"
   ]
  },
  {
   "cell_type": "markdown",
   "id": "2f2f1f57",
   "metadata": {},
   "source": [
    "#### Problem 5: Strongest Positive Correlation\n",
    "\n",
    "What two features have the strongest positive correlation?  Enter your answer as a list of strings using the exact column names to `highest_pos_corr` below."
   ]
  },
  {
   "cell_type": "code",
   "execution_count": 128,
   "id": "0d2692db",
   "metadata": {},
   "outputs": [],
   "source": [
    "### GRADED\n",
    "\n",
    "highest_pos_corr = ''\n",
    "\n",
    "# YOUR CODE HERE\n",
    "highest_pos_corr = ['flipper_length_mm','body_mass_g']"
   ]
  },
  {
   "cell_type": "markdown",
   "id": "234b69c2",
   "metadata": {},
   "source": [
    "#### Problem 6: Interpreting negative correlation\n",
    "\n",
    "The correlation between `body_mass_g` and `bill_depth_mm` reads -0.47.  Complete the following sentence that interprets this correlation.\n",
    "\n",
    "```\n",
    "As body mass increases bill depth ___________\n",
    "```\n",
    "\n",
    "Assign your solution as a string -- either 'increases', 'decreases', or 'neither' to `ans_6` below."
   ]
  },
  {
   "cell_type": "code",
   "execution_count": 129,
   "id": "ee1bdc89",
   "metadata": {},
   "outputs": [],
   "source": [
    "### GRADED\n",
    "\n",
    "ans_6 = ''\n",
    "\n",
    "# YOUR CODE HERE\n",
    "ans_6 = 'decreases'"
   ]
  },
  {
   "cell_type": "markdown",
   "id": "6b8f79d4",
   "metadata": {},
   "source": [
    "### Codio Activity 2.7: Approximating Correlation from scatterplots\n",
    "\n",
    "This assignment aims to reinforce your understanding of correlation.  A scatterplot of two random variables is shown in an image, and you are asked to guess the correlation between these variables.  Your guesses should be with $0.3$ of the actual correlation value.\n",
    "\n",
    "#### Index:\n",
    "\n",
    "- [Approximating Correlation from scatterplots Problem 1](#Approximating-Correlation-from-scatterplots-Problem-1)\n",
    "- [Approximating Correlation from scatterplots Problem 2](#Approximating-Correlation-from-scatterplots-Problem-2)\n",
    "- [Approximating Correlation from scatterplots Problem 3](#Approximating-Correlation-from-scatterplots-Problem-3)\n",
    "- [Approximating Correlation from scatterplots Problem 4](#Approximating-Correlation-from-scatterplots-Problem-4)\n",
    "- [Approximating Correlation from scatterplots Problem 5](#Approximating-Correlation-from-scatterplots-Problem-5)"
   ]
  },
  {
   "cell_type": "code",
   "execution_count": 130,
   "id": "8f0db4ef",
   "metadata": {},
   "outputs": [],
   "source": [
    "import scipy.stats as stats\n",
    "import seaborn as sns\n",
    "import pandas as pd\n",
    "import matplotlib.pyplot as plt\n",
    "import numpy as np"
   ]
  },
  {
   "cell_type": "markdown",
   "id": "d4ec237b",
   "metadata": {},
   "source": [
    "#### Approximating Correlation from scatterplots Problem 1\n",
    "\n",
    "Given the scatterplot below, guess the correlation between the features `x1` and `y`. Assign your answer as a float to `ans1` below.  An answer within .3 of the true correlation will receive credit.\n",
    "<img src=\"Images/7.png\">"
   ]
  },
  {
   "cell_type": "code",
   "execution_count": 131,
   "id": "fa968f9f",
   "metadata": {},
   "outputs": [
    {
     "name": "stdout",
     "output_type": "stream",
     "text": [
      "0.4\n",
      "<class 'float'>\n"
     ]
    }
   ],
   "source": [
    "### GRADED\n",
    "\n",
    "ans1 = None\n",
    "\n",
    "# YOUR CODE HERE\n",
    "ans1 = 0.4\n",
    "\n",
    "# Answer check\n",
    "print(ans1)\n",
    "print(type(ans1))"
   ]
  },
  {
   "cell_type": "markdown",
   "id": "691038cc",
   "metadata": {},
   "source": [
    "#### Approximating Correlation from scatterplots Problem 2\n",
    "\n",
    "Given the scatterplot below, guess the correlation between the features `x2` and `y`. Assign your answer as a float to `ans2` below.  An answer within .3 of the true correlation will receive credit.\n",
    "<img src=\"Images/8.png\">"
   ]
  },
  {
   "cell_type": "code",
   "execution_count": 132,
   "id": "10b4c710",
   "metadata": {},
   "outputs": [
    {
     "name": "stdout",
     "output_type": "stream",
     "text": [
      "0.0\n",
      "<class 'float'>\n"
     ]
    }
   ],
   "source": [
    "### GRADED\n",
    "\n",
    "ans2 = None\n",
    "\n",
    "# YOUR CODE HERE\n",
    "ans2 = 0.0\n",
    "\n",
    "# Answer check\n",
    "print(ans2)\n",
    "print(type(ans2))"
   ]
  },
  {
   "cell_type": "markdown",
   "id": "120389fe",
   "metadata": {},
   "source": [
    "#### Approximating Correlation from scatterplots Problem 3\n",
    "\n",
    "Given the scatterplot below, guess the correlation between the features `x3` and `y`. Assign your answer as a float to `ans3` below.  An answer within .3 of the true correlation will receive credit.\n",
    "<img src=\"Images/9.png\">"
   ]
  },
  {
   "cell_type": "code",
   "execution_count": 133,
   "id": "6d4a278e",
   "metadata": {},
   "outputs": [
    {
     "name": "stdout",
     "output_type": "stream",
     "text": [
      "0.8\n",
      "<class 'float'>\n"
     ]
    }
   ],
   "source": [
    "### GRADED\n",
    "\n",
    "ans3 = None\n",
    "\n",
    "# YOUR CODE HERE\n",
    "ans3 = 0.8\n",
    "\n",
    "# Answer check\n",
    "print(ans3)\n",
    "print(type(ans3))"
   ]
  },
  {
   "cell_type": "markdown",
   "id": "d5566821",
   "metadata": {},
   "source": [
    "#### Approximating Correlation from scatterplots Problem 4\n",
    "\n",
    "Given the scatterplot below, guess the correlation between the features `x4` and `y`. Assign your answer as a float to `ans4` below.  An answer within .3 of the true correlation will receive credit.\n",
    "<img src=\"Images/10.png\">"
   ]
  },
  {
   "cell_type": "code",
   "execution_count": 134,
   "id": "f2695844",
   "metadata": {},
   "outputs": [
    {
     "name": "stdout",
     "output_type": "stream",
     "text": [
      "-0.4\n",
      "<class 'float'>\n"
     ]
    }
   ],
   "source": [
    "### GRADED\n",
    "\n",
    "ans4 = None\n",
    "\n",
    "# YOUR CODE HERE\n",
    "ans4 = -0.4\n",
    "\n",
    "# Answer check\n",
    "print(ans4)\n",
    "print(type(ans4))"
   ]
  },
  {
   "cell_type": "markdown",
   "id": "f3dc850b",
   "metadata": {},
   "source": [
    "#### Approximating Correlation from scatterplots Problem 5\n",
    "\n",
    "Given the scatterplot below, guess the correlation between the features `x5` and `y`. Assign your answer as a float to `ans5` below.  An answer within .3 of the true correlation will receive credit.\n",
    "\n",
    "<img src=\"Images/11.png\">"
   ]
  },
  {
   "cell_type": "code",
   "execution_count": 135,
   "id": "6544cb93",
   "metadata": {
    "scrolled": false
   },
   "outputs": [
    {
     "name": "stdout",
     "output_type": "stream",
     "text": [
      "0.0\n",
      "<class 'float'>\n"
     ]
    }
   ],
   "source": [
    "### GRADED\n",
    "\n",
    "ans5 = None\n",
    "\n",
    "# YOUR CODE HERE\n",
    "ans5 = 0.0\n",
    "\n",
    "# Answer check\n",
    "print(ans5)\n",
    "print(type(ans5))"
   ]
  },
  {
   "cell_type": "markdown",
   "id": "b421cae2",
   "metadata": {},
   "source": [
    "### Codio Activity 2.8: Histograms and Conditional Probability Distributions\n",
    "\n",
    "This assignment uses `pandas` and `seaborn` to plot distributions of data conditioned on categorical features.\n",
    "\n",
    "#### Index:\n",
    "\n",
    "- [Approximating Correlation from scatterplots Problem 1](#Approximating-Correlation-from-scatterplots-Problem-1)\n",
    "- [Approximating Correlation from scatterplots Problem 2](#Approximating-Correlation-from-scatterplots-Problem-2)\n",
    "- [Approximating Correlation from scatterplots Problem 3](#Approximating-Correlation-from-scatterplots-Problem-3)\n",
    "- [Approximating Correlation from scatterplots Problem 4](#Approximating-Correlation-from-scatterplots-Problem-4)\n",
    "- [Approximating Correlation from scatterplots Problem 5](#Approximating-Correlation-from-scatterplots-Problem-5)"
   ]
  },
  {
   "cell_type": "code",
   "execution_count": 137,
   "id": "f3b56529",
   "metadata": {},
   "outputs": [],
   "source": [
    "import pandas as pd\n",
    "import seaborn as sns\n",
    "import numpy as np"
   ]
  },
  {
   "cell_type": "markdown",
   "id": "6cbc256c",
   "metadata": {},
   "source": [
    "#### The Dataset\n",
    "For this assignment the dataset from seaborn relating to the titanic will be used. This dataset contains specific information for each passenger on the titanic cruise ship. Below the data is loaded, the first five rows displayed, and information on features displayed."
   ]
  },
  {
   "cell_type": "code",
   "execution_count": 138,
   "id": "7ee7396a",
   "metadata": {},
   "outputs": [],
   "source": [
    "titanic = sns.load_dataset('titanic')"
   ]
  },
  {
   "cell_type": "code",
   "execution_count": 139,
   "id": "79b5f2d3",
   "metadata": {},
   "outputs": [
    {
     "data": {
      "text/html": [
       "<div>\n",
       "<style scoped>\n",
       "    .dataframe tbody tr th:only-of-type {\n",
       "        vertical-align: middle;\n",
       "    }\n",
       "\n",
       "    .dataframe tbody tr th {\n",
       "        vertical-align: top;\n",
       "    }\n",
       "\n",
       "    .dataframe thead th {\n",
       "        text-align: right;\n",
       "    }\n",
       "</style>\n",
       "<table border=\"1\" class=\"dataframe\">\n",
       "  <thead>\n",
       "    <tr style=\"text-align: right;\">\n",
       "      <th></th>\n",
       "      <th>survived</th>\n",
       "      <th>pclass</th>\n",
       "      <th>sex</th>\n",
       "      <th>age</th>\n",
       "      <th>sibsp</th>\n",
       "      <th>parch</th>\n",
       "      <th>fare</th>\n",
       "      <th>embarked</th>\n",
       "      <th>class</th>\n",
       "      <th>who</th>\n",
       "      <th>adult_male</th>\n",
       "      <th>deck</th>\n",
       "      <th>embark_town</th>\n",
       "      <th>alive</th>\n",
       "      <th>alone</th>\n",
       "    </tr>\n",
       "  </thead>\n",
       "  <tbody>\n",
       "    <tr>\n",
       "      <th>0</th>\n",
       "      <td>0</td>\n",
       "      <td>3</td>\n",
       "      <td>male</td>\n",
       "      <td>22.0</td>\n",
       "      <td>1</td>\n",
       "      <td>0</td>\n",
       "      <td>7.2500</td>\n",
       "      <td>S</td>\n",
       "      <td>Third</td>\n",
       "      <td>man</td>\n",
       "      <td>True</td>\n",
       "      <td>NaN</td>\n",
       "      <td>Southampton</td>\n",
       "      <td>no</td>\n",
       "      <td>False</td>\n",
       "    </tr>\n",
       "    <tr>\n",
       "      <th>1</th>\n",
       "      <td>1</td>\n",
       "      <td>1</td>\n",
       "      <td>female</td>\n",
       "      <td>38.0</td>\n",
       "      <td>1</td>\n",
       "      <td>0</td>\n",
       "      <td>71.2833</td>\n",
       "      <td>C</td>\n",
       "      <td>First</td>\n",
       "      <td>woman</td>\n",
       "      <td>False</td>\n",
       "      <td>C</td>\n",
       "      <td>Cherbourg</td>\n",
       "      <td>yes</td>\n",
       "      <td>False</td>\n",
       "    </tr>\n",
       "    <tr>\n",
       "      <th>2</th>\n",
       "      <td>1</td>\n",
       "      <td>3</td>\n",
       "      <td>female</td>\n",
       "      <td>26.0</td>\n",
       "      <td>0</td>\n",
       "      <td>0</td>\n",
       "      <td>7.9250</td>\n",
       "      <td>S</td>\n",
       "      <td>Third</td>\n",
       "      <td>woman</td>\n",
       "      <td>False</td>\n",
       "      <td>NaN</td>\n",
       "      <td>Southampton</td>\n",
       "      <td>yes</td>\n",
       "      <td>True</td>\n",
       "    </tr>\n",
       "    <tr>\n",
       "      <th>3</th>\n",
       "      <td>1</td>\n",
       "      <td>1</td>\n",
       "      <td>female</td>\n",
       "      <td>35.0</td>\n",
       "      <td>1</td>\n",
       "      <td>0</td>\n",
       "      <td>53.1000</td>\n",
       "      <td>S</td>\n",
       "      <td>First</td>\n",
       "      <td>woman</td>\n",
       "      <td>False</td>\n",
       "      <td>C</td>\n",
       "      <td>Southampton</td>\n",
       "      <td>yes</td>\n",
       "      <td>False</td>\n",
       "    </tr>\n",
       "    <tr>\n",
       "      <th>4</th>\n",
       "      <td>0</td>\n",
       "      <td>3</td>\n",
       "      <td>male</td>\n",
       "      <td>35.0</td>\n",
       "      <td>0</td>\n",
       "      <td>0</td>\n",
       "      <td>8.0500</td>\n",
       "      <td>S</td>\n",
       "      <td>Third</td>\n",
       "      <td>man</td>\n",
       "      <td>True</td>\n",
       "      <td>NaN</td>\n",
       "      <td>Southampton</td>\n",
       "      <td>no</td>\n",
       "      <td>True</td>\n",
       "    </tr>\n",
       "  </tbody>\n",
       "</table>\n",
       "</div>"
      ],
      "text/plain": [
       "   survived  pclass     sex   age  sibsp  parch     fare embarked  class  \\\n",
       "0         0       3    male  22.0      1      0   7.2500        S  Third   \n",
       "1         1       1  female  38.0      1      0  71.2833        C  First   \n",
       "2         1       3  female  26.0      0      0   7.9250        S  Third   \n",
       "3         1       1  female  35.0      1      0  53.1000        S  First   \n",
       "4         0       3    male  35.0      0      0   8.0500        S  Third   \n",
       "\n",
       "     who  adult_male deck  embark_town alive  alone  \n",
       "0    man        True  NaN  Southampton    no  False  \n",
       "1  woman       False    C    Cherbourg   yes  False  \n",
       "2  woman       False  NaN  Southampton   yes   True  \n",
       "3  woman       False    C  Southampton   yes  False  \n",
       "4    man        True  NaN  Southampton    no   True  "
      ]
     },
     "execution_count": 139,
     "metadata": {},
     "output_type": "execute_result"
    }
   ],
   "source": [
    "titanic.head()"
   ]
  },
  {
   "cell_type": "code",
   "execution_count": 140,
   "id": "a4f85771",
   "metadata": {},
   "outputs": [
    {
     "name": "stdout",
     "output_type": "stream",
     "text": [
      "<class 'pandas.core.frame.DataFrame'>\n",
      "RangeIndex: 891 entries, 0 to 890\n",
      "Data columns (total 15 columns):\n",
      " #   Column       Non-Null Count  Dtype   \n",
      "---  ------       --------------  -----   \n",
      " 0   survived     891 non-null    int64   \n",
      " 1   pclass       891 non-null    int64   \n",
      " 2   sex          891 non-null    object  \n",
      " 3   age          714 non-null    float64 \n",
      " 4   sibsp        891 non-null    int64   \n",
      " 5   parch        891 non-null    int64   \n",
      " 6   fare         891 non-null    float64 \n",
      " 7   embarked     889 non-null    object  \n",
      " 8   class        891 non-null    category\n",
      " 9   who          891 non-null    object  \n",
      " 10  adult_male   891 non-null    bool    \n",
      " 11  deck         203 non-null    category\n",
      " 12  embark_town  889 non-null    object  \n",
      " 13  alive        891 non-null    object  \n",
      " 14  alone        891 non-null    bool    \n",
      "dtypes: bool(2), category(2), float64(2), int64(4), object(5)\n",
      "memory usage: 80.7+ KB\n"
     ]
    }
   ],
   "source": [
    "titanic.info()"
   ]
  },
  {
   "cell_type": "markdown",
   "id": "88c9b9de",
   "metadata": {},
   "source": [
    "#### Problem 1: Conditional Probabilities with `pandas`\n",
    "\n",
    "Using the titanic data, conditional probabilities can be calculated by subsetting the data to the condition of interest and comparing the outcomes within this criteria.  For example, what is the probability given that someone is in first class that they are over the age of 40? \n",
    "\n",
    "To compute this, assign the following objects to the specified variable:\n",
    "\n",
    "```python\n",
    "first_class = #how many people in first class\n",
    "first_class_over_40 = #how many people in first class were over the age of 40?\n",
    "p_over_40_given_first_class = #p(age > 40 | class = First)\n",
    "```"
   ]
  },
  {
   "cell_type": "code",
   "execution_count": 141,
   "id": "7f8c5f82",
   "metadata": {},
   "outputs": [
    {
     "name": "stdout",
     "output_type": "stream",
     "text": [
      "0.35185185185185186\n"
     ]
    }
   ],
   "source": [
    "### GRADED\n",
    "\n",
    "first_class = ''\n",
    "first_class_over_40 = ''\n",
    "p_over_40_given_first_class = ''\n",
    "\n",
    "# YOUR CODE HERE\n",
    "first_class = len(titanic[titanic[\"class\"] == \"First\"])\n",
    "first_class_over_40 = len(titanic[(titanic[\"class\"] == \"First\") & (titanic[\"age\"] > 40)])\n",
    "p_over_40_given_first_class = first_class_over_40/first_class\n",
    "# Answer check\n",
    "print(p_over_40_given_first_class)"
   ]
  },
  {
   "cell_type": "markdown",
   "id": "dd3a3ea2",
   "metadata": {},
   "source": [
    "#### Problem 2: $P(age > 40 | class = ~  'Second')$\n",
    "\n",
    "Now compute the probability that a passenger is over the age of 40 given that the passenger was in second class.  Again there are three values to compute:\n",
    "\n",
    "- Number of passengers in second class (second_class)\n",
    "- Number of passengers in second class over the age of 40\n",
    "- Probability a passenger is over the age of 40 given they are in second class"
   ]
  },
  {
   "cell_type": "code",
   "execution_count": 142,
   "id": "8062da33",
   "metadata": {},
   "outputs": [
    {
     "name": "stdout",
     "output_type": "stream",
     "text": [
      "0.18478260869565216\n"
     ]
    }
   ],
   "source": [
    "### GRADED\n",
    "\n",
    "second_class = ''\n",
    "second_class_over_40 = ''\n",
    "p_over_40_given_second_class = ''\n",
    "\n",
    "# YOUR CODE HERE\n",
    "second_class = len(titanic[titanic[\"class\"] == \"Second\"])\n",
    "second_class_over_40 = len(titanic[(titanic[\"class\"] == \"Second\") & (titanic[\"age\"] > 40)])\n",
    "p_over_40_given_second_class = second_class_over_40/second_class\n",
    "\n",
    "# Answer check\n",
    "print(p_over_40_given_second_class)"
   ]
  },
  {
   "cell_type": "markdown",
   "id": "9a79cf18",
   "metadata": {},
   "source": [
    "#### Problem 3: Visualizing the Conditional Probability\n",
    "\n",
    "To visualize the earlier conditional probabilities, draw a plot containing a histogram of the age distribution of passengers in first and second class. Follow the hints below for one approach and use `sns.histplot()` function for drawing the histograms."
   ]
  },
  {
   "cell_type": "code",
   "execution_count": 143,
   "id": "6d04e124",
   "metadata": {},
   "outputs": [
    {
     "data": {
      "text/plain": [
       "<Axes: xlabel='age', ylabel='Count'>"
      ]
     },
     "execution_count": 143,
     "metadata": {},
     "output_type": "execute_result"
    },
    {
     "data": {
      "image/png": "[encoded data removed]",
      "text/plain": [
       "<Figure size 640x480 with 1 Axes>"
      ]
     },
     "metadata": {},
     "output_type": "display_data"
    }
   ],
   "source": [
    "### GRADED\n",
    "\n",
    "first_class = ''\n",
    "second_class = ''\n",
    "\n",
    "#histogram of first class\n",
    "first_class = titanic.loc[titanic['class'] == 'First']['age']\n",
    "sns.histplot(data = titanic[(titanic['class'] == 'First')], x = 'age', hue='class')\n",
    "\n",
    "#histogram of second class\n",
    "second_class = titanic.loc[titanic['class'] == 'Second']['age']\n",
    "sns.histplot(data = titanic[(titanic['class'] == 'Second')], x = 'age', hue='class')\n",
    "\n",
    "# YOUR CODE HERE"
   ]
  },
  {
   "cell_type": "markdown",
   "id": "14e34051",
   "metadata": {},
   "source": [
    "####  Problem 4: $P(\\text{over 30} | \\text{survived})$\n",
    "\n",
    "Compute the probability given that a passenger survived, they were over the age of 30.  Again, determine the following:\n",
    "\n",
    "- Number of passengers in survived\n",
    "- Number of passengers in who survived over the age of 30\n",
    "- $P(\\text{over 30} | \\text{survived})$"
   ]
  },
  {
   "cell_type": "code",
   "execution_count": 144,
   "id": "fa9e23ba",
   "metadata": {},
   "outputs": [
    {
     "name": "stdout",
     "output_type": "stream",
     "text": [
      "0.36257309941520466\n"
     ]
    }
   ],
   "source": [
    "### GRADED\n",
    "\n",
    "num_survived = ''\n",
    "survived_over_30 = ''\n",
    "p_over_30_given_survived = ''\n",
    "\n",
    "# YOUR CODE HERE\n",
    "num_survived = len(titanic[(titanic[\"survived\"] == 1)])\n",
    "survived_over_30 = len(titanic[(titanic[\"survived\"] == 1) & (titanic[\"age\"] > 30)])\n",
    "p_over_30_given_survived = survived_over_30/num_survived\n",
    "\n",
    "# Answer check\n",
    "print(p_over_30_given_survived)"
   ]
  },
  {
   "cell_type": "markdown",
   "id": "53fd4edb",
   "metadata": {},
   "source": [
    "#### Problem 5: Distribution of Ages for Survived and Not Survived\n",
    "\n",
    "To plot the distribution of ages for those that survived and those that did not together on the same axes, use the `hue` argument in `sns.histplot` set to `survived` to create histograms of the ages conditioned on survived or not."
   ]
  },
  {
   "cell_type": "code",
   "execution_count": 145,
   "id": "e05094c6",
   "metadata": {},
   "outputs": [
    {
     "data": {
      "text/plain": [
       "<Axes: xlabel='age', ylabel='Count'>"
      ]
     },
     "execution_count": 145,
     "metadata": {},
     "output_type": "execute_result"
    },
    {
     "data": {
      "image/png": "[encoded data removed]",
      "text/plain": [
       "<Figure size 640x480 with 1 Axes>"
      ]
     },
     "metadata": {},
     "output_type": "display_data"
    }
   ],
   "source": [
    "### GRADED\n",
    "\n",
    "# YOUR CODE HERE\n",
    "sns.histplot(data = titanic, x = 'age', hue='survived')"
   ]
  },
  {
   "cell_type": "markdown",
   "id": "cebc6fed",
   "metadata": {},
   "source": [
    "#### Problem 6: Which is more likely?\n",
    "\n",
    "Based on your histogram in problem 5, given that a person was under the age of 20, is it more likely that they survived or did not survive?  Assign your answer as a boolean value to the variable `survived` below. True means you believe more likely to have survived, False more likely to be deceased."
   ]
  },
  {
   "cell_type": "code",
   "execution_count": 146,
   "id": "41aca443",
   "metadata": {},
   "outputs": [],
   "source": [
    "### GRADED\n",
    "\n",
    "survived = ''\n",
    "\n",
    "# YOUR CODE HERE\n",
    "survived = False"
   ]
  },
  {
   "cell_type": "markdown",
   "id": "11a422d4",
   "metadata": {},
   "source": [
    "# Glossary\n",
    "- **Central Limit Theorem:**\n",
    "  A theorem proving that the sampling distribution of the sample means approaches a normal distribution as the sample size gets larger.\n",
    "\n",
    "- **Conditional Probabilities:**\n",
    "  The likelihood of an event or outcome occurring, based on the occurrence of a previous event or outcome.\n",
    "\n",
    "- **Continuous Distribution:**\n",
    "  A type of probability distribution that shows the probabilities of the possible values of a continuous random variable. A continuous random variable is a random variable with a set of possible values (known as the range) that is infinite and uncountable.\n",
    "\n",
    "- **Correlation:**\n",
    "  “The degree to which the needs, demands, goals, objectives, and/or structures of one component are consistent with those of the other.”\n",
    "  Source: Nadler and Tushman\n",
    "\n",
    "- **Congruence Hypothesis:**\n",
    "  The strength and direction with which two variables move in coordination with one another.\n",
    "\n",
    "- **Covariance:**\n",
    "  The direction of the linear relationship between variables.\n",
    "\n",
    "- **Covariance Matrix:**\n",
    "  A square matrix giving the covariance between each pair of elements in a given set of variables.\n",
    "\n",
    "- **Discrete Distribution:**\n",
    "  A type of probability distribution that shows the probability of occurrence of each value of a discrete random variable. A discrete random variable is a random variable that has countable values, such as a list of non-negative integers.\n",
    "\n",
    "- **Gaussian Distribution:**\n",
    "  A type of distribution, also known as a Normal Distribution, whose probability distribution is symmetric about the mean. In graph form, a Gaussian distribution appears as a bell curve.\n",
    "\n",
    "- **Law of Large Numbers:**\n",
    "  A theorem proving that as a sample size grows, its mean gets closer to the average of the whole population.\n",
    "\n",
    "- **Mean:**\n",
    "  The sum of all values in a dataset divided by the total number of values.\n",
    "\n",
    "- **Measures of Central Tendency:**\n",
    "  A descriptive summary of a dataset that takes the form of a single value and reflects the center of the data distribution. These values are mean, median, and mode.\n",
    "\n",
    "- **Median:**\n",
    "  The middle value in a dataset that is arranged in ascending order (from the smallest value to the largest value). If a dataset contains an even number of values, the median of the dataset is the mean of the two middle values.\n",
    "\n",
    "- **Multivariate Distribution:**\n",
    "  A type of probability distribution, also known as a Gaussian Distribution, that is symmetric about the mean. In graph form, a normal distribution appears as a bell curve.\n",
    "  \n",
    "- **Normal Distribution:**\n",
    "  A type of probability distribution, also known as a Gaussian Distribution, that is symmetric about the mean. In graph form, a normal distribution appears as a bell curve.\n",
    "\n",
    "- **Pair Plot:**\n",
    "  A type of plot that is used to understand the best set of features with which to explain a relationship between two variables or to form the most separated clusters.\n",
    "\n",
    "- **Scatter Plot:**\n",
    "  A type of plot in which the values of two variables are plotted along two axes, and the pattern of the resulting points reveal any correlation present.\n",
    "\n",
    "- **Standard Deviation:**\n",
    "  A descriptive statistic that measures how spread out the numbers within a data set are. It is calculated as the square root of the variance.\n",
    "\n",
    "- **Uniform Distribution:**\n",
    "  A type of probability distribution in which all outcomes are equally likely.\n"
   ]
  }
 ],
 "metadata": {
  "kernelspec": {
   "display_name": "Python 3 (ipykernel)",
   "language": "python",
   "name": "python3"
  },
  "language_info": {
   "codemirror_mode": {
    "name": "ipython",
    "version": 3
   },
   "file_extension": ".py",
   "mimetype": "text/x-python",
   "name": "python",
   "nbconvert_exporter": "python",
   "pygments_lexer": "ipython3",
   "version": "3.10.9"
  }
 },
 "nbformat": 4,
 "nbformat_minor": 5
}
