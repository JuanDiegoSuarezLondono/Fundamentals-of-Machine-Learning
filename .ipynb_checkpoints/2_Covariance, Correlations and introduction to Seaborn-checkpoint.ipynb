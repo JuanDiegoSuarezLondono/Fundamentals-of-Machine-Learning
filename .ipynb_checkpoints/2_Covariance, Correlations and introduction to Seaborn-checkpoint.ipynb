{
 "cells": [
  {
   "cell_type": "markdown",
   "id": "723ba4cf",
   "metadata": {},
   "source": [
    "<h1 style=\"color:green\"><center>Pandas covariance correlations and introduction to <a href=\"https://seaborn.pydata.org/\">Seaborn</a><center></h1>"
   ]
  },
  {
   "cell_type": "markdown",
   "id": "b2e226a6",
   "metadata": {},
   "source": [
    "### Import statement "
   ]
  },
  {
   "cell_type": "code",
   "execution_count": 1,
   "id": "9577b8e1",
   "metadata": {},
   "outputs": [],
   "source": [
    "import pandas as pd\n",
    "import seaborn as sns"
   ]
  },
  {
   "cell_type": "code",
   "execution_count": 11,
   "id": "328c39ec",
   "metadata": {},
   "outputs": [],
   "source": [
    "gentoo = pd.read_csv(\"DataSets_starter/Gentoo.csv\")\n",
    "gentoo = gentoo[['Culmen Length (mm)','Culmen Depth (mm)', 'Flipper Length (mm)', 'Body Mass (g)']]\n"
   ]
  },
  {
   "attachments": {
    "image.png": {
     "image/png": "[encoded data removed]"
    }
   },
   "cell_type": "markdown",
   "id": "7ddb5452",
   "metadata": {},
   "source": [
    "###  Covariance matrix\n",
    "![image.png](attachment:image.png)"
   ]
  },
  {
   "cell_type": "code",
   "execution_count": 12,
   "id": "6de2ce6d",
   "metadata": {},
   "outputs": [
    {
     "data": {
      "text/html": [
       "<div>\n",
       "<style scoped>\n",
       "    .dataframe tbody tr th:only-of-type {\n",
       "        vertical-align: middle;\n",
       "    }\n",
       "\n",
       "    .dataframe tbody tr th {\n",
       "        vertical-align: top;\n",
       "    }\n",
       "\n",
       "    .dataframe thead th {\n",
       "        text-align: right;\n",
       "    }\n",
       "</style>\n",
       "<table border=\"1\" class=\"dataframe\">\n",
       "  <thead>\n",
       "    <tr style=\"text-align: right;\">\n",
       "      <th></th>\n",
       "      <th>Culmen Length (mm)</th>\n",
       "      <th>Culmen Depth (mm)</th>\n",
       "      <th>Flipper Length (mm)</th>\n",
       "      <th>Body Mass (g)</th>\n",
       "    </tr>\n",
       "  </thead>\n",
       "  <tbody>\n",
       "    <tr>\n",
       "      <th>Culmen Length (mm)</th>\n",
       "      <td>9.497845</td>\n",
       "      <td>1.945580</td>\n",
       "      <td>13.213834</td>\n",
       "      <td>1039.626150</td>\n",
       "    </tr>\n",
       "    <tr>\n",
       "      <th>Culmen Depth (mm)</th>\n",
       "      <td>1.945580</td>\n",
       "      <td>0.962792</td>\n",
       "      <td>4.495995</td>\n",
       "      <td>355.694556</td>\n",
       "    </tr>\n",
       "    <tr>\n",
       "      <th>Flipper Length (mm)</th>\n",
       "      <td>13.213834</td>\n",
       "      <td>4.495995</td>\n",
       "      <td>42.054911</td>\n",
       "      <td>2297.144476</td>\n",
       "    </tr>\n",
       "    <tr>\n",
       "      <th>Body Mass (g)</th>\n",
       "      <td>1039.626150</td>\n",
       "      <td>355.694556</td>\n",
       "      <td>2297.144476</td>\n",
       "      <td>254133.180061</td>\n",
       "    </tr>\n",
       "  </tbody>\n",
       "</table>\n",
       "</div>"
      ],
      "text/plain": [
       "                     Culmen Length (mm)  Culmen Depth (mm)  \\\n",
       "Culmen Length (mm)             9.497845           1.945580   \n",
       "Culmen Depth (mm)              1.945580           0.962792   \n",
       "Flipper Length (mm)           13.213834           4.495995   \n",
       "Body Mass (g)               1039.626150         355.694556   \n",
       "\n",
       "                     Flipper Length (mm)  Body Mass (g)  \n",
       "Culmen Length (mm)             13.213834    1039.626150  \n",
       "Culmen Depth (mm)               4.495995     355.694556  \n",
       "Flipper Length (mm)            42.054911    2297.144476  \n",
       "Body Mass (g)                2297.144476  254133.180061  "
      ]
     },
     "execution_count": 12,
     "metadata": {},
     "output_type": "execute_result"
    }
   ],
   "source": [
    "gentoo.cov()  "
   ]
  },
  {
   "cell_type": "markdown",
   "id": "06ebf64b",
   "metadata": {},
   "source": [
    "### Correlation matrix "
   ]
  },
  {
   "cell_type": "code",
   "execution_count": 13,
   "id": "905229e2",
   "metadata": {},
   "outputs": [
    {
     "data": {
      "text/html": [
       "<div>\n",
       "<style scoped>\n",
       "    .dataframe tbody tr th:only-of-type {\n",
       "        vertical-align: middle;\n",
       "    }\n",
       "\n",
       "    .dataframe tbody tr th {\n",
       "        vertical-align: top;\n",
       "    }\n",
       "\n",
       "    .dataframe thead th {\n",
       "        text-align: right;\n",
       "    }\n",
       "</style>\n",
       "<table border=\"1\" class=\"dataframe\">\n",
       "  <thead>\n",
       "    <tr style=\"text-align: right;\">\n",
       "      <th></th>\n",
       "      <th>Culmen Length (mm)</th>\n",
       "      <th>Culmen Depth (mm)</th>\n",
       "      <th>Flipper Length (mm)</th>\n",
       "      <th>Body Mass (g)</th>\n",
       "    </tr>\n",
       "  </thead>\n",
       "  <tbody>\n",
       "    <tr>\n",
       "      <th>Culmen Length (mm)</th>\n",
       "      <td>1.000000</td>\n",
       "      <td>0.643384</td>\n",
       "      <td>0.661162</td>\n",
       "      <td>0.669166</td>\n",
       "    </tr>\n",
       "    <tr>\n",
       "      <th>Culmen Depth (mm)</th>\n",
       "      <td>0.643384</td>\n",
       "      <td>1.000000</td>\n",
       "      <td>0.706563</td>\n",
       "      <td>0.719085</td>\n",
       "    </tr>\n",
       "    <tr>\n",
       "      <th>Flipper Length (mm)</th>\n",
       "      <td>0.661162</td>\n",
       "      <td>0.706563</td>\n",
       "      <td>1.000000</td>\n",
       "      <td>0.702667</td>\n",
       "    </tr>\n",
       "    <tr>\n",
       "      <th>Body Mass (g)</th>\n",
       "      <td>0.669166</td>\n",
       "      <td>0.719085</td>\n",
       "      <td>0.702667</td>\n",
       "      <td>1.000000</td>\n",
       "    </tr>\n",
       "  </tbody>\n",
       "</table>\n",
       "</div>"
      ],
      "text/plain": [
       "                     Culmen Length (mm)  Culmen Depth (mm)  \\\n",
       "Culmen Length (mm)             1.000000           0.643384   \n",
       "Culmen Depth (mm)              0.643384           1.000000   \n",
       "Flipper Length (mm)            0.661162           0.706563   \n",
       "Body Mass (g)                  0.669166           0.719085   \n",
       "\n",
       "                     Flipper Length (mm)  Body Mass (g)  \n",
       "Culmen Length (mm)              0.661162       0.669166  \n",
       "Culmen Depth (mm)               0.706563       0.719085  \n",
       "Flipper Length (mm)             1.000000       0.702667  \n",
       "Body Mass (g)                   0.702667       1.000000  "
      ]
     },
     "execution_count": 13,
     "metadata": {},
     "output_type": "execute_result"
    }
   ],
   "source": [
    "gentoo.corr() "
   ]
  },
  {
   "cell_type": "markdown",
   "id": "b1ec97f9",
   "metadata": {},
   "source": [
    "### Correlation matrix plot "
   ]
  },
  {
   "cell_type": "code",
   "execution_count": null,
   "id": "9d38aa44",
   "metadata": {},
   "outputs": [],
   "source": []
  }
 ],
 "metadata": {
  "kernelspec": {
   "display_name": "Python 3 (ipykernel)",
   "language": "python",
   "name": "python3"
  },
  "language_info": {
   "codemirror_mode": {
    "name": "ipython",
    "version": 3
   },
   "file_extension": ".py",
   "mimetype": "text/x-python",
   "name": "python",
   "nbconvert_exporter": "python",
   "pygments_lexer": "ipython3",
   "version": "3.10.9"
  }
 },
 "nbformat": 4,
 "nbformat_minor": 5
}
