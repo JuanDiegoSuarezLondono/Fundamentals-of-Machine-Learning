{
 "cells": [
  {
   "cell_type": "markdown",
   "id": "5f1de3b2",
   "metadata": {},
   "source": [
    "<h1><a href=\"https://docs.scipy.org/doc/scipy/reference/stats.html\"><center>Scipy stats<center></a></h1>\n",
    "    <h1><a href=\"https://docs.scipy.org/doc/scipy/reference/generated/scipy.stats.uniform.html#scipy.stats.uniform\"><center>Continuous uniform distribution<center></a></h1>"
   ]
  },
  {
   "cell_type": "markdown",
   "id": "73a8b4c4",
   "metadata": {},
   "source": [
    "### Importstatement"
   ]
  },
  {
   "cell_type": "code",
   "execution_count": 2,
   "id": "e677523b",
   "metadata": {},
   "outputs": [],
   "source": [
    "from scipy.stats import uniform\n",
    "import numpy as np\n",
    "import matplotlib.pyplot as plt"
   ]
  },
  {
   "cell_type": "markdown",
   "id": "9fe04303",
   "metadata": {},
   "source": [
    "### Create a distribution objet "
   ]
  }
 ],
 "metadata": {
  "kernelspec": {
   "display_name": "Python 3 (ipykernel)",
   "language": "python",
   "name": "python3"
  },
  "language_info": {
   "codemirror_mode": {
    "name": "ipython",
    "version": 3
   },
   "file_extension": ".py",
   "mimetype": "text/x-python",
   "name": "python",
   "nbconvert_exporter": "python",
   "pygments_lexer": "ipython3",
   "version": "3.10.9"
  }
 },
 "nbformat": 4,
 "nbformat_minor": 5
}
